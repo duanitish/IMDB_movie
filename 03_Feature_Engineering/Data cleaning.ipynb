{
 "cells": [
  {
   "cell_type": "markdown",
   "metadata": {},
   "source": [
    "# IMDB 5000 Movie Dataset Data Cleaning\n",
    "\n",
    "================================================================================================================================\n",
    "\n",
    "**AUTHOR**: Mengshan Jin\n",
    "\n",
    "**CREATION DATE**: 07/31/2017\n",
    "\n",
    "================================================================================================================================\n",
    "\n",
    "\n",
    "**PROGRAM DESCRIPTION**: Data cleaning on IMDB 5000 Movie Dataset\n",
    "\n",
    "**INPUT DATASETS**: 01_Data/movie_metadata.csv\n",
    "\n",
    "**OUTPUT DATASETS**: \n",
    "\n",
    "\n",
    "================================================================================================================================\n",
    "**PROGRAM CHANGE HISTORY**\n",
    "\n",
    "Date|Author|Change|\n",
    "----|------|------|"
   ]
  },
  {
   "cell_type": "markdown",
   "metadata": {},
   "source": [
    "# Section 0: Import packages"
   ]
  },
  {
   "cell_type": "code",
   "execution_count": 69,
   "metadata": {},
   "outputs": [],
   "source": [
    "# Data structure\n",
    "import numpy as np\n",
    "import pandas as pd\n",
    "from itertools import chain\n",
    "import copy\n",
    "from collections import Counter\n",
    "\n",
    "# Plotting\n",
    "import matplotlib.pyplot as plt\n",
    "%matplotlib inline\n",
    "import seaborn as sns; sns.set(style=\"ticks\", color_codes=True)\n",
    "\n",
    "# Custom support functions\n",
    "import sys    \n",
    "sys.path.insert(0,\"../03_Feature_Engineering/sklearn-support/\")\n",
    "import support as sup\n",
    "\n",
    "# sklearn\n",
    "from sklearn.preprocessing import LabelEncoder, OneHotEncoder, Imputer, FunctionTransformer\n",
    "from sklearn.pipeline import Pipeline"
   ]
  },
  {
   "cell_type": "markdown",
   "metadata": {},
   "source": [
    "# Section 1: Read data"
   ]
  },
  {
   "cell_type": "code",
   "execution_count": 2,
   "metadata": {
    "collapsed": true
   },
   "outputs": [],
   "source": [
    "imdb = pd.read_csv(\"../01_Data/movie_metadata.csv\")"
   ]
  },
  {
   "cell_type": "code",
   "execution_count": 3,
   "metadata": {
    "collapsed": true
   },
   "outputs": [],
   "source": [
    "imdb['color'] = imdb['color'].str.strip()"
   ]
  },
  {
   "cell_type": "markdown",
   "metadata": {},
   "source": [
    "# Section 2: Impute missing values"
   ]
  },
  {
   "cell_type": "markdown",
   "metadata": {},
   "source": [
    "## Part 1: Inspection"
   ]
  },
  {
   "cell_type": "code",
   "execution_count": 5,
   "metadata": {},
   "outputs": [
    {
     "data": {
      "text/plain": [
       "(5043, 28)"
      ]
     },
     "execution_count": 5,
     "metadata": {},
     "output_type": "execute_result"
    }
   ],
   "source": [
    "imdb.shape"
   ]
  },
  {
   "cell_type": "code",
   "execution_count": 4,
   "metadata": {},
   "outputs": [
    {
     "name": "stdout",
     "output_type": "stream",
     "text": [
      "<class 'pandas.core.frame.DataFrame'>\n",
      "RangeIndex: 5043 entries, 0 to 5042\n",
      "Data columns (total 28 columns):\n",
      "color                        5024 non-null object\n",
      "director_name                4939 non-null object\n",
      "num_critic_for_reviews       4993 non-null float64\n",
      "duration                     5028 non-null float64\n",
      "director_facebook_likes      4939 non-null float64\n",
      "actor_3_facebook_likes       5020 non-null float64\n",
      "actor_2_name                 5030 non-null object\n",
      "actor_1_facebook_likes       5036 non-null float64\n",
      "gross                        4159 non-null float64\n",
      "genres                       5043 non-null object\n",
      "actor_1_name                 5036 non-null object\n",
      "movie_title                  5043 non-null object\n",
      "num_voted_users              5043 non-null int64\n",
      "cast_total_facebook_likes    5043 non-null int64\n",
      "actor_3_name                 5020 non-null object\n",
      "facenumber_in_poster         5030 non-null float64\n",
      "plot_keywords                4890 non-null object\n",
      "movie_imdb_link              5043 non-null object\n",
      "num_user_for_reviews         5022 non-null float64\n",
      "language                     5031 non-null object\n",
      "country                      5038 non-null object\n",
      "content_rating               4740 non-null object\n",
      "budget                       4551 non-null float64\n",
      "title_year                   4935 non-null float64\n",
      "actor_2_facebook_likes       5030 non-null float64\n",
      "imdb_score                   5043 non-null float64\n",
      "aspect_ratio                 4714 non-null float64\n",
      "movie_facebook_likes         5043 non-null int64\n",
      "dtypes: float64(13), int64(3), object(12)\n",
      "memory usage: 1.1+ MB\n"
     ]
    }
   ],
   "source": [
    "imdb.info()"
   ]
  },
  {
   "cell_type": "code",
   "execution_count": 6,
   "metadata": {
    "collapsed": true
   },
   "outputs": [],
   "source": [
    "imdb_modern = imdb.loc[imdb['title_year'] > 1980]"
   ]
  },
  {
   "cell_type": "code",
   "execution_count": 7,
   "metadata": {},
   "outputs": [
    {
     "data": {
      "text/plain": [
       "(4650, 28)"
      ]
     },
     "execution_count": 7,
     "metadata": {},
     "output_type": "execute_result"
    }
   ],
   "source": [
    "imdb_modern.shape"
   ]
  },
  {
   "cell_type": "code",
   "execution_count": 8,
   "metadata": {},
   "outputs": [
    {
     "name": "stdout",
     "output_type": "stream",
     "text": [
      "<class 'pandas.core.frame.DataFrame'>\n",
      "Int64Index: 4650 entries, 0 to 5042\n",
      "Data columns (total 28 columns):\n",
      "color                        4635 non-null object\n",
      "director_name                4650 non-null object\n",
      "num_critic_for_reviews       4609 non-null float64\n",
      "duration                     4638 non-null float64\n",
      "director_facebook_likes      4650 non-null float64\n",
      "actor_3_facebook_likes       4634 non-null float64\n",
      "actor_2_name                 4640 non-null object\n",
      "actor_1_facebook_likes       4643 non-null float64\n",
      "gross                        4040 non-null float64\n",
      "genres                       4650 non-null object\n",
      "actor_1_name                 4643 non-null object\n",
      "movie_title                  4650 non-null object\n",
      "num_voted_users              4650 non-null int64\n",
      "cast_total_facebook_likes    4650 non-null int64\n",
      "actor_3_name                 4634 non-null object\n",
      "facenumber_in_poster         4637 non-null float64\n",
      "plot_keywords                4510 non-null object\n",
      "movie_imdb_link              4650 non-null object\n",
      "num_user_for_reviews         4635 non-null float64\n",
      "language                     4645 non-null object\n",
      "country                      4649 non-null object\n",
      "content_rating               4395 non-null object\n",
      "budget                       4277 non-null float64\n",
      "title_year                   4650 non-null float64\n",
      "actor_2_facebook_likes       4640 non-null float64\n",
      "imdb_score                   4650 non-null float64\n",
      "aspect_ratio                 4346 non-null float64\n",
      "movie_facebook_likes         4650 non-null int64\n",
      "dtypes: float64(13), int64(3), object(12)\n",
      "memory usage: 1.0+ MB\n"
     ]
    }
   ],
   "source": [
    "imdb_modern.info()"
   ]
  },
  {
   "cell_type": "code",
   "execution_count": 16,
   "metadata": {
    "collapsed": true
   },
   "outputs": [],
   "source": [
    "imdb_modern.to_csv(\"../01_Data/movie_metadata_modern.csv\", index=False)"
   ]
  },
  {
   "cell_type": "code",
   "execution_count": 107,
   "metadata": {},
   "outputs": [],
   "source": [
    "imdb_modern = pd.read_csv(\"../01_Data/movie_metadata_modern.csv\")"
   ]
  },
  {
   "cell_type": "markdown",
   "metadata": {},
   "source": [
    "### Question: Depending on title_year?"
   ]
  },
  {
   "cell_type": "code",
   "execution_count": 28,
   "metadata": {},
   "outputs": [
    {
     "data": {
      "text/plain": [
       "2014.0    55\n",
       "2015.0    52\n",
       "2013.0    30\n",
       "2016.0    21\n",
       "2012.0    20\n",
       "2011.0    17\n",
       "2009.0    15\n",
       "2010.0    15\n",
       "2004.0    10\n",
       "2005.0     9\n",
       "2006.0     8\n",
       "2007.0     8\n",
       "1997.0     6\n",
       "2000.0     5\n",
       "1998.0     5\n",
       "1999.0     5\n",
       "2008.0     4\n",
       "2003.0     4\n",
       "2002.0     3\n",
       "1982.0     2\n",
       "1983.0     2\n",
       "1990.0     2\n",
       "2001.0     1\n",
       "1995.0     1\n",
       "1987.0     1\n",
       "1996.0     1\n",
       "1994.0     1\n",
       "1985.0     1\n",
       "Name: title_year, dtype: int64"
      ]
     },
     "execution_count": 28,
     "metadata": {},
     "output_type": "execute_result"
    }
   ],
   "source": [
    "imdb_modern.loc[imdb_modern['aspect_ratio'].isnull()]['title_year'].value_counts()\n",
    "# It looks pretty random, can impute with median"
   ]
  },
  {
   "cell_type": "code",
   "execution_count": 29,
   "metadata": {},
   "outputs": [
    {
     "data": {
      "text/plain": [
       "2014.0    4\n",
       "2012.0    2\n",
       "2011.0    2\n",
       "2015.0    2\n",
       "1990.0    1\n",
       "2013.0    1\n",
       "2016.0    1\n",
       "2009.0    1\n",
       "2010.0    1\n",
       "Name: title_year, dtype: int64"
      ]
     },
     "execution_count": 29,
     "metadata": {},
     "output_type": "execute_result"
    }
   ],
   "source": [
    "imdb_modern.loc[imdb_modern['color'].isnull()]['title_year'].value_counts()\n",
    "# same here"
   ]
  },
  {
   "cell_type": "markdown",
   "metadata": {},
   "source": [
    "## Part 2: Preprocessing\n",
    "1. aspect_ratio: replace 16 with 1.85\n",
    "2. content_rating: replace \"Not Rated\" and NaN with \"Unrated\"\n",
    "3. remove movie_imdb_link"
   ]
  },
  {
   "cell_type": "code",
   "execution_count": 108,
   "metadata": {},
   "outputs": [],
   "source": [
    "imdb_modern['aspect_ratio'] = imdb_modern['aspect_ratio'].apply(lambda x: 1.85 if x == 16 else x)"
   ]
  },
  {
   "cell_type": "code",
   "execution_count": 109,
   "metadata": {},
   "outputs": [
    {
     "data": {
      "text/plain": [
       "count    4346.000000\n",
       "mean        2.102609\n",
       "std         0.269304\n",
       "min         1.180000\n",
       "25%         1.850000\n",
       "50%         2.350000\n",
       "75%         2.350000\n",
       "max         2.760000\n",
       "Name: aspect_ratio, dtype: float64"
      ]
     },
     "execution_count": 109,
     "metadata": {},
     "output_type": "execute_result"
    }
   ],
   "source": [
    "imdb_modern['aspect_ratio'].describe()"
   ]
  },
  {
   "cell_type": "code",
   "execution_count": 110,
   "metadata": {
    "collapsed": true
   },
   "outputs": [],
   "source": [
    "imdb_modern['content_rating'] = imdb_modern['content_rating'].apply(lambda x: \"Unrated\" if x == \"Not Rated\" or pd.isnull(x) else x)"
   ]
  },
  {
   "cell_type": "code",
   "execution_count": 111,
   "metadata": {},
   "outputs": [
    {
     "data": {
      "text/plain": [
       "R          2060\n",
       "PG-13      1457\n",
       "PG          631\n",
       "Unrated     389\n",
       "G            89\n",
       "X             9\n",
       "NC-17         6\n",
       "TV-14         3\n",
       "TV-G          3\n",
       "TV-PG         3\n",
       "Name: content_rating, dtype: int64"
      ]
     },
     "execution_count": 111,
     "metadata": {},
     "output_type": "execute_result"
    }
   ],
   "source": [
    "imdb_modern['content_rating'].value_counts()"
   ]
  },
  {
   "cell_type": "code",
   "execution_count": 91,
   "metadata": {
    "collapsed": true
   },
   "outputs": [],
   "source": [
    "imdb_modern = imdb_modern.drop('movie_imdb_link', 1)"
   ]
  },
  {
   "cell_type": "markdown",
   "metadata": {},
   "source": [
    "## Part 3: Handle genres and plot_keywords"
   ]
  },
  {
   "cell_type": "code",
   "execution_count": 112,
   "metadata": {
    "collapsed": true
   },
   "outputs": [],
   "source": [
    "dtmp = imdb_modern['genres'].apply(lambda x: '|'.join(pd.Series(x))).str.get_dummies()"
   ]
  },
  {
   "cell_type": "code",
   "execution_count": 115,
   "metadata": {},
   "outputs": [],
   "source": [
    "imdb_modern = pd.concat([imdb_modern, dtmp], axis=1)\n",
    "imdb_modern = imdb_modern.drop('genres', 1)"
   ]
  },
  {
   "cell_type": "markdown",
   "metadata": {},
   "source": [
    "### ==>Task to do<==\n",
    "Add \"keyword\" before each keyword, e.g. the column name should be like \"keyword_love\""
   ]
  },
  {
   "cell_type": "code",
   "execution_count": 99,
   "metadata": {},
   "outputs": [],
   "source": [
    "imdb_modern['keywords_list'] = imdb_modern['plot_keywords'].apply(lambda x: x.split('|') if pd.notnull(x) else x)"
   ]
  },
  {
   "cell_type": "code",
   "execution_count": 102,
   "metadata": {},
   "outputs": [],
   "source": [
    "plot_keywords = Counter([item for sublist in list(imdb_modern['plot_keywords'].str.split('|')) if sublist is not np.nan for item in sublist])\n",
    "plot_keywords = pd.DataFrame(plot_keywords.most_common()).set_index([0], drop=True)\n",
    "del plot_keywords.index.name\n",
    "plot_keywords.columns = ['Count']"
   ]
  },
  {
   "cell_type": "code",
   "execution_count": 106,
   "metadata": {},
   "outputs": [
    {
     "data": {
      "text/html": [
       "<div>\n",
       "<style>\n",
       "    .dataframe thead tr:only-child th {\n",
       "        text-align: right;\n",
       "    }\n",
       "\n",
       "    .dataframe thead th {\n",
       "        text-align: left;\n",
       "    }\n",
       "\n",
       "    .dataframe tbody tr th {\n",
       "        vertical-align: top;\n",
       "    }\n",
       "</style>\n",
       "<table border=\"1\" class=\"dataframe\">\n",
       "  <thead>\n",
       "    <tr style=\"text-align: right;\">\n",
       "      <th></th>\n",
       "      <th>Count</th>\n",
       "    </tr>\n",
       "  </thead>\n",
       "  <tbody>\n",
       "    <tr>\n",
       "      <th>love</th>\n",
       "      <td>182</td>\n",
       "    </tr>\n",
       "    <tr>\n",
       "      <th>friend</th>\n",
       "      <td>153</td>\n",
       "    </tr>\n",
       "    <tr>\n",
       "      <th>murder</th>\n",
       "      <td>146</td>\n",
       "    </tr>\n",
       "    <tr>\n",
       "      <th>death</th>\n",
       "      <td>121</td>\n",
       "    </tr>\n",
       "    <tr>\n",
       "      <th>police</th>\n",
       "      <td>114</td>\n",
       "    </tr>\n",
       "    <tr>\n",
       "      <th>high school</th>\n",
       "      <td>84</td>\n",
       "    </tr>\n",
       "    <tr>\n",
       "      <th>new york city</th>\n",
       "      <td>84</td>\n",
       "    </tr>\n",
       "    <tr>\n",
       "      <th>alien</th>\n",
       "      <td>74</td>\n",
       "    </tr>\n",
       "    <tr>\n",
       "      <th>school</th>\n",
       "      <td>71</td>\n",
       "    </tr>\n",
       "    <tr>\n",
       "      <th>boy</th>\n",
       "      <td>70</td>\n",
       "    </tr>\n",
       "    <tr>\n",
       "      <th>fbi</th>\n",
       "      <td>67</td>\n",
       "    </tr>\n",
       "    <tr>\n",
       "      <th>friendship</th>\n",
       "      <td>63</td>\n",
       "    </tr>\n",
       "    <tr>\n",
       "      <th>drugs</th>\n",
       "      <td>62</td>\n",
       "    </tr>\n",
       "    <tr>\n",
       "      <th>revenge</th>\n",
       "      <td>61</td>\n",
       "    </tr>\n",
       "    <tr>\n",
       "      <th>prison</th>\n",
       "      <td>59</td>\n",
       "    </tr>\n",
       "    <tr>\n",
       "      <th>marriage</th>\n",
       "      <td>58</td>\n",
       "    </tr>\n",
       "    <tr>\n",
       "      <th>dog</th>\n",
       "      <td>55</td>\n",
       "    </tr>\n",
       "    <tr>\n",
       "      <th>party</th>\n",
       "      <td>53</td>\n",
       "    </tr>\n",
       "    <tr>\n",
       "      <th>island</th>\n",
       "      <td>52</td>\n",
       "    </tr>\n",
       "    <tr>\n",
       "      <th>money</th>\n",
       "      <td>51</td>\n",
       "    </tr>\n",
       "    <tr>\n",
       "      <th>sex</th>\n",
       "      <td>50</td>\n",
       "    </tr>\n",
       "    <tr>\n",
       "      <th>wedding</th>\n",
       "      <td>50</td>\n",
       "    </tr>\n",
       "    <tr>\n",
       "      <th>box office flop</th>\n",
       "      <td>49</td>\n",
       "    </tr>\n",
       "    <tr>\n",
       "      <th>female protagonist</th>\n",
       "      <td>49</td>\n",
       "    </tr>\n",
       "    <tr>\n",
       "      <th>escape</th>\n",
       "      <td>49</td>\n",
       "    </tr>\n",
       "    <tr>\n",
       "      <th>teenager</th>\n",
       "      <td>47</td>\n",
       "    </tr>\n",
       "    <tr>\n",
       "      <th>detective</th>\n",
       "      <td>47</td>\n",
       "    </tr>\n",
       "    <tr>\n",
       "      <th>vomiting</th>\n",
       "      <td>46</td>\n",
       "    </tr>\n",
       "    <tr>\n",
       "      <th>rescue</th>\n",
       "      <td>46</td>\n",
       "    </tr>\n",
       "    <tr>\n",
       "      <th>serial killer</th>\n",
       "      <td>46</td>\n",
       "    </tr>\n",
       "    <tr>\n",
       "      <th>...</th>\n",
       "      <td>...</td>\n",
       "    </tr>\n",
       "    <tr>\n",
       "      <th>scientist</th>\n",
       "      <td>41</td>\n",
       "    </tr>\n",
       "    <tr>\n",
       "      <th>vampire</th>\n",
       "      <td>40</td>\n",
       "    </tr>\n",
       "    <tr>\n",
       "      <th>hotel</th>\n",
       "      <td>40</td>\n",
       "    </tr>\n",
       "    <tr>\n",
       "      <th>king</th>\n",
       "      <td>40</td>\n",
       "    </tr>\n",
       "    <tr>\n",
       "      <th>male nudity</th>\n",
       "      <td>39</td>\n",
       "    </tr>\n",
       "    <tr>\n",
       "      <th>student</th>\n",
       "      <td>39</td>\n",
       "    </tr>\n",
       "    <tr>\n",
       "      <th>writer</th>\n",
       "      <td>38</td>\n",
       "    </tr>\n",
       "    <tr>\n",
       "      <th>teacher</th>\n",
       "      <td>38</td>\n",
       "    </tr>\n",
       "    <tr>\n",
       "      <th>singer</th>\n",
       "      <td>37</td>\n",
       "    </tr>\n",
       "    <tr>\n",
       "      <th>small town</th>\n",
       "      <td>37</td>\n",
       "    </tr>\n",
       "    <tr>\n",
       "      <th>texas</th>\n",
       "      <td>37</td>\n",
       "    </tr>\n",
       "    <tr>\n",
       "      <th>president</th>\n",
       "      <td>37</td>\n",
       "    </tr>\n",
       "    <tr>\n",
       "      <th>girl</th>\n",
       "      <td>37</td>\n",
       "    </tr>\n",
       "    <tr>\n",
       "      <th>sequel</th>\n",
       "      <td>37</td>\n",
       "    </tr>\n",
       "    <tr>\n",
       "      <th>future</th>\n",
       "      <td>36</td>\n",
       "    </tr>\n",
       "    <tr>\n",
       "      <th>doctor</th>\n",
       "      <td>35</td>\n",
       "    </tr>\n",
       "    <tr>\n",
       "      <th>violence</th>\n",
       "      <td>35</td>\n",
       "    </tr>\n",
       "    <tr>\n",
       "      <th>cult film</th>\n",
       "      <td>35</td>\n",
       "    </tr>\n",
       "    <tr>\n",
       "      <th>ghost</th>\n",
       "      <td>34</td>\n",
       "    </tr>\n",
       "    <tr>\n",
       "      <th>spy</th>\n",
       "      <td>34</td>\n",
       "    </tr>\n",
       "    <tr>\n",
       "      <th>assassin</th>\n",
       "      <td>34</td>\n",
       "    </tr>\n",
       "    <tr>\n",
       "      <th>blood</th>\n",
       "      <td>34</td>\n",
       "    </tr>\n",
       "    <tr>\n",
       "      <th>critically bashed</th>\n",
       "      <td>33</td>\n",
       "    </tr>\n",
       "    <tr>\n",
       "      <th>new york</th>\n",
       "      <td>33</td>\n",
       "    </tr>\n",
       "    <tr>\n",
       "      <th>actor</th>\n",
       "      <td>32</td>\n",
       "    </tr>\n",
       "    <tr>\n",
       "      <th>neighbor</th>\n",
       "      <td>32</td>\n",
       "    </tr>\n",
       "    <tr>\n",
       "      <th>breasts</th>\n",
       "      <td>32</td>\n",
       "    </tr>\n",
       "    <tr>\n",
       "      <th>baby</th>\n",
       "      <td>31</td>\n",
       "    </tr>\n",
       "    <tr>\n",
       "      <th>dream</th>\n",
       "      <td>31</td>\n",
       "    </tr>\n",
       "    <tr>\n",
       "      <th>bar</th>\n",
       "      <td>31</td>\n",
       "    </tr>\n",
       "  </tbody>\n",
       "</table>\n",
       "<p>72 rows × 1 columns</p>\n",
       "</div>"
      ],
      "text/plain": [
       "                    Count\n",
       "love                  182\n",
       "friend                153\n",
       "murder                146\n",
       "death                 121\n",
       "police                114\n",
       "high school            84\n",
       "new york city          84\n",
       "alien                  74\n",
       "school                 71\n",
       "boy                    70\n",
       "fbi                    67\n",
       "friendship             63\n",
       "drugs                  62\n",
       "revenge                61\n",
       "prison                 59\n",
       "marriage               58\n",
       "dog                    55\n",
       "party                  53\n",
       "island                 52\n",
       "money                  51\n",
       "sex                    50\n",
       "wedding                50\n",
       "box office flop        49\n",
       "female protagonist     49\n",
       "escape                 49\n",
       "teenager               47\n",
       "detective              47\n",
       "vomiting               46\n",
       "rescue                 46\n",
       "serial killer          46\n",
       "...                   ...\n",
       "scientist              41\n",
       "vampire                40\n",
       "hotel                  40\n",
       "king                   40\n",
       "male nudity            39\n",
       "student                39\n",
       "writer                 38\n",
       "teacher                38\n",
       "singer                 37\n",
       "small town             37\n",
       "texas                  37\n",
       "president              37\n",
       "girl                   37\n",
       "sequel                 37\n",
       "future                 36\n",
       "doctor                 35\n",
       "violence               35\n",
       "cult film              35\n",
       "ghost                  34\n",
       "spy                    34\n",
       "assassin               34\n",
       "blood                  34\n",
       "critically bashed      33\n",
       "new york               33\n",
       "actor                  32\n",
       "neighbor               32\n",
       "breasts                32\n",
       "baby                   31\n",
       "dream                  31\n",
       "bar                    31\n",
       "\n",
       "[72 rows x 1 columns]"
      ]
     },
     "execution_count": 106,
     "metadata": {},
     "output_type": "execute_result"
    }
   ],
   "source": [
    "plot_keywords.loc[plot_keywords['Count']>30]"
   ]
  },
  {
   "cell_type": "markdown",
   "metadata": {},
   "source": [
    "## Part 4: Use Transformers to impute missing values"
   ]
  },
  {
   "cell_type": "code",
   "execution_count": 48,
   "metadata": {},
   "outputs": [],
   "source": [
    "clean_pipe = Pipeline([\n",
    "    ('impute_with_unknown', sup.UnknownImputer(['actor_1_name', 'actor_2_name', 'actor_3_name', 'country', 'director_name',\n",
    "                                                'genres', 'language', 'movie_title', 'plot_keywords'])),\n",
    "    ('combine_small_categories', sup.SmallCategoryCombiner(['country', 'language', 'actor_1_name', 'actor_2_name',\n",
    "                                                            'actor_3_name', 'director_name'])),\n",
    "    ('convert_to_category', sup.DtypeConverter(['color', 'content_rating', 'country', 'language', 'actor_1_name', \n",
    "                                                'actor_2_name', 'actor_3_name', 'director_name'])),\n",
    "    ('create_dummies', sup.CategoricalTransformer()),\n",
    "    ('impute_missings', Imputer(strategy='median'))\n",
    "])"
   ]
  },
  {
   "cell_type": "code",
   "execution_count": 58,
   "metadata": {},
   "outputs": [],
   "source": [
    "imdb_modern_cleaned = copy.deepcopy(imdb_modern)\n",
    "for i in range(len(clean_pipe.steps)-1):\n",
    "    imdb_modern_cleaned = clean_pipe.steps[i][1].fit_transform(imdb_modern_cleaned)\n",
    "# genres, movie_title and plot_keywords were not handled appropriately"
   ]
  },
  {
   "cell_type": "code",
   "execution_count": 59,
   "metadata": {},
   "outputs": [
    {
     "data": {
      "text/plain": [
       "(4650, 188)"
      ]
     },
     "execution_count": 59,
     "metadata": {},
     "output_type": "execute_result"
    }
   ],
   "source": [
    "imdb_modern_cleaned.shape"
   ]
  },
  {
   "cell_type": "code",
   "execution_count": 60,
   "metadata": {},
   "outputs": [
    {
     "data": {
      "text/html": [
       "<div>\n",
       "<style>\n",
       "    .dataframe thead tr:only-child th {\n",
       "        text-align: right;\n",
       "    }\n",
       "\n",
       "    .dataframe thead th {\n",
       "        text-align: left;\n",
       "    }\n",
       "\n",
       "    .dataframe tbody tr th {\n",
       "        vertical-align: top;\n",
       "    }\n",
       "</style>\n",
       "<table border=\"1\" class=\"dataframe\">\n",
       "  <thead>\n",
       "    <tr style=\"text-align: right;\">\n",
       "      <th></th>\n",
       "      <th>num_critic_for_reviews</th>\n",
       "      <th>duration</th>\n",
       "      <th>director_facebook_likes</th>\n",
       "      <th>actor_3_facebook_likes</th>\n",
       "      <th>actor_1_facebook_likes</th>\n",
       "      <th>gross</th>\n",
       "      <th>genres</th>\n",
       "      <th>movie_title</th>\n",
       "      <th>num_voted_users</th>\n",
       "      <th>cast_total_facebook_likes</th>\n",
       "      <th>...</th>\n",
       "      <th>content_rating_G</th>\n",
       "      <th>content_rating_NC-17</th>\n",
       "      <th>content_rating_PG</th>\n",
       "      <th>content_rating_PG-13</th>\n",
       "      <th>content_rating_R</th>\n",
       "      <th>content_rating_TV-14</th>\n",
       "      <th>content_rating_TV-G</th>\n",
       "      <th>content_rating_TV-PG</th>\n",
       "      <th>content_rating_Unrated</th>\n",
       "      <th>content_rating_X</th>\n",
       "    </tr>\n",
       "  </thead>\n",
       "  <tbody>\n",
       "    <tr>\n",
       "      <th>0</th>\n",
       "      <td>723.0</td>\n",
       "      <td>178.0</td>\n",
       "      <td>0.0</td>\n",
       "      <td>855.0</td>\n",
       "      <td>1000.0</td>\n",
       "      <td>760505847.0</td>\n",
       "      <td>0.0</td>\n",
       "      <td>0.0</td>\n",
       "      <td>886204</td>\n",
       "      <td>4834</td>\n",
       "      <td>...</td>\n",
       "      <td>0</td>\n",
       "      <td>0</td>\n",
       "      <td>0</td>\n",
       "      <td>1</td>\n",
       "      <td>0</td>\n",
       "      <td>0</td>\n",
       "      <td>0</td>\n",
       "      <td>0</td>\n",
       "      <td>0</td>\n",
       "      <td>0</td>\n",
       "    </tr>\n",
       "    <tr>\n",
       "      <th>1</th>\n",
       "      <td>302.0</td>\n",
       "      <td>169.0</td>\n",
       "      <td>563.0</td>\n",
       "      <td>1000.0</td>\n",
       "      <td>40000.0</td>\n",
       "      <td>309404152.0</td>\n",
       "      <td>0.0</td>\n",
       "      <td>0.0</td>\n",
       "      <td>471220</td>\n",
       "      <td>48350</td>\n",
       "      <td>...</td>\n",
       "      <td>0</td>\n",
       "      <td>0</td>\n",
       "      <td>0</td>\n",
       "      <td>1</td>\n",
       "      <td>0</td>\n",
       "      <td>0</td>\n",
       "      <td>0</td>\n",
       "      <td>0</td>\n",
       "      <td>0</td>\n",
       "      <td>0</td>\n",
       "    </tr>\n",
       "    <tr>\n",
       "      <th>2</th>\n",
       "      <td>602.0</td>\n",
       "      <td>148.0</td>\n",
       "      <td>0.0</td>\n",
       "      <td>161.0</td>\n",
       "      <td>11000.0</td>\n",
       "      <td>200074175.0</td>\n",
       "      <td>0.0</td>\n",
       "      <td>0.0</td>\n",
       "      <td>275868</td>\n",
       "      <td>11700</td>\n",
       "      <td>...</td>\n",
       "      <td>0</td>\n",
       "      <td>0</td>\n",
       "      <td>0</td>\n",
       "      <td>1</td>\n",
       "      <td>0</td>\n",
       "      <td>0</td>\n",
       "      <td>0</td>\n",
       "      <td>0</td>\n",
       "      <td>0</td>\n",
       "      <td>0</td>\n",
       "    </tr>\n",
       "    <tr>\n",
       "      <th>3</th>\n",
       "      <td>813.0</td>\n",
       "      <td>164.0</td>\n",
       "      <td>22000.0</td>\n",
       "      <td>23000.0</td>\n",
       "      <td>27000.0</td>\n",
       "      <td>448130642.0</td>\n",
       "      <td>0.0</td>\n",
       "      <td>0.0</td>\n",
       "      <td>1144337</td>\n",
       "      <td>106759</td>\n",
       "      <td>...</td>\n",
       "      <td>0</td>\n",
       "      <td>0</td>\n",
       "      <td>0</td>\n",
       "      <td>1</td>\n",
       "      <td>0</td>\n",
       "      <td>0</td>\n",
       "      <td>0</td>\n",
       "      <td>0</td>\n",
       "      <td>0</td>\n",
       "      <td>0</td>\n",
       "    </tr>\n",
       "    <tr>\n",
       "      <th>4</th>\n",
       "      <td>462.0</td>\n",
       "      <td>132.0</td>\n",
       "      <td>475.0</td>\n",
       "      <td>530.0</td>\n",
       "      <td>640.0</td>\n",
       "      <td>73058679.0</td>\n",
       "      <td>0.0</td>\n",
       "      <td>0.0</td>\n",
       "      <td>212204</td>\n",
       "      <td>1873</td>\n",
       "      <td>...</td>\n",
       "      <td>0</td>\n",
       "      <td>0</td>\n",
       "      <td>0</td>\n",
       "      <td>1</td>\n",
       "      <td>0</td>\n",
       "      <td>0</td>\n",
       "      <td>0</td>\n",
       "      <td>0</td>\n",
       "      <td>0</td>\n",
       "      <td>0</td>\n",
       "    </tr>\n",
       "  </tbody>\n",
       "</table>\n",
       "<p>5 rows × 188 columns</p>\n",
       "</div>"
      ],
      "text/plain": [
       "   num_critic_for_reviews  duration  director_facebook_likes  \\\n",
       "0                   723.0     178.0                      0.0   \n",
       "1                   302.0     169.0                    563.0   \n",
       "2                   602.0     148.0                      0.0   \n",
       "3                   813.0     164.0                  22000.0   \n",
       "4                   462.0     132.0                    475.0   \n",
       "\n",
       "   actor_3_facebook_likes  actor_1_facebook_likes        gross  genres  \\\n",
       "0                   855.0                  1000.0  760505847.0     0.0   \n",
       "1                  1000.0                 40000.0  309404152.0     0.0   \n",
       "2                   161.0                 11000.0  200074175.0     0.0   \n",
       "3                 23000.0                 27000.0  448130642.0     0.0   \n",
       "4                   530.0                   640.0   73058679.0     0.0   \n",
       "\n",
       "   movie_title  num_voted_users  cast_total_facebook_likes        ...         \\\n",
       "0          0.0           886204                       4834        ...          \n",
       "1          0.0           471220                      48350        ...          \n",
       "2          0.0           275868                      11700        ...          \n",
       "3          0.0          1144337                     106759        ...          \n",
       "4          0.0           212204                       1873        ...          \n",
       "\n",
       "   content_rating_G  content_rating_NC-17  content_rating_PG  \\\n",
       "0                 0                     0                  0   \n",
       "1                 0                     0                  0   \n",
       "2                 0                     0                  0   \n",
       "3                 0                     0                  0   \n",
       "4                 0                     0                  0   \n",
       "\n",
       "   content_rating_PG-13  content_rating_R  content_rating_TV-14  \\\n",
       "0                     1                 0                     0   \n",
       "1                     1                 0                     0   \n",
       "2                     1                 0                     0   \n",
       "3                     1                 0                     0   \n",
       "4                     1                 0                     0   \n",
       "\n",
       "   content_rating_TV-G  content_rating_TV-PG  content_rating_Unrated  \\\n",
       "0                    0                     0                       0   \n",
       "1                    0                     0                       0   \n",
       "2                    0                     0                       0   \n",
       "3                    0                     0                       0   \n",
       "4                    0                     0                       0   \n",
       "\n",
       "   content_rating_X  \n",
       "0                 0  \n",
       "1                 0  \n",
       "2                 0  \n",
       "3                 0  \n",
       "4                 0  \n",
       "\n",
       "[5 rows x 188 columns]"
      ]
     },
     "execution_count": 60,
     "metadata": {},
     "output_type": "execute_result"
    }
   ],
   "source": [
    "imdb_modern_cleaned.head()"
   ]
  },
  {
   "cell_type": "code",
   "execution_count": 63,
   "metadata": {},
   "outputs": [],
   "source": [
    "imdb_modern_cleaned_final = pd.DataFrame(clean_pipe.steps[4][1].fit_transform(imdb_modern_cleaned), columns=imdb_modern_cleaned.columns)"
   ]
  }
 ],
 "metadata": {
  "kernelspec": {
   "display_name": "Python 2",
   "language": "python",
   "name": "python2"
  },
  "language_info": {
   "codemirror_mode": {
    "name": "ipython",
    "version": 2
   },
   "file_extension": ".py",
   "mimetype": "text/x-python",
   "name": "python",
   "nbconvert_exporter": "python",
   "pygments_lexer": "ipython2",
   "version": "2.7.13"
  }
 },
 "nbformat": 4,
 "nbformat_minor": 2
}
