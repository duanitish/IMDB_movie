{
 "cells": [
  {
   "cell_type": "code",
   "execution_count": 4,
   "metadata": {
    "collapsed": true
   },
   "outputs": [],
   "source": [
    "import numpy as np\n",
    "import pandas as pd\n",
    "import re\n",
    "import itertools\n",
    "from collections import Counter"
   ]
  },
  {
   "cell_type": "code",
   "execution_count": 21,
   "metadata": {
    "collapsed": true
   },
   "outputs": [],
   "source": [
    "imdb = pd.read_csv(\"../../01_Data/Outputs/storyline_with_genres.csv\", index_col=0)"
   ]
  },
  {
   "cell_type": "code",
   "execution_count": 3,
   "metadata": {},
   "outputs": [
    {
     "data": {
      "text/html": [
       "<div>\n",
       "<style>\n",
       "    .dataframe thead tr:only-child th {\n",
       "        text-align: right;\n",
       "    }\n",
       "\n",
       "    .dataframe thead th {\n",
       "        text-align: left;\n",
       "    }\n",
       "\n",
       "    .dataframe tbody tr th {\n",
       "        vertical-align: top;\n",
       "    }\n",
       "</style>\n",
       "<table border=\"1\" class=\"dataframe\">\n",
       "  <thead>\n",
       "    <tr style=\"text-align: right;\">\n",
       "      <th></th>\n",
       "      <th>storyline</th>\n",
       "      <th>Drama</th>\n",
       "      <th>Comedy</th>\n",
       "      <th>Thriller</th>\n",
       "      <th>Action</th>\n",
       "      <th>Romance</th>\n",
       "      <th>Adventure</th>\n",
       "      <th>Crime</th>\n",
       "      <th>Sci-Fi</th>\n",
       "      <th>Fantasy</th>\n",
       "      <th>...</th>\n",
       "      <th>Biography</th>\n",
       "      <th>Animation</th>\n",
       "      <th>Music</th>\n",
       "      <th>War</th>\n",
       "      <th>History</th>\n",
       "      <th>Sport</th>\n",
       "      <th>Musical</th>\n",
       "      <th>Documentary</th>\n",
       "      <th>Western</th>\n",
       "      <th>Others</th>\n",
       "    </tr>\n",
       "    <tr>\n",
       "      <th>movie_title</th>\n",
       "      <th></th>\n",
       "      <th></th>\n",
       "      <th></th>\n",
       "      <th></th>\n",
       "      <th></th>\n",
       "      <th></th>\n",
       "      <th></th>\n",
       "      <th></th>\n",
       "      <th></th>\n",
       "      <th></th>\n",
       "      <th></th>\n",
       "      <th></th>\n",
       "      <th></th>\n",
       "      <th></th>\n",
       "      <th></th>\n",
       "      <th></th>\n",
       "      <th></th>\n",
       "      <th></th>\n",
       "      <th></th>\n",
       "      <th></th>\n",
       "      <th></th>\n",
       "    </tr>\n",
       "  </thead>\n",
       "  <tbody>\n",
       "    <tr>\n",
       "      <th>Avatar</th>\n",
       "      <td>When his brother is killed in a robbery, parap...</td>\n",
       "      <td>0</td>\n",
       "      <td>0</td>\n",
       "      <td>0</td>\n",
       "      <td>1</td>\n",
       "      <td>0</td>\n",
       "      <td>1</td>\n",
       "      <td>0</td>\n",
       "      <td>1</td>\n",
       "      <td>1</td>\n",
       "      <td>...</td>\n",
       "      <td>0</td>\n",
       "      <td>0</td>\n",
       "      <td>0</td>\n",
       "      <td>0</td>\n",
       "      <td>0</td>\n",
       "      <td>0</td>\n",
       "      <td>0</td>\n",
       "      <td>0</td>\n",
       "      <td>0</td>\n",
       "      <td>0</td>\n",
       "    </tr>\n",
       "    <tr>\n",
       "      <th>Pirates of the Caribbean: At World's End</th>\n",
       "      <td>After Elizabeth, Will, and Captain Barbossa re...</td>\n",
       "      <td>0</td>\n",
       "      <td>0</td>\n",
       "      <td>0</td>\n",
       "      <td>1</td>\n",
       "      <td>0</td>\n",
       "      <td>1</td>\n",
       "      <td>0</td>\n",
       "      <td>0</td>\n",
       "      <td>1</td>\n",
       "      <td>...</td>\n",
       "      <td>0</td>\n",
       "      <td>0</td>\n",
       "      <td>0</td>\n",
       "      <td>0</td>\n",
       "      <td>0</td>\n",
       "      <td>0</td>\n",
       "      <td>0</td>\n",
       "      <td>0</td>\n",
       "      <td>0</td>\n",
       "      <td>0</td>\n",
       "    </tr>\n",
       "    <tr>\n",
       "      <th>Spectre</th>\n",
       "      <td>A cryptic message from the past sends James Bo...</td>\n",
       "      <td>0</td>\n",
       "      <td>0</td>\n",
       "      <td>1</td>\n",
       "      <td>1</td>\n",
       "      <td>0</td>\n",
       "      <td>1</td>\n",
       "      <td>0</td>\n",
       "      <td>0</td>\n",
       "      <td>0</td>\n",
       "      <td>...</td>\n",
       "      <td>0</td>\n",
       "      <td>0</td>\n",
       "      <td>0</td>\n",
       "      <td>0</td>\n",
       "      <td>0</td>\n",
       "      <td>0</td>\n",
       "      <td>0</td>\n",
       "      <td>0</td>\n",
       "      <td>0</td>\n",
       "      <td>0</td>\n",
       "    </tr>\n",
       "    <tr>\n",
       "      <th>The Dark Knight Rises</th>\n",
       "      <td>Despite his tarnished reputation after the eve...</td>\n",
       "      <td>0</td>\n",
       "      <td>0</td>\n",
       "      <td>1</td>\n",
       "      <td>1</td>\n",
       "      <td>0</td>\n",
       "      <td>0</td>\n",
       "      <td>0</td>\n",
       "      <td>0</td>\n",
       "      <td>0</td>\n",
       "      <td>...</td>\n",
       "      <td>0</td>\n",
       "      <td>0</td>\n",
       "      <td>0</td>\n",
       "      <td>0</td>\n",
       "      <td>0</td>\n",
       "      <td>0</td>\n",
       "      <td>0</td>\n",
       "      <td>0</td>\n",
       "      <td>0</td>\n",
       "      <td>0</td>\n",
       "    </tr>\n",
       "    <tr>\n",
       "      <th>Star Wars: Episode VII - The Force Awakens</th>\n",
       "      <td>NaN</td>\n",
       "      <td>0</td>\n",
       "      <td>0</td>\n",
       "      <td>0</td>\n",
       "      <td>0</td>\n",
       "      <td>0</td>\n",
       "      <td>0</td>\n",
       "      <td>0</td>\n",
       "      <td>0</td>\n",
       "      <td>0</td>\n",
       "      <td>...</td>\n",
       "      <td>0</td>\n",
       "      <td>0</td>\n",
       "      <td>0</td>\n",
       "      <td>0</td>\n",
       "      <td>0</td>\n",
       "      <td>0</td>\n",
       "      <td>0</td>\n",
       "      <td>1</td>\n",
       "      <td>0</td>\n",
       "      <td>0</td>\n",
       "    </tr>\n",
       "  </tbody>\n",
       "</table>\n",
       "<p>5 rows × 23 columns</p>\n",
       "</div>"
      ],
      "text/plain": [
       "                                                                                            storyline  \\\n",
       "movie_title                                                                                             \n",
       "Avatar                                              When his brother is killed in a robbery, parap...   \n",
       "Pirates of the Caribbean: At World's End            After Elizabeth, Will, and Captain Barbossa re...   \n",
       "Spectre                                             A cryptic message from the past sends James Bo...   \n",
       "The Dark Knight Rises                               Despite his tarnished reputation after the eve...   \n",
       "Star Wars: Episode VII - The Force Awakens     ...                                                NaN   \n",
       "\n",
       "                                                    Drama  Comedy  Thriller  \\\n",
       "movie_title                                                                   \n",
       "Avatar                                                  0       0         0   \n",
       "Pirates of the Caribbean: At World's End                0       0         0   \n",
       "Spectre                                                 0       0         1   \n",
       "The Dark Knight Rises                                   0       0         1   \n",
       "Star Wars: Episode VII - The Force Awakens     ...      0       0         0   \n",
       "\n",
       "                                                    Action  Romance  \\\n",
       "movie_title                                                           \n",
       "Avatar                                                   1        0   \n",
       "Pirates of the Caribbean: At World's End                 1        0   \n",
       "Spectre                                                  1        0   \n",
       "The Dark Knight Rises                                    1        0   \n",
       "Star Wars: Episode VII - The Force Awakens     ...       0        0   \n",
       "\n",
       "                                                    Adventure  Crime  Sci-Fi  \\\n",
       "movie_title                                                                    \n",
       "Avatar                                                      1      0       1   \n",
       "Pirates of the Caribbean: At World's End                    1      0       0   \n",
       "Spectre                                                     1      0       0   \n",
       "The Dark Knight Rises                                       0      0       0   \n",
       "Star Wars: Episode VII - The Force Awakens     ...          0      0       0   \n",
       "\n",
       "                                                    Fantasy   ...    \\\n",
       "movie_title                                                   ...     \n",
       "Avatar                                                    1   ...     \n",
       "Pirates of the Caribbean: At World's End                  1   ...     \n",
       "Spectre                                                   0   ...     \n",
       "The Dark Knight Rises                                     0   ...     \n",
       "Star Wars: Episode VII - The Force Awakens     ...        0   ...     \n",
       "\n",
       "                                                    Biography  Animation  \\\n",
       "movie_title                                                                \n",
       "Avatar                                                      0          0   \n",
       "Pirates of the Caribbean: At World's End                    0          0   \n",
       "Spectre                                                     0          0   \n",
       "The Dark Knight Rises                                       0          0   \n",
       "Star Wars: Episode VII - The Force Awakens     ...          0          0   \n",
       "\n",
       "                                                    Music  War  History  \\\n",
       "movie_title                                                               \n",
       "Avatar                                                  0    0        0   \n",
       "Pirates of the Caribbean: At World's End                0    0        0   \n",
       "Spectre                                                 0    0        0   \n",
       "The Dark Knight Rises                                   0    0        0   \n",
       "Star Wars: Episode VII - The Force Awakens     ...      0    0        0   \n",
       "\n",
       "                                                    Sport  Musical  \\\n",
       "movie_title                                                          \n",
       "Avatar                                                  0        0   \n",
       "Pirates of the Caribbean: At World's End                0        0   \n",
       "Spectre                                                 0        0   \n",
       "The Dark Knight Rises                                   0        0   \n",
       "Star Wars: Episode VII - The Force Awakens     ...      0        0   \n",
       "\n",
       "                                                    Documentary  Western  \\\n",
       "movie_title                                                                \n",
       "Avatar                                                        0        0   \n",
       "Pirates of the Caribbean: At World's End                      0        0   \n",
       "Spectre                                                       0        0   \n",
       "The Dark Knight Rises                                         0        0   \n",
       "Star Wars: Episode VII - The Force Awakens     ...            1        0   \n",
       "\n",
       "                                                    Others  \n",
       "movie_title                                                 \n",
       "Avatar                                                   0  \n",
       "Pirates of the Caribbean: At World's End                 0  \n",
       "Spectre                                                  0  \n",
       "The Dark Knight Rises                                    0  \n",
       "Star Wars: Episode VII - The Force Awakens     ...       0  \n",
       "\n",
       "[5 rows x 23 columns]"
      ]
     },
     "execution_count": 3,
     "metadata": {},
     "output_type": "execute_result"
    }
   ],
   "source": [
    "imdb.head()"
   ]
  },
  {
   "cell_type": "code",
   "execution_count": 12,
   "metadata": {
    "collapsed": true
   },
   "outputs": [],
   "source": [
    "def clean_str(string):\n",
    "    if pd.notnull(string):\n",
    "        string = re.sub(r\"[^A-Za-z0-9(),!?\\'\\`]\", \" \", string)\n",
    "        string = re.sub(r\"\\'s\", \" \\'s\", string)\n",
    "        string = re.sub(r\"\\'ve\", \" \\'ve\", string)\n",
    "        string = re.sub(r\"n\\'t\", \" n\\'t\", string)\n",
    "        string = re.sub(r\"\\'re\", \" \\'re\", string)\n",
    "        string = re.sub(r\"\\'d\", \" \\'d\", string)\n",
    "        string = re.sub(r\"\\'ll\", \" \\'ll\", string)\n",
    "        string = re.sub(r\",\", \" , \", string)\n",
    "        string = re.sub(r\"!\", \" ! \", string)\n",
    "        string = re.sub(r\"\\(\", \" \\( \", string)\n",
    "        string = re.sub(r\"\\)\", \" \\) \", string)\n",
    "        string = re.sub(r\"\\?\", \" \\? \", string)\n",
    "        string = re.sub(r\"\\s{2,}\", \" \", string)\n",
    "        return string.strip().lower()\n",
    "    else:\n",
    "        return \"NA\""
   ]
  },
  {
   "cell_type": "code",
   "execution_count": 16,
   "metadata": {},
   "outputs": [
    {
     "data": {
      "text/plain": [
       "\"when his brother is killed in a robbery , paraplegic marine jake sully decides to take his place in a mission on the distant world of pandora there he learns of greedy corporate figurehead parker selfridge 's intentions of driving off the native humanoid na'vi in order to mine for the precious material scattered throughout their rich woodland in exchange for the spinal surgery that will fix his legs , jake gathers intel for the cooperating military unit spearheaded by gung ho colonel quaritch , while simultaneously attempting to infiltrate the na'vi people with the use of an avatar identity while jake begins to bond with the native tribe and quickly falls in love with the beautiful alien neytiri , the restless colonel moves forward with his ruthless extermination tactics , forcing the soldier to take a stand and fight back in an epic battle for the fate of pandora\""
      ]
     },
     "execution_count": 16,
     "metadata": {},
     "output_type": "execute_result"
    }
   ],
   "source": [
    "imdb['storyline'][:5].apply(lambda x: clean_str(x))[0]"
   ]
  },
  {
   "cell_type": "code",
   "execution_count": 11,
   "metadata": {},
   "outputs": [
    {
     "data": {
      "text/plain": [
       "'When his brother is killed in a robbery, paraplegic Marine Jake Sully decides to take his place in a mission on the distant world of Pandora. There he learns of greedy corporate figurehead Parker Selfridge\\'s intentions of driving off the native humanoid \"Na\\'vi\" in order to mine for the precious material scattered throughout their rich woodland. In exchange for the spinal surgery that will fix his legs, Jake gathers intel for the cooperating military unit spearheaded by gung-ho Colonel Quaritch, while simultaneously attempting to infiltrate the Na\\'vi people with the use of an \"avatar\" identity. While Jake begins to bond with the native tribe and quickly falls in love with the beautiful alien Neytiri, the restless Colonel moves forward with his ruthless extermination tactics, forcing the soldier to take a stand - and fight back in an epic battle for the fate of Pandora.'"
      ]
     },
     "execution_count": 11,
     "metadata": {},
     "output_type": "execute_result"
    }
   ],
   "source": [
    "imdb['storyline'][0]"
   ]
  },
  {
   "cell_type": "markdown",
   "metadata": {},
   "source": [
    "## Load data and labels"
   ]
  },
  {
   "cell_type": "code",
   "execution_count": 12,
   "metadata": {
    "collapsed": true
   },
   "outputs": [],
   "source": [
    "def load_data_and_labels(positive_data_file, negative_data_file):\n",
    "    \"\"\"\n",
    "    Original function from https://github.com/dennybritz/cnn-text-classification-tf/blob/master/data_helpers.py\n",
    "    Loads MR polarity data from files, splits the data into words and generates labels.\n",
    "    Returns split sentences and labels.\n",
    "    \"\"\"\n",
    "    # Load data from files\n",
    "    positive_examples = list(open(positive_data_file, \"r\").readlines())\n",
    "    positive_examples = [s.strip() for s in positive_examples]\n",
    "    negative_examples = list(open(negative_data_file, \"r\").readlines())\n",
    "    negative_examples = [s.strip() for s in negative_examples]\n",
    "    # Split by words\n",
    "    x_text = positive_examples + negative_examples\n",
    "    x_text = [clean_str(sent) for sent in x_text]\n",
    "    # Generate labels\n",
    "    positive_labels = [[0, 1] for _ in positive_examples]\n",
    "    negative_labels = [[1, 0] for _ in negative_examples]\n",
    "    y = np.concatenate([positive_labels, negative_labels], 0)\n",
    "    return [x_text, y]"
   ]
  },
  {
   "cell_type": "code",
   "execution_count": 2,
   "metadata": {
    "collapsed": true
   },
   "outputs": [],
   "source": [
    "def get_labels(df):\n",
    "    labels = df.columns.tolist()\n",
    "    labels.remove('storyline')\n",
    "    return labels"
   ]
  },
  {
   "cell_type": "code",
   "execution_count": 24,
   "metadata": {},
   "outputs": [
    {
     "data": {
      "text/plain": [
       "['Drama',\n",
       " 'Comedy',\n",
       " 'Thriller',\n",
       " 'Action',\n",
       " 'Romance',\n",
       " 'Adventure',\n",
       " 'Crime',\n",
       " 'Sci-Fi',\n",
       " 'Fantasy',\n",
       " 'Horror',\n",
       " 'Family',\n",
       " 'Mystery',\n",
       " 'Biography',\n",
       " 'Animation',\n",
       " 'Music',\n",
       " 'War',\n",
       " 'History',\n",
       " 'Sport',\n",
       " 'Musical',\n",
       " 'Documentary',\n",
       " 'Western',\n",
       " 'Others']"
      ]
     },
     "execution_count": 24,
     "metadata": {},
     "output_type": "execute_result"
    }
   ],
   "source": [
    "get_labels(imdb)"
   ]
  },
  {
   "cell_type": "code",
   "execution_count": 23,
   "metadata": {
    "collapsed": true
   },
   "outputs": [],
   "source": [
    "def load_data_and_gen_labels(file_path):\n",
    "    # Read data\n",
    "    df = pd.read_csv(file_path, index_col=0)\n",
    "    # Clean the string\n",
    "    x_text = [clean_str(sent) for sent in df['storyline']]\n",
    "    # Generate labels\n",
    "    labels = get_labels(df)\n",
    "    y = df[labels].values\n",
    "    return [x_text, y]"
   ]
  },
  {
   "cell_type": "code",
   "execution_count": 24,
   "metadata": {},
   "outputs": [],
   "source": [
    "x_text, y = load_data_and_gen_labels(\"../../01_Data/Outputs/storyline_with_genres.csv\")"
   ]
  },
  {
   "cell_type": "code",
   "execution_count": 31,
   "metadata": {
    "collapsed": true
   },
   "outputs": [],
   "source": [
    "def batch_iter(data, batch_size, num_epochs, shuffle=True):\n",
    "    \"\"\"\n",
    "    Generates a batch iterator for a dataset.\n",
    "    \"\"\"\n",
    "    data = np.array(data)\n",
    "    data_size = len(data)\n",
    "    num_batches_per_epoch = int((len(data)-1)/batch_size) + 1\n",
    "    for epoch in range(num_epochs):\n",
    "        # Shuffle the data at each epoch\n",
    "        if shuffle:\n",
    "            shuffle_indices = np.random.permutation(np.arange(data_size))\n",
    "            shuffled_data = data[shuffle_indices]\n",
    "        else:\n",
    "            shuffled_data = data\n",
    "        for batch_num in range(num_batches_per_epoch):\n",
    "            start_index = batch_num * batch_size\n",
    "            end_index = min((batch_num + 1) * batch_size, data_size)\n",
    "            yield shuffled_data[start_index:end_index]"
   ]
  }
 ],
 "metadata": {
  "kernelspec": {
   "display_name": "Python 2",
   "language": "python",
   "name": "python2"
  },
  "language_info": {
   "codemirror_mode": {
    "name": "ipython",
    "version": 2
   },
   "file_extension": ".py",
   "mimetype": "text/x-python",
   "name": "python",
   "nbconvert_exporter": "python",
   "pygments_lexer": "ipython2",
   "version": "2.7.13"
  }
 },
 "nbformat": 4,
 "nbformat_minor": 2
}
