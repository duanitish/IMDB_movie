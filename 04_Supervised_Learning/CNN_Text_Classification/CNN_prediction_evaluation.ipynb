{
 "cells": [
  {
   "cell_type": "code",
   "execution_count": 1,
   "metadata": {
    "collapsed": true
   },
   "outputs": [],
   "source": [
    "import pandas as pd\n",
    "pd.set_option('display.float_format', lambda x: '%.4f' % x)"
   ]
  },
  {
   "cell_type": "code",
   "execution_count": 4,
   "metadata": {
    "collapsed": true
   },
   "outputs": [],
   "source": [
    "dev = pd.read_csv(\"../../01_Data/Outputs/storyline_with_genres_test.csv\")"
   ]
  },
  {
   "cell_type": "code",
   "execution_count": 5,
   "metadata": {
    "collapsed": true
   },
   "outputs": [],
   "source": [
    "dev.set_index(['movie_title'], inplace=True)"
   ]
  },
  {
   "cell_type": "code",
   "execution_count": 6,
   "metadata": {},
   "outputs": [
    {
     "data": {
      "text/html": [
       "<div>\n",
       "<style>\n",
       "    .dataframe thead tr:only-child th {\n",
       "        text-align: right;\n",
       "    }\n",
       "\n",
       "    .dataframe thead th {\n",
       "        text-align: left;\n",
       "    }\n",
       "\n",
       "    .dataframe tbody tr th {\n",
       "        vertical-align: top;\n",
       "    }\n",
       "</style>\n",
       "<table border=\"1\" class=\"dataframe\">\n",
       "  <thead>\n",
       "    <tr style=\"text-align: right;\">\n",
       "      <th></th>\n",
       "      <th>storyline</th>\n",
       "      <th>Drama</th>\n",
       "      <th>Comedy</th>\n",
       "      <th>Thriller</th>\n",
       "      <th>Action</th>\n",
       "      <th>Romance</th>\n",
       "      <th>Adventure</th>\n",
       "      <th>Crime</th>\n",
       "      <th>Sci-Fi</th>\n",
       "      <th>Fantasy</th>\n",
       "      <th>Horror</th>\n",
       "      <th>Family</th>\n",
       "      <th>Mystery</th>\n",
       "      <th>Others</th>\n",
       "    </tr>\n",
       "    <tr>\n",
       "      <th>movie_title</th>\n",
       "      <th></th>\n",
       "      <th></th>\n",
       "      <th></th>\n",
       "      <th></th>\n",
       "      <th></th>\n",
       "      <th></th>\n",
       "      <th></th>\n",
       "      <th></th>\n",
       "      <th></th>\n",
       "      <th></th>\n",
       "      <th></th>\n",
       "      <th></th>\n",
       "      <th></th>\n",
       "      <th></th>\n",
       "    </tr>\n",
       "  </thead>\n",
       "  <tbody>\n",
       "    <tr>\n",
       "      <th>Spectre</th>\n",
       "      <td>A cryptic message from the past sends James Bo...</td>\n",
       "      <td>0</td>\n",
       "      <td>0</td>\n",
       "      <td>1</td>\n",
       "      <td>1</td>\n",
       "      <td>0</td>\n",
       "      <td>1</td>\n",
       "      <td>0</td>\n",
       "      <td>0</td>\n",
       "      <td>0</td>\n",
       "      <td>0</td>\n",
       "      <td>0</td>\n",
       "      <td>0</td>\n",
       "      <td>0</td>\n",
       "    </tr>\n",
       "    <tr>\n",
       "      <th>Avengers: Age of Ultron</th>\n",
       "      <td>Tony Stark creates the Ultron Program to prote...</td>\n",
       "      <td>0</td>\n",
       "      <td>0</td>\n",
       "      <td>0</td>\n",
       "      <td>1</td>\n",
       "      <td>0</td>\n",
       "      <td>1</td>\n",
       "      <td>0</td>\n",
       "      <td>1</td>\n",
       "      <td>0</td>\n",
       "      <td>0</td>\n",
       "      <td>0</td>\n",
       "      <td>0</td>\n",
       "      <td>0</td>\n",
       "    </tr>\n",
       "    <tr>\n",
       "      <th>Batman v Superman: Dawn of Justice</th>\n",
       "      <td>The general public is concerned over having Su...</td>\n",
       "      <td>0</td>\n",
       "      <td>0</td>\n",
       "      <td>0</td>\n",
       "      <td>1</td>\n",
       "      <td>0</td>\n",
       "      <td>1</td>\n",
       "      <td>0</td>\n",
       "      <td>1</td>\n",
       "      <td>0</td>\n",
       "      <td>0</td>\n",
       "      <td>0</td>\n",
       "      <td>0</td>\n",
       "      <td>0</td>\n",
       "    </tr>\n",
       "    <tr>\n",
       "      <th>Captain America: Civil War</th>\n",
       "      <td>With many people fearing the actions of super ...</td>\n",
       "      <td>0</td>\n",
       "      <td>0</td>\n",
       "      <td>0</td>\n",
       "      <td>1</td>\n",
       "      <td>0</td>\n",
       "      <td>1</td>\n",
       "      <td>0</td>\n",
       "      <td>1</td>\n",
       "      <td>0</td>\n",
       "      <td>0</td>\n",
       "      <td>0</td>\n",
       "      <td>0</td>\n",
       "      <td>0</td>\n",
       "    </tr>\n",
       "    <tr>\n",
       "      <th>Jurassic World</th>\n",
       "      <td>22 years after the original Jurassic Park fail...</td>\n",
       "      <td>0</td>\n",
       "      <td>0</td>\n",
       "      <td>1</td>\n",
       "      <td>1</td>\n",
       "      <td>0</td>\n",
       "      <td>1</td>\n",
       "      <td>0</td>\n",
       "      <td>1</td>\n",
       "      <td>0</td>\n",
       "      <td>0</td>\n",
       "      <td>0</td>\n",
       "      <td>0</td>\n",
       "      <td>0</td>\n",
       "    </tr>\n",
       "  </tbody>\n",
       "</table>\n",
       "</div>"
      ],
      "text/plain": [
       "                                                                             storyline  \\\n",
       "movie_title                                                                              \n",
       "Spectre                              A cryptic message from the past sends James Bo...   \n",
       "Avengers: Age of Ultron              Tony Stark creates the Ultron Program to prote...   \n",
       "Batman v Superman: Dawn of Justice   The general public is concerned over having Su...   \n",
       "Captain America: Civil War           With many people fearing the actions of super ...   \n",
       "Jurassic World                       22 years after the original Jurassic Park fail...   \n",
       "\n",
       "                                     Drama  Comedy  Thriller  Action  Romance  \\\n",
       "movie_title                                                                     \n",
       "Spectre                                  0       0         1       1        0   \n",
       "Avengers: Age of Ultron                  0       0         0       1        0   \n",
       "Batman v Superman: Dawn of Justice       0       0         0       1        0   \n",
       "Captain America: Civil War               0       0         0       1        0   \n",
       "Jurassic World                           0       0         1       1        0   \n",
       "\n",
       "                                     Adventure  Crime  Sci-Fi  Fantasy  \\\n",
       "movie_title                                                              \n",
       "Spectre                                      1      0       0        0   \n",
       "Avengers: Age of Ultron                      1      0       1        0   \n",
       "Batman v Superman: Dawn of Justice           1      0       1        0   \n",
       "Captain America: Civil War                   1      0       1        0   \n",
       "Jurassic World                               1      0       1        0   \n",
       "\n",
       "                                     Horror  Family  Mystery  Others  \n",
       "movie_title                                                           \n",
       "Spectre                                   0       0        0       0  \n",
       "Avengers: Age of Ultron                   0       0        0       0  \n",
       "Batman v Superman: Dawn of Justice        0       0        0       0  \n",
       "Captain America: Civil War                0       0        0       0  \n",
       "Jurassic World                            0       0        0       0  "
      ]
     },
     "execution_count": 6,
     "metadata": {},
     "output_type": "execute_result"
    }
   ],
   "source": [
    "dev.head()"
   ]
  },
  {
   "cell_type": "code",
   "execution_count": 14,
   "metadata": {},
   "outputs": [],
   "source": [
    "predictions = pd.read_csv(\"runs/1502984165/prediction.csv\", header=None)"
   ]
  },
  {
   "cell_type": "code",
   "execution_count": 15,
   "metadata": {},
   "outputs": [],
   "source": [
    "predictions.columns = dev.columns\n",
    "predictions.set_index(dev.index, inplace=True)"
   ]
  },
  {
   "cell_type": "code",
   "execution_count": 16,
   "metadata": {},
   "outputs": [
    {
     "data": {
      "text/html": [
       "<div>\n",
       "<style>\n",
       "    .dataframe thead tr:only-child th {\n",
       "        text-align: right;\n",
       "    }\n",
       "\n",
       "    .dataframe thead th {\n",
       "        text-align: left;\n",
       "    }\n",
       "\n",
       "    .dataframe tbody tr th {\n",
       "        vertical-align: top;\n",
       "    }\n",
       "</style>\n",
       "<table border=\"1\" class=\"dataframe\">\n",
       "  <thead>\n",
       "    <tr style=\"text-align: right;\">\n",
       "      <th></th>\n",
       "      <th>storyline</th>\n",
       "      <th>Drama</th>\n",
       "      <th>Comedy</th>\n",
       "      <th>Thriller</th>\n",
       "      <th>Action</th>\n",
       "      <th>Romance</th>\n",
       "      <th>Adventure</th>\n",
       "      <th>Crime</th>\n",
       "      <th>Sci-Fi</th>\n",
       "      <th>Fantasy</th>\n",
       "      <th>Horror</th>\n",
       "      <th>Family</th>\n",
       "      <th>Mystery</th>\n",
       "      <th>Others</th>\n",
       "    </tr>\n",
       "    <tr>\n",
       "      <th>movie_title</th>\n",
       "      <th></th>\n",
       "      <th></th>\n",
       "      <th></th>\n",
       "      <th></th>\n",
       "      <th></th>\n",
       "      <th></th>\n",
       "      <th></th>\n",
       "      <th></th>\n",
       "      <th></th>\n",
       "      <th></th>\n",
       "      <th></th>\n",
       "      <th></th>\n",
       "      <th></th>\n",
       "      <th></th>\n",
       "    </tr>\n",
       "  </thead>\n",
       "  <tbody>\n",
       "    <tr>\n",
       "      <th>Spectre</th>\n",
       "      <td>a cryptic message from the past sends james bo...</td>\n",
       "      <td>0.0017</td>\n",
       "      <td>0.0001</td>\n",
       "      <td>0.5737</td>\n",
       "      <td>0.2563</td>\n",
       "      <td>0.0001</td>\n",
       "      <td>0.1429</td>\n",
       "      <td>0.0164</td>\n",
       "      <td>0.0002</td>\n",
       "      <td>0.0007</td>\n",
       "      <td>0.0001</td>\n",
       "      <td>0.0001</td>\n",
       "      <td>0.0004</td>\n",
       "      <td>0.0073</td>\n",
       "    </tr>\n",
       "    <tr>\n",
       "      <th>Avengers: Age of Ultron</th>\n",
       "      <td>tony stark creates the ultron program to prote...</td>\n",
       "      <td>0.4256</td>\n",
       "      <td>0.0277</td>\n",
       "      <td>0.1317</td>\n",
       "      <td>0.0118</td>\n",
       "      <td>0.0500</td>\n",
       "      <td>0.0201</td>\n",
       "      <td>0.0051</td>\n",
       "      <td>0.0845</td>\n",
       "      <td>0.0102</td>\n",
       "      <td>0.0086</td>\n",
       "      <td>0.0037</td>\n",
       "      <td>0.2135</td>\n",
       "      <td>0.0073</td>\n",
       "    </tr>\n",
       "    <tr>\n",
       "      <th>Batman v Superman: Dawn of Justice</th>\n",
       "      <td>the general public is concerned over having su...</td>\n",
       "      <td>0.0208</td>\n",
       "      <td>0.1956</td>\n",
       "      <td>0.0792</td>\n",
       "      <td>0.2261</td>\n",
       "      <td>0.0027</td>\n",
       "      <td>0.0975</td>\n",
       "      <td>0.0743</td>\n",
       "      <td>0.0315</td>\n",
       "      <td>0.0628</td>\n",
       "      <td>0.0152</td>\n",
       "      <td>0.0138</td>\n",
       "      <td>0.0044</td>\n",
       "      <td>0.1762</td>\n",
       "    </tr>\n",
       "    <tr>\n",
       "      <th>Captain America: Civil War</th>\n",
       "      <td>with many people fearing the actions of super ...</td>\n",
       "      <td>0.0019</td>\n",
       "      <td>0.0795</td>\n",
       "      <td>0.0007</td>\n",
       "      <td>0.0531</td>\n",
       "      <td>0.0011</td>\n",
       "      <td>0.0465</td>\n",
       "      <td>0.0007</td>\n",
       "      <td>0.0000</td>\n",
       "      <td>0.1970</td>\n",
       "      <td>0.0212</td>\n",
       "      <td>0.0029</td>\n",
       "      <td>0.0007</td>\n",
       "      <td>0.5947</td>\n",
       "    </tr>\n",
       "    <tr>\n",
       "      <th>Jurassic World</th>\n",
       "      <td>22 years after the original jurassic park fail...</td>\n",
       "      <td>0.2922</td>\n",
       "      <td>0.0565</td>\n",
       "      <td>0.2222</td>\n",
       "      <td>0.0681</td>\n",
       "      <td>0.0124</td>\n",
       "      <td>0.0457</td>\n",
       "      <td>0.0436</td>\n",
       "      <td>0.0247</td>\n",
       "      <td>0.0405</td>\n",
       "      <td>0.1096</td>\n",
       "      <td>0.0237</td>\n",
       "      <td>0.0120</td>\n",
       "      <td>0.0487</td>\n",
       "    </tr>\n",
       "  </tbody>\n",
       "</table>\n",
       "</div>"
      ],
      "text/plain": [
       "                                                                             storyline  \\\n",
       "movie_title                                                                              \n",
       "Spectre                              a cryptic message from the past sends james bo...   \n",
       "Avengers: Age of Ultron              tony stark creates the ultron program to prote...   \n",
       "Batman v Superman: Dawn of Justice   the general public is concerned over having su...   \n",
       "Captain America: Civil War           with many people fearing the actions of super ...   \n",
       "Jurassic World                       22 years after the original jurassic park fail...   \n",
       "\n",
       "                                     Drama  Comedy  Thriller  Action  Romance  \\\n",
       "movie_title                                                                     \n",
       "Spectre                             0.0017  0.0001    0.5737  0.2563   0.0001   \n",
       "Avengers: Age of Ultron             0.4256  0.0277    0.1317  0.0118   0.0500   \n",
       "Batman v Superman: Dawn of Justice  0.0208  0.1956    0.0792  0.2261   0.0027   \n",
       "Captain America: Civil War          0.0019  0.0795    0.0007  0.0531   0.0011   \n",
       "Jurassic World                      0.2922  0.0565    0.2222  0.0681   0.0124   \n",
       "\n",
       "                                     Adventure  Crime  Sci-Fi  Fantasy  \\\n",
       "movie_title                                                              \n",
       "Spectre                                 0.1429 0.0164  0.0002   0.0007   \n",
       "Avengers: Age of Ultron                 0.0201 0.0051  0.0845   0.0102   \n",
       "Batman v Superman: Dawn of Justice      0.0975 0.0743  0.0315   0.0628   \n",
       "Captain America: Civil War              0.0465 0.0007  0.0000   0.1970   \n",
       "Jurassic World                          0.0457 0.0436  0.0247   0.0405   \n",
       "\n",
       "                                     Horror  Family  Mystery  Others  \n",
       "movie_title                                                           \n",
       "Spectre                              0.0001  0.0001   0.0004  0.0073  \n",
       "Avengers: Age of Ultron              0.0086  0.0037   0.2135  0.0073  \n",
       "Batman v Superman: Dawn of Justice   0.0152  0.0138   0.0044  0.1762  \n",
       "Captain America: Civil War           0.0212  0.0029   0.0007  0.5947  \n",
       "Jurassic World                       0.1096  0.0237   0.0120  0.0487  "
      ]
     },
     "execution_count": 16,
     "metadata": {},
     "output_type": "execute_result"
    }
   ],
   "source": [
    "predictions.head()"
   ]
  },
  {
   "cell_type": "code",
   "execution_count": 17,
   "metadata": {
    "collapsed": true
   },
   "outputs": [],
   "source": [
    "pred_binary = predictions[predictions.columns[1:]].applymap(lambda x: 1 if x > 1.0/13 else 0)"
   ]
  },
  {
   "cell_type": "code",
   "execution_count": 18,
   "metadata": {},
   "outputs": [
    {
     "data": {
      "text/plain": [
       "storyline    when po 's long lost panda father suddenly rea...\n",
       "Drama                                                   0.0521\n",
       "Comedy                                                  0.0917\n",
       "Thriller                                                0.0175\n",
       "Action                                                  0.0675\n",
       "Romance                                                 0.0008\n",
       "Adventure                                               0.0988\n",
       "Crime                                                   0.0269\n",
       "Sci-Fi                                                  0.0024\n",
       "Fantasy                                                 0.1998\n",
       "Horror                                                  0.0022\n",
       "Family                                                  0.1588\n",
       "Mystery                                                 0.0039\n",
       "Others                                                  0.2775\n",
       "Name: Kung Fu Panda 3 , dtype: object"
      ]
     },
     "execution_count": 18,
     "metadata": {},
     "output_type": "execute_result"
    }
   ],
   "source": [
    "predictions.loc['Kung Fu Panda 3\\xc2\\xa0']"
   ]
  },
  {
   "cell_type": "code",
   "execution_count": 19,
   "metadata": {},
   "outputs": [
    {
     "data": {
      "text/plain": [
       "Drama        0\n",
       "Comedy       1\n",
       "Thriller     0\n",
       "Action       0\n",
       "Romance      0\n",
       "Adventure    1\n",
       "Crime        0\n",
       "Sci-Fi       0\n",
       "Fantasy      1\n",
       "Horror       0\n",
       "Family       1\n",
       "Mystery      0\n",
       "Others       1\n",
       "Name: Kung Fu Panda 3 , dtype: int64"
      ]
     },
     "execution_count": 19,
     "metadata": {},
     "output_type": "execute_result"
    }
   ],
   "source": [
    "pred_binary.loc['Kung Fu Panda 3\\xc2\\xa0']"
   ]
  },
  {
   "cell_type": "code",
   "execution_count": 20,
   "metadata": {},
   "outputs": [
    {
     "data": {
      "text/plain": [
       "storyline    When Po's long-lost panda father suddenly reap...\n",
       "Drama                                                        0\n",
       "Comedy                                                       1\n",
       "Thriller                                                     0\n",
       "Action                                                       1\n",
       "Romance                                                      0\n",
       "Adventure                                                    1\n",
       "Crime                                                        0\n",
       "Sci-Fi                                                       0\n",
       "Fantasy                                                      0\n",
       "Horror                                                       0\n",
       "Family                                                       1\n",
       "Mystery                                                      0\n",
       "Others                                                       1\n",
       "Name: Kung Fu Panda 3 , dtype: object"
      ]
     },
     "execution_count": 20,
     "metadata": {},
     "output_type": "execute_result"
    }
   ],
   "source": [
    "dev.loc['Kung Fu Panda 3\\xc2\\xa0']"
   ]
  },
  {
   "cell_type": "code",
   "execution_count": 89,
   "metadata": {},
   "outputs": [
    {
     "data": {
      "text/plain": [
       "\"When Po's long-lost panda father suddenly reappears, the reunited duo travels to a secret panda paradise to meet scores of hilarious new panda characters. But when the supernatural villain Kai begins to sweep across China defeating all the kung fu masters, Po must do the impossible-learn to train a village full of his fun-loving, clumsy brethren to become the ultimate band of Kung Fu Pandas.\""
      ]
     },
     "execution_count": 89,
     "metadata": {},
     "output_type": "execute_result"
    }
   ],
   "source": [
    "dev.loc['Kung Fu Panda 3\\xc2\\xa0']['storyline']"
   ]
  },
  {
   "cell_type": "markdown",
   "metadata": {},
   "source": [
    "## Thoughts\n",
    "1. Use web scraping to pull scripts of each movie - might be a better representative of the style\n",
    "2. Pull more data points(movies) from IMDB - the training data is too small compared to the number of classes(right now around 4000 movies for 22 genres, ideally 1000 movies per genre)\n",
    "3. Use pre-trained word2vec from Google to see if the testing accuracy can increase\n",
    "4. Figure out why the training loss keeps increasing after a few thousand steps (Is the learning rate still high? Is it because of the random initialization?)\n",
    "    - Try the label smoothing method as mentioned [here](https://github.com/dennybritz/cnn-text-classification-tf/issues/56)\n",
    "    - Fixed by changing the loss function to sigmoid_cross_entropy_with_logits\n",
    "5. How to get doc2vec from this model???"
   ]
  }
 ],
 "metadata": {
  "kernelspec": {
   "display_name": "Python 2",
   "language": "python",
   "name": "python2"
  },
  "language_info": {
   "codemirror_mode": {
    "name": "ipython",
    "version": 2
   },
   "file_extension": ".py",
   "mimetype": "text/x-python",
   "name": "python",
   "nbconvert_exporter": "python",
   "pygments_lexer": "ipython2",
   "version": "2.7.13"
  }
 },
 "nbformat": 4,
 "nbformat_minor": 2
}
