{
 "cells": [
  {
   "cell_type": "code",
   "execution_count": 1,
   "metadata": {
    "collapsed": true
   },
   "outputs": [],
   "source": [
    "import urllib2\n",
    "from bs4 import BeautifulSoup"
   ]
  },
  {
   "cell_type": "code",
   "execution_count": 2,
   "metadata": {
    "collapsed": true
   },
   "outputs": [],
   "source": [
    "url = \"http://www.imdb.com/title/tt0499549/?ref_=fn_t...\"\n",
    "html = urllib2.urlopen(url)\n",
    "soup = BeautifulSoup(html, \"lxml\")"
   ]
  },
  {
   "cell_type": "code",
   "execution_count": 4,
   "metadata": {},
   "outputs": [
    {
     "data": {
      "text/plain": [
       "[]"
      ]
     },
     "execution_count": 4,
     "metadata": {},
     "output_type": "execute_result"
    }
   ],
   "source": [
    "soup.findAll(\"div\", {\"class\":\"poster\"})"
   ]
  },
  {
   "cell_type": "code",
   "execution_count": 5,
   "metadata": {},
   "outputs": [
    {
     "data": {
      "text/plain": [
       "<!DOCTYPE html PUBLIC \"-//W3C//DTD XHTML 1.0 Transitional//EN\" \"http://www.w3.org/TR/xhtml1/DTD/xhtml1-transitional.dtd\">\\n<html>\\n<head>\\n<meta content=\"text/html; charset=unicode-escape\" http-equiv=\"Content-Type\"/>\\n<meta content=\"initial-scale = 0.67 maximum-scale = 1, user-scalable=yes, width=device-width\" name=\"viewport\"/>\\n<title>Blocked Domain</title>\\n<link href=\"/static/css/base.css\" rel=\"stylesheet\" type=\"text/css\"/>\\n<link href=\"/static/w3c/p3p.xml\" rel=\"P3Pv1\"/>\\n<script src=\"/static/js/jquery-1.10.1.min.js\"></script>\\n<script src=\"/static/js/jquery.cookie.js\"></script>\\n<link href=\"/favicon.ico\" rel=\"shortcut icon\" type=\"image/ico\"/>\\n<script type=\"text/javascript\">\\n            function show(id) { document.getElementById(id).style.display = ''; }\\n            function hide(id) { document.getElementById(id).style.display = 'none'; }\\n            function cookieCheck() {\\n                if (typeof $ != 'undefined') {\\n                    $.cookie('bpb_test', 'none');\\n\\n                    // if Get_Cookie succeeds, cookies are enabled, since\\n                    //the cookie was successfully created.\\n                    if ( $.cookie('bpb_test') )\\n                    {\\n                        $.removeCookie('bpb_test');\\n\\n                    } else {\\n                        $(\"#message\").addClass(\"alert alert-error\").html('<div><b>Cookies Disabled In Your Browser</b></div> Cookies are required to bypass a block page. Please enable cookies to continue. <a href=\"https://support.opendns.com/entries/21929725-Block-Page-Bypass-does-not-work-when-cookies-are-not-enabled\" target=\"_BLANK\">Learn More</a>');\\n                    }\\n                }\\n            }\\n            function toggleBypassMask() {\\n\\t\\t\\t\\tif(document.getElementById('checkboxToggleBypassMask').checked) {\\n\\t\\t\\t\\t\\t//mask the bypass code\\n\\t\\t\\t\\t\\tdocument.getElementById('textBypassCode').style.display = 'none';\\n\\t\\t\\t\\t\\tdocument.getElementById('passwordBypassCode').style.display = '';\\n\\t\\t\\t\\t\\tdocument.getElementById('passwordBypassCode').value = document.getElementById('textBypassCode').value;\\n\\t\\t\\t\\t} else {\\n\\t\\t\\t\\t\\t//don't mask it\\n\\t\\t\\t\\t\\tdocument.getElementById('textBypassCode').style.display = '';\\n\\t\\t\\t\\t\\tdocument.getElementById('passwordBypassCode').style.display = 'none';\\n\\t\\t\\t\\t\\tdocument.getElementById('textBypassCode').value = document.getElementById('passwordBypassCode').value;\\n\\t\\t\\t\\t}\\n\\t\\t\\t\\t\\n\\t\\t\\t\\tfillBypass(0);\\n\\t\\t\\t}\\n\\t\\t\\tfunction fillBypass(submitForm) {\\n\\t\\t\\t\\tvar bypassCode = '';\\n\\t\\t\\t\\tif(document.getElementById('checkboxToggleBypassMask').checked) {\\n\\t\\t\\t\\t\\tbypassCode = document.getElementById('passwordBypassCode').value;\\n\\t\\t\\t\\t} else {\\n\\t\\t\\t\\t\\tbypassCode = document.getElementById('textBypassCode').value;\\n\\t\\t\\t\\t}\\n\\n\\t\\t\\t\\tdocument.getElementById('bypassCode').value = bypassCode;\\n\\t\\t\\t\\t\\n\\t\\t\\t\\tif(submitForm) {\\n\\t\\t\\t\\t\\tdocument.forms['bypassForm'].submit();\\n\\t\\t\\t\\t}\\n\\t\\t\\t}\\n\\n    \\n\\n            var _gaq = _gaq || [];\\n            _gaq.push(['_setAccount', 'UA-1163522-16']);\\n            _gaq.push(['_trackPageview']);\\n\\n            (function() {\\n              var ga = document.createElement('script'); ga.type = 'text/javascript'; ga.async = true;\\n              ga.src = ('https:' == document.location.protocol ? 'https://ssl' : 'http://www') + '.google-analytics.com/ga.js';\\n              var s = document.getElementsByTagName('script')[0]; s.parentNode.insertBefore(ga, s);\\n            })();\\n\\n            function hideIFrameSize()\\n            {\\n                var height = 0,\\n                    width = 0,\\n                    domain = 'www.imdb.com',\\n                    validDomain = '';\\n\\n                // specific iframe sizes to show blank\\n                // width/height = true means wildcard\\n                var hiddenIfcSizes = [\\n                    { width:true, height:1000, domains:['.facebook.com'] }\\n                ];\\n\\n                if (typeof window.innerHeight == \"number\") {\\n                    height = window.innerHeight;\\n                    width = window.innerWidth;\\n                } else if (typeof document.body.offsetHeight == \"number\") {\\n                    height = document.body.offsetHeight;\\n                    width = document.body.offsetWidth;\\n                }\\n\\n                for (var n = 0; n < hiddenIfcSizes.length; n++) {\\n                    ifcSize = hiddenIfcSizes[n];\\n                    if ((ifcSize.width === true || ifcSize.width == width)\\n                        && (ifcSize.height === true || ifcSize.height == height)\\n                    ) {\\n                        for (var i = 0; i < ifcSize.domains.length; i++) {\\n                            validDomain = ifcSize.domains[i];\\n                            if (domain.slice(-Math.abs(validDomain.length)) === validDomain || validDomain === '.') {\\n                                return true;\\n                            }\\n                        }\\n                    }\\n                }\\n                return false;\\n            }\\n\\n            function iFrameDetect()\\n            {\\n                if (window.self != window.top) {\\n                    if (hideIFrameSize()) {\\n                        window.location.href=\"about:blank\";\\n                        return;\\n                    }\\n                }\\n            }\\n        </script>\\n</head>\\n<body>\\n<div id=\"container-top\"></div>\\n<div id=\"container\">\\n<div id=\"container-inner\">\\n<div class=\"logo-container\">\\n<p><img src=\"//d36u8deuxga9bo.cloudfront.net/branding-logo/2bc6b2255cbee2a2d17f99e19db60aa72349d407\"/></p>\\n</div>\\n<h2>This domain is blocked.</h2>\\n<p>Sorry, www.imdb.com has been blocked by your administrator.</p><div><br/></div><div>If this was blocked in error, please have a company employee send an email to usw.gis.cyber.border.protection@farmersinsurance.com with a business reason to unblock this site.</div><div><br/></div><div>Please allow up to three (3) business days for the change to occur, pending approvals.</div>\\n<p class=\"light\">This site was categorized in: Movies</p>\\n<p id=\"admin-link\" style=\"float: right;\">\\n<a class=\"light\" href=\"#\" onclick=\"cookieCheck(); show('bypass-login'); hide('admin-link'); return false\">Admin</a>\\n</p>\\n<div style=\"clear: both\"></div>\\n<div id=\"bypass-login\" style=\"display: none; margin: 15px 0 0 0;\">\\n<div class=\"box\">\\n<h3 style=\"margin-bottom: 15px;\">Enter your bypass credentials to access this site</h3>\\n<div id=\"message\"></div>\\n<form method=\"POST\" name=\"bypassForm\">\\n<div id=\"credentials-login\">\\n<h3>Email (or username)</h3>\\n<p class=\"slim\"><input name=\"username\" size=\"15\" type=\"text\"/></p>\\n<h3>Password</h3>\\n<p><input name=\"password\" size=\"15\" type=\"password\"/><br/>\\n<a href=\"http://www.opendns.com/auth/?forgot_password\" target=\"_blank\"><b><small>Forgot Your Password?</small></b></a></p>\\n</div>\\n<div id=\"or\"></div>\\n<div id=\"credentials-code\">\\n<h3>Bypass Code</h3>\\n<p>\\n<input autocomplete=\"off\" id=\"textBypassCode\" size=\"15\" type=\"text\"/>\\n<input id=\"passwordBypassCode\" size=\"15\" style=\"display:none;\" type=\"password\"/>\\n</p>\\n<p id=\"pMaskBypass\"><input id=\"checkboxToggleBypassMask\" onclick=\"toggleBypassMask();\" type=\"checkbox\"/> Mask bypass code</p>\\n<input id=\"bypassCode\" name=\"code\" type=\"hidden\"/>\\n</div>\\n<div style=\"clear: both\"></div>\\n<p><input class=\"bypassBtn\" onclick=\"fillBypass(1); return false;\" type=\"submit\" value=\"Bypass\"/> or <a href=\"#\" onclick=\"hide('bypass-login'); show('admin-link'); return false;\">cancel</a></p>\\n<p style=\"font-size: 13px; color: #999;\"><small>Your IP: 206.252.36.23</small></p>\\n</form>\\n</div><!-- /box -->\\n</div><!-- /bypass-login -->\\n</div><!-- /container-inner -->\\n</div><!-- /container -->\\n<div id=\"container-bottom\"></div>\\n<script>\\n    window.onload=iFrameDetect;\\n</script>\\n</body>\\n</html>\\n"
      ]
     },
     "execution_count": 5,
     "metadata": {},
     "output_type": "execute_result"
    }
   ],
   "source": [
    "soup"
   ]
  }
 ],
 "metadata": {
  "kernelspec": {
   "display_name": "Python 2",
   "language": "python",
   "name": "python2"
  },
  "language_info": {
   "codemirror_mode": {
    "name": "ipython",
    "version": 2
   },
   "file_extension": ".py",
   "mimetype": "text/x-python",
   "name": "python",
   "nbconvert_exporter": "python",
   "pygments_lexer": "ipython2",
   "version": "2.7.13"
  }
 },
 "nbformat": 4,
 "nbformat_minor": 2
}
