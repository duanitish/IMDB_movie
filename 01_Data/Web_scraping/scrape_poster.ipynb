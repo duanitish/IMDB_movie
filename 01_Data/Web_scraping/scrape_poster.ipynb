{
 "cells": [
  {
   "cell_type": "markdown",
   "metadata": {},
   "source": [
    "# Poster scraping\n",
    "\n",
    "=====================================================================================================\n",
    "\n",
    "**AUTHOR**: Mengshan Jin\n",
    "\n",
    "**CREATION DATE**: 08/01/2017\n",
    "\n",
    "=====================================================================================================\n",
    "\n",
    "\n",
    "**PROGRAM DESCRIPTION**: Scraping poster from IMDB page for each movie\n",
    "\n",
    "**INPUT DATASETS**: None\n",
    "\n",
    "**OUTPUT DATASETS**: poster/\n",
    "\n",
    "\n",
    "=====================================================================================================\n",
    "\n",
    "**PROGRAM CHANGE HISTORY**\n",
    "\n",
    "Date|Author|Change|\n",
    "----|------|------|\n",
    "08/03/2017|Mengshan Jin|Added \"Try...Except...\" block in the scraping function to capture potential errors so that it can wait a second and try to download the image again"
   ]
  },
  {
   "cell_type": "code",
   "execution_count": 3,
   "metadata": {
    "collapsed": true
   },
   "outputs": [],
   "source": [
    "import urllib\n",
    "import urllib2\n",
    "from bs4 import BeautifulSoup\n",
    "import numpy as np\n",
    "import pandas as pd\n",
    "import re\n",
    "import os\n",
    "import requests\n",
    "import time"
   ]
  },
  {
   "cell_type": "code",
   "execution_count": 2,
   "metadata": {
    "collapsed": true
   },
   "outputs": [],
   "source": [
    "imdb = pd.read_csv(\"../Inputs/movie_metadata.csv\")"
   ]
  },
  {
   "cell_type": "code",
   "execution_count": 4,
   "metadata": {
    "collapsed": true
   },
   "outputs": [],
   "source": [
    "def poster_scraper(link):\n",
    "    html = urllib2.urlopen(link)\n",
    "    for i in range(10):\n",
    "        try:\n",
    "            soup = BeautifulSoup(html, \"lxml\")\n",
    "            break\n",
    "        except IncompleteRead:\n",
    "            if i == 9:\n",
    "                return None\n",
    "            else:\n",
    "                time.sleep(1)\n",
    "    try:\n",
    "        poster_div = soup.findAll(\"div\", {\"class\":\"poster\"})[0].find('img', src=True)\n",
    "        img_src = poster_div['src']\n",
    "        img_nm = re.sub(r\"/\", \" \", poster_div['title'])\n",
    "    except IndexError:\n",
    "        return None\n",
    "    urllib.urlretrieve(img_src, \"posters/\" + img_nm + \".jpg\")\n",
    "    return None"
   ]
  },
  {
   "cell_type": "code",
   "execution_count": 26,
   "metadata": {
    "collapsed": true
   },
   "outputs": [],
   "source": [
    "# Alternative:\n",
    "# with open(os.path.basename(img_nm), \"wb\") as f:\n",
    "#     f.write(requests.get(img_src).content)"
   ]
  },
  {
   "cell_type": "code",
   "execution_count": 5,
   "metadata": {
    "collapsed": true
   },
   "outputs": [],
   "source": [
    "poster_scraper(imdb['movie_imdb_link'][0])"
   ]
  },
  {
   "cell_type": "code",
   "execution_count": 6,
   "metadata": {
    "collapsed": false
   },
   "outputs": [
    {
     "data": {
      "text/plain": [
       "0       None\n",
       "1       None\n",
       "2       None\n",
       "3       None\n",
       "4       None\n",
       "5       None\n",
       "6       None\n",
       "7       None\n",
       "8       None\n",
       "9       None\n",
       "10      None\n",
       "11      None\n",
       "12      None\n",
       "13      None\n",
       "14      None\n",
       "15      None\n",
       "16      None\n",
       "17      None\n",
       "18      None\n",
       "19      None\n",
       "20      None\n",
       "21      None\n",
       "22      None\n",
       "23      None\n",
       "24      None\n",
       "25      None\n",
       "26      None\n",
       "27      None\n",
       "28      None\n",
       "29      None\n",
       "        ... \n",
       "5013    None\n",
       "5014    None\n",
       "5015    None\n",
       "5016    None\n",
       "5017    None\n",
       "5018    None\n",
       "5019    None\n",
       "5020    None\n",
       "5021    None\n",
       "5022    None\n",
       "5023    None\n",
       "5024    None\n",
       "5025    None\n",
       "5026    None\n",
       "5027    None\n",
       "5028    None\n",
       "5029    None\n",
       "5030    None\n",
       "5031    None\n",
       "5032    None\n",
       "5033    None\n",
       "5034    None\n",
       "5035    None\n",
       "5036    None\n",
       "5037    None\n",
       "5038    None\n",
       "5039    None\n",
       "5040    None\n",
       "5041    None\n",
       "5042    None\n",
       "Name: movie_imdb_link, dtype: object"
      ]
     },
     "execution_count": 6,
     "metadata": {},
     "output_type": "execute_result"
    }
   ],
   "source": [
    "imdb['movie_imdb_link'].apply(lambda x: poster_scraper(x))"
   ]
  }
 ],
 "metadata": {
  "kernelspec": {
   "display_name": "Python 2",
   "language": "python",
   "name": "python2"
  },
  "language_info": {
   "codemirror_mode": {
    "name": "ipython",
    "version": 2
   },
   "file_extension": ".py",
   "mimetype": "text/x-python",
   "name": "python",
   "nbconvert_exporter": "python",
   "pygments_lexer": "ipython2",
   "version": "2.7.13"
  }
 },
 "nbformat": 4,
 "nbformat_minor": 1
}
