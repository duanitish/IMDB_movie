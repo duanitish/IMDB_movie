{
 "cells": [
  {
   "cell_type": "markdown",
   "metadata": {},
   "source": [
    "# Reference materials\n",
    "0. [Vector Representations of Words](https://www.tensorflow.org/tutorials/word2vec)\n",
    "1. [Word2Vec Tutorial Part 1 - The Skip-Gram Model](http://mccormickml.com/2016/04/19/word2vec-tutorial-the-skip-gram-model/)\n",
    "2. [Word2Vec Tutorial Part 2 - Negative Sampling](http://mccormickml.com/2017/01/11/word2vec-tutorial-part-2-negative-sampling/)\n",
    "3. [From word2vec to doc2vec: an approach driven by Chinese restaurant process](https://medium.com/kifi-engineering/from-word2vec-to-doc2vec-an-approach-driven-by-chinese-restaurant-process-93d3602eaa31)\n",
    "4. [Doc2Vec tutorial using Gensim](https://medium.com/@klintcho/doc2vec-tutorial-using-gensim-ab3ac03d3a1)\n",
    "5. [Sentiment Analysis Using Doc2Vec](http://linanqiu.github.io/2015/10/07/word2vec-sentiment/)\n",
    "6. [Understanding Convolutional Neural Networks for NLP](http://www.wildml.com/2015/11/understanding-convolutional-neural-networks-for-nlp/)\n",
    "7. [Implementing a CNN for Text Classification in TensorFlow](http://www.wildml.com/2015/12/implementing-a-cnn-for-text-classification-in-tensorflow/)"
   ]
  },
  {
   "cell_type": "markdown",
   "metadata": {},
   "source": [
    "# How to do document clustering with word2vec and doc2vec?\n",
    "\n",
    "**Steps:**\n",
    "1. Train a word2vec model to get word vectors\n",
    "    - Made word2vec_starter.py to work\n",
    "    - Question: How to feed the embeddings to the doc2vec model?\n",
    "2. Get doc2vec from word2vec, but HOW(in Tensorflow)???\n",
    "    - Chinese Restaurant Process method\n",
    "    - Gensim doc2vec\n",
    "    - CNN with multi-genre classification(See Viola's work)\n",
    "3. Clustering\n",
    "    - Feed document vectors as features to a classification model\n",
    "    - Calculate cosine similarity between document vectors, maybe cluster documents using the DBSCAN method?"
   ]
  }
 ],
 "metadata": {
  "kernelspec": {
   "display_name": "Python 2",
   "language": "python",
   "name": "python2"
  },
  "language_info": {
   "codemirror_mode": {
    "name": "ipython",
    "version": 2
   },
   "file_extension": ".py",
   "mimetype": "text/x-python",
   "name": "python",
   "nbconvert_exporter": "python",
   "pygments_lexer": "ipython2",
   "version": "2.7.13"
  }
 },
 "nbformat": 4,
 "nbformat_minor": 2
}
