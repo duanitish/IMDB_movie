{
 "cells": [
  {
   "cell_type": "markdown",
   "metadata": {},
   "source": [
    "# Reference materials\n",
    "0. [Vector Representations of Words](https://www.tensorflow.org/tutorials/word2vec)\n",
    "1. [Word2Vec Tutorial Part 1 - The Skip-Gram Model](http://mccormickml.com/2016/04/19/word2vec-tutorial-the-skip-gram-model/)\n",
    "2. [Word2Vec Tutorial Part 2 - Negative Sampling](http://mccormickml.com/2017/01/11/word2vec-tutorial-part-2-negative-sampling/)\n",
    "3. [From word2vec to doc2vec: an approach driven by Chinese restaurant process](https://medium.com/kifi-engineering/from-word2vec-to-doc2vec-an-approach-driven-by-chinese-restaurant-process-93d3602eaa31)\n",
    "4. [Doc2Vec tutorial using Gensim](https://medium.com/@klintcho/doc2vec-tutorial-using-gensim-ab3ac03d3a1)\n",
    "5. [Sentiment Analysis Using Doc2Vec](http://linanqiu.github.io/2015/10/07/word2vec-sentiment/)\n",
    "6. [Understanding Convolutional Neural Networks for NLP](http://www.wildml.com/2015/11/understanding-convolutional-neural-networks-for-nlp/)\n",
    "7. [Implementing a CNN for Text Classification in TensorFlow](http://www.wildml.com/2015/12/implementing-a-cnn-for-text-classification-in-tensorflow/)\n",
    "8. [cnn-text-classification-github](https://github.com/cahya-wirawan/cnn-text-classification-tf)"
   ]
  },
  {
   "cell_type": "markdown",
   "metadata": {},
   "source": [
    "# How to do document clustering with word2vec and doc2vec?\n",
    "\n",
    "**Steps:**\n",
    "1. Train a word2vec model to get word vectors\n",
    "    - Made word2vec_starter.py to work\n",
    "    - Question: How to feed the embeddings to the doc2vec model?\n",
    "        - Read in pre-trained embeddings\n",
    "2. Get doc2vec from word2vec, but HOW(in Tensorflow)???\n",
    "    - Chinese Restaurant Process method\n",
    "    - Gensim doc2vec\n",
    "    - CNN with multi-genre classification(See Viola's work)\n",
    "3. Clustering\n",
    "    - Feed document vectors as features to a classification model\n",
    "    - Calculate cosine similarity between document vectors, maybe cluster documents using the DBSCAN method?"
   ]
  },
  {
   "cell_type": "markdown",
   "metadata": {},
   "source": [
    "# Section 0: Import packages"
   ]
  },
  {
   "cell_type": "code",
   "execution_count": 1,
   "metadata": {
    "collapsed": true
   },
   "outputs": [],
   "source": [
    "import numpy as np\n",
    "import pandas as pd\n",
    "import codecs\n",
    "from collections import Counter"
   ]
  },
  {
   "cell_type": "markdown",
   "metadata": {},
   "source": [
    "# Section 1: Data preparation"
   ]
  },
  {
   "cell_type": "code",
   "execution_count": 5,
   "metadata": {
    "collapsed": true
   },
   "outputs": [],
   "source": [
    "imdb_with_storyline = pd.read_csv(\"../../01_Data/Outputs/imdb_with_storyline.csv\")"
   ]
  },
  {
   "cell_type": "code",
   "execution_count": 6,
   "metadata": {
    "collapsed": true
   },
   "outputs": [],
   "source": [
    "genres = Counter([item for sublist in list(imdb_with_storyline['genres'].str.split('|')) for item in sublist])\n",
    "genres = pd.DataFrame(genres.most_common()).set_index([0], drop=True)\n",
    "del genres.index.name\n",
    "genres.columns = ['Count']"
   ]
  },
  {
   "cell_type": "code",
   "execution_count": 7,
   "metadata": {},
   "outputs": [
    {
     "data": {
      "text/plain": [
       "['Drama',\n",
       " 'Comedy',\n",
       " 'Thriller',\n",
       " 'Action',\n",
       " 'Romance',\n",
       " 'Adventure',\n",
       " 'Crime',\n",
       " 'Sci-Fi',\n",
       " 'Fantasy',\n",
       " 'Horror',\n",
       " 'Family',\n",
       " 'Mystery',\n",
       " 'Biography',\n",
       " 'Animation',\n",
       " 'Music',\n",
       " 'War',\n",
       " 'History',\n",
       " 'Sport',\n",
       " 'Musical',\n",
       " 'Documentary',\n",
       " 'Western']"
      ]
     },
     "execution_count": 7,
     "metadata": {},
     "output_type": "execute_result"
    }
   ],
   "source": [
    "genres.loc[genres['Count']>50].index.tolist()\n",
    "# convert other genres to 'Others'"
   ]
  },
  {
   "cell_type": "code",
   "execution_count": 38,
   "metadata": {},
   "outputs": [
    {
     "data": {
      "text/plain": [
       "['Film-Noir', 'Short', 'News', 'Reality-TV', 'Game-Show']"
      ]
     },
     "execution_count": 38,
     "metadata": {},
     "output_type": "execute_result"
    }
   ],
   "source": [
    "genres.loc[genres['Count']<50].index.tolist()"
   ]
  },
  {
   "cell_type": "code",
   "execution_count": 10,
   "metadata": {
    "collapsed": true
   },
   "outputs": [],
   "source": [
    "imdb = imdb_with_storyline[['storyline', 'title_year', 'genres']].set_index(imdb_with_storyline['movie_title'])\n",
    "imdb = pd.concat([imdb[['storyline', 'title_year']], imdb['genres'].apply(lambda x: '|'.join(pd.Series(x))).str.get_dummies()], axis=1)\n",
    "imdb['Others'] = imdb[genres.loc[genres['Count']<50].index.tolist()].sum(axis=1).apply(lambda x: 1 if x > 0 else 0)\n",
    "imdb = imdb[['storyline', 'title_year'] + genres.loc[genres['Count']>50].index.tolist() + ['Others']]"
   ]
  },
  {
   "cell_type": "code",
   "execution_count": 11,
   "metadata": {},
   "outputs": [
    {
     "data": {
      "text/html": [
       "<div>\n",
       "<style>\n",
       "    .dataframe thead tr:only-child th {\n",
       "        text-align: right;\n",
       "    }\n",
       "\n",
       "    .dataframe thead th {\n",
       "        text-align: left;\n",
       "    }\n",
       "\n",
       "    .dataframe tbody tr th {\n",
       "        vertical-align: top;\n",
       "    }\n",
       "</style>\n",
       "<table border=\"1\" class=\"dataframe\">\n",
       "  <thead>\n",
       "    <tr style=\"text-align: right;\">\n",
       "      <th></th>\n",
       "      <th>storyline</th>\n",
       "      <th>title_year</th>\n",
       "      <th>Drama</th>\n",
       "      <th>Comedy</th>\n",
       "      <th>Thriller</th>\n",
       "      <th>Action</th>\n",
       "      <th>Romance</th>\n",
       "      <th>Adventure</th>\n",
       "      <th>Crime</th>\n",
       "      <th>Sci-Fi</th>\n",
       "      <th>...</th>\n",
       "      <th>Biography</th>\n",
       "      <th>Animation</th>\n",
       "      <th>Music</th>\n",
       "      <th>War</th>\n",
       "      <th>History</th>\n",
       "      <th>Sport</th>\n",
       "      <th>Musical</th>\n",
       "      <th>Documentary</th>\n",
       "      <th>Western</th>\n",
       "      <th>Others</th>\n",
       "    </tr>\n",
       "    <tr>\n",
       "      <th>movie_title</th>\n",
       "      <th></th>\n",
       "      <th></th>\n",
       "      <th></th>\n",
       "      <th></th>\n",
       "      <th></th>\n",
       "      <th></th>\n",
       "      <th></th>\n",
       "      <th></th>\n",
       "      <th></th>\n",
       "      <th></th>\n",
       "      <th></th>\n",
       "      <th></th>\n",
       "      <th></th>\n",
       "      <th></th>\n",
       "      <th></th>\n",
       "      <th></th>\n",
       "      <th></th>\n",
       "      <th></th>\n",
       "      <th></th>\n",
       "      <th></th>\n",
       "      <th></th>\n",
       "    </tr>\n",
       "  </thead>\n",
       "  <tbody>\n",
       "    <tr>\n",
       "      <th>Avatar</th>\n",
       "      <td>When his brother is killed in a robbery, parap...</td>\n",
       "      <td>2009.0</td>\n",
       "      <td>0</td>\n",
       "      <td>0</td>\n",
       "      <td>0</td>\n",
       "      <td>1</td>\n",
       "      <td>0</td>\n",
       "      <td>1</td>\n",
       "      <td>0</td>\n",
       "      <td>1</td>\n",
       "      <td>...</td>\n",
       "      <td>0</td>\n",
       "      <td>0</td>\n",
       "      <td>0</td>\n",
       "      <td>0</td>\n",
       "      <td>0</td>\n",
       "      <td>0</td>\n",
       "      <td>0</td>\n",
       "      <td>0</td>\n",
       "      <td>0</td>\n",
       "      <td>0</td>\n",
       "    </tr>\n",
       "    <tr>\n",
       "      <th>Pirates of the Caribbean: At World's End</th>\n",
       "      <td>After Elizabeth, Will, and Captain Barbossa re...</td>\n",
       "      <td>2007.0</td>\n",
       "      <td>0</td>\n",
       "      <td>0</td>\n",
       "      <td>0</td>\n",
       "      <td>1</td>\n",
       "      <td>0</td>\n",
       "      <td>1</td>\n",
       "      <td>0</td>\n",
       "      <td>0</td>\n",
       "      <td>...</td>\n",
       "      <td>0</td>\n",
       "      <td>0</td>\n",
       "      <td>0</td>\n",
       "      <td>0</td>\n",
       "      <td>0</td>\n",
       "      <td>0</td>\n",
       "      <td>0</td>\n",
       "      <td>0</td>\n",
       "      <td>0</td>\n",
       "      <td>0</td>\n",
       "    </tr>\n",
       "    <tr>\n",
       "      <th>Spectre</th>\n",
       "      <td>A cryptic message from the past sends James Bo...</td>\n",
       "      <td>2015.0</td>\n",
       "      <td>0</td>\n",
       "      <td>0</td>\n",
       "      <td>1</td>\n",
       "      <td>1</td>\n",
       "      <td>0</td>\n",
       "      <td>1</td>\n",
       "      <td>0</td>\n",
       "      <td>0</td>\n",
       "      <td>...</td>\n",
       "      <td>0</td>\n",
       "      <td>0</td>\n",
       "      <td>0</td>\n",
       "      <td>0</td>\n",
       "      <td>0</td>\n",
       "      <td>0</td>\n",
       "      <td>0</td>\n",
       "      <td>0</td>\n",
       "      <td>0</td>\n",
       "      <td>0</td>\n",
       "    </tr>\n",
       "    <tr>\n",
       "      <th>The Dark Knight Rises</th>\n",
       "      <td>Despite his tarnished reputation after the eve...</td>\n",
       "      <td>2012.0</td>\n",
       "      <td>0</td>\n",
       "      <td>0</td>\n",
       "      <td>1</td>\n",
       "      <td>1</td>\n",
       "      <td>0</td>\n",
       "      <td>0</td>\n",
       "      <td>0</td>\n",
       "      <td>0</td>\n",
       "      <td>...</td>\n",
       "      <td>0</td>\n",
       "      <td>0</td>\n",
       "      <td>0</td>\n",
       "      <td>0</td>\n",
       "      <td>0</td>\n",
       "      <td>0</td>\n",
       "      <td>0</td>\n",
       "      <td>0</td>\n",
       "      <td>0</td>\n",
       "      <td>0</td>\n",
       "    </tr>\n",
       "    <tr>\n",
       "      <th>Star Wars: Episode VII - The Force Awakens</th>\n",
       "      <td>NaN</td>\n",
       "      <td>NaN</td>\n",
       "      <td>0</td>\n",
       "      <td>0</td>\n",
       "      <td>0</td>\n",
       "      <td>0</td>\n",
       "      <td>0</td>\n",
       "      <td>0</td>\n",
       "      <td>0</td>\n",
       "      <td>0</td>\n",
       "      <td>...</td>\n",
       "      <td>0</td>\n",
       "      <td>0</td>\n",
       "      <td>0</td>\n",
       "      <td>0</td>\n",
       "      <td>0</td>\n",
       "      <td>0</td>\n",
       "      <td>0</td>\n",
       "      <td>1</td>\n",
       "      <td>0</td>\n",
       "      <td>0</td>\n",
       "    </tr>\n",
       "  </tbody>\n",
       "</table>\n",
       "<p>5 rows × 24 columns</p>\n",
       "</div>"
      ],
      "text/plain": [
       "                                                                                            storyline  \\\n",
       "movie_title                                                                                             \n",
       "Avatar                                              When his brother is killed in a robbery, parap...   \n",
       "Pirates of the Caribbean: At World's End            After Elizabeth, Will, and Captain Barbossa re...   \n",
       "Spectre                                             A cryptic message from the past sends James Bo...   \n",
       "The Dark Knight Rises                               Despite his tarnished reputation after the eve...   \n",
       "Star Wars: Episode VII - The Force Awakens     ...                                                NaN   \n",
       "\n",
       "                                                    title_year  Drama  Comedy  \\\n",
       "movie_title                                                                     \n",
       "Avatar                                                  2009.0      0       0   \n",
       "Pirates of the Caribbean: At World's End                2007.0      0       0   \n",
       "Spectre                                                 2015.0      0       0   \n",
       "The Dark Knight Rises                                   2012.0      0       0   \n",
       "Star Wars: Episode VII - The Force Awakens     ...         NaN      0       0   \n",
       "\n",
       "                                                    Thriller  Action  Romance  \\\n",
       "movie_title                                                                     \n",
       "Avatar                                                     0       1        0   \n",
       "Pirates of the Caribbean: At World's End                   0       1        0   \n",
       "Spectre                                                    1       1        0   \n",
       "The Dark Knight Rises                                      1       1        0   \n",
       "Star Wars: Episode VII - The Force Awakens     ...         0       0        0   \n",
       "\n",
       "                                                    Adventure  Crime  Sci-Fi  \\\n",
       "movie_title                                                                    \n",
       "Avatar                                                      1      0       1   \n",
       "Pirates of the Caribbean: At World's End                    1      0       0   \n",
       "Spectre                                                     1      0       0   \n",
       "The Dark Knight Rises                                       0      0       0   \n",
       "Star Wars: Episode VII - The Force Awakens     ...          0      0       0   \n",
       "\n",
       "                                                     ...    Biography  \\\n",
       "movie_title                                          ...                \n",
       "Avatar                                               ...            0   \n",
       "Pirates of the Caribbean: At World's End             ...            0   \n",
       "Spectre                                              ...            0   \n",
       "The Dark Knight Rises                                ...            0   \n",
       "Star Wars: Episode VII - The Force Awakens     ...   ...            0   \n",
       "\n",
       "                                                    Animation  Music  War  \\\n",
       "movie_title                                                                 \n",
       "Avatar                                                      0      0    0   \n",
       "Pirates of the Caribbean: At World's End                    0      0    0   \n",
       "Spectre                                                     0      0    0   \n",
       "The Dark Knight Rises                                       0      0    0   \n",
       "Star Wars: Episode VII - The Force Awakens     ...          0      0    0   \n",
       "\n",
       "                                                    History  Sport  Musical  \\\n",
       "movie_title                                                                   \n",
       "Avatar                                                    0      0        0   \n",
       "Pirates of the Caribbean: At World's End                  0      0        0   \n",
       "Spectre                                                   0      0        0   \n",
       "The Dark Knight Rises                                     0      0        0   \n",
       "Star Wars: Episode VII - The Force Awakens     ...        0      0        0   \n",
       "\n",
       "                                                    Documentary  Western  \\\n",
       "movie_title                                                                \n",
       "Avatar                                                        0        0   \n",
       "Pirates of the Caribbean: At World's End                      0        0   \n",
       "Spectre                                                       0        0   \n",
       "The Dark Knight Rises                                         0        0   \n",
       "Star Wars: Episode VII - The Force Awakens     ...            1        0   \n",
       "\n",
       "                                                    Others  \n",
       "movie_title                                                 \n",
       "Avatar                                                   0  \n",
       "Pirates of the Caribbean: At World's End                 0  \n",
       "Spectre                                                  0  \n",
       "The Dark Knight Rises                                    0  \n",
       "Star Wars: Episode VII - The Force Awakens     ...       0  \n",
       "\n",
       "[5 rows x 24 columns]"
      ]
     },
     "execution_count": 11,
     "metadata": {},
     "output_type": "execute_result"
    }
   ],
   "source": [
    "imdb.head()"
   ]
  },
  {
   "cell_type": "code",
   "execution_count": 12,
   "metadata": {},
   "outputs": [
    {
     "data": {
      "text/plain": [
       "0    5027\n",
       "1      16\n",
       "Name: Others, dtype: int64"
      ]
     },
     "execution_count": 12,
     "metadata": {},
     "output_type": "execute_result"
    }
   ],
   "source": [
    "imdb['Others'].value_counts()"
   ]
  },
  {
   "cell_type": "code",
   "execution_count": 13,
   "metadata": {
    "collapsed": true
   },
   "outputs": [],
   "source": [
    "imdb_train = imdb.loc[imdb['title_year'] < 2015]\n",
    "imdb_test = imdb.loc[imdb['title_year'] >= 2015]"
   ]
  },
  {
   "cell_type": "code",
   "execution_count": 19,
   "metadata": {},
   "outputs": [
    {
     "data": {
      "text/plain": [
       "(4603, 23)"
      ]
     },
     "execution_count": 19,
     "metadata": {},
     "output_type": "execute_result"
    }
   ],
   "source": [
    "imdb_train.shape"
   ]
  },
  {
   "cell_type": "code",
   "execution_count": 18,
   "metadata": {},
   "outputs": [],
   "source": [
    "imdb_train = imdb_train.drop(\"title_year\", 1)"
   ]
  },
  {
   "cell_type": "code",
   "execution_count": 21,
   "metadata": {},
   "outputs": [
    {
     "data": {
      "text/plain": [
       "(332, 23)"
      ]
     },
     "execution_count": 21,
     "metadata": {},
     "output_type": "execute_result"
    }
   ],
   "source": [
    "imdb_test.shape"
   ]
  },
  {
   "cell_type": "code",
   "execution_count": 20,
   "metadata": {
    "collapsed": true
   },
   "outputs": [],
   "source": [
    "imdb_test = imdb_test.drop(\"title_year\", 1)"
   ]
  },
  {
   "cell_type": "code",
   "execution_count": 50,
   "metadata": {
    "collapsed": true
   },
   "outputs": [],
   "source": [
    "imdb.to_csv(\"../../01_Data/Outputs/storyline_with_genres.csv\", index=True)"
   ]
  },
  {
   "cell_type": "code",
   "execution_count": 22,
   "metadata": {
    "collapsed": true
   },
   "outputs": [],
   "source": [
    "imdb_train.to_csv(\"../../01_Data/Outputs/storyline_with_genres_train.csv\", index=True)\n",
    "imdb_test.to_csv(\"../../01_Data/Outputs/storyline_with_genres_test.csv\", index=True)"
   ]
  },
  {
   "cell_type": "code",
   "execution_count": 2,
   "metadata": {
    "collapsed": true
   },
   "outputs": [],
   "source": [
    "imdb = pd.read_csv(\"../../01_Data/Outputs/storyline_with_genres.csv\", index_col=0)"
   ]
  },
  {
   "cell_type": "code",
   "execution_count": 3,
   "metadata": {},
   "outputs": [
    {
     "data": {
      "text/html": [
       "<div>\n",
       "<style>\n",
       "    .dataframe thead tr:only-child th {\n",
       "        text-align: right;\n",
       "    }\n",
       "\n",
       "    .dataframe thead th {\n",
       "        text-align: left;\n",
       "    }\n",
       "\n",
       "    .dataframe tbody tr th {\n",
       "        vertical-align: top;\n",
       "    }\n",
       "</style>\n",
       "<table border=\"1\" class=\"dataframe\">\n",
       "  <thead>\n",
       "    <tr style=\"text-align: right;\">\n",
       "      <th></th>\n",
       "      <th>storyline</th>\n",
       "      <th>Drama</th>\n",
       "      <th>Comedy</th>\n",
       "      <th>Thriller</th>\n",
       "      <th>Action</th>\n",
       "      <th>Romance</th>\n",
       "      <th>Adventure</th>\n",
       "      <th>Crime</th>\n",
       "      <th>Sci-Fi</th>\n",
       "      <th>Fantasy</th>\n",
       "      <th>...</th>\n",
       "      <th>Biography</th>\n",
       "      <th>Animation</th>\n",
       "      <th>Music</th>\n",
       "      <th>War</th>\n",
       "      <th>History</th>\n",
       "      <th>Sport</th>\n",
       "      <th>Musical</th>\n",
       "      <th>Documentary</th>\n",
       "      <th>Western</th>\n",
       "      <th>Others</th>\n",
       "    </tr>\n",
       "    <tr>\n",
       "      <th>movie_title</th>\n",
       "      <th></th>\n",
       "      <th></th>\n",
       "      <th></th>\n",
       "      <th></th>\n",
       "      <th></th>\n",
       "      <th></th>\n",
       "      <th></th>\n",
       "      <th></th>\n",
       "      <th></th>\n",
       "      <th></th>\n",
       "      <th></th>\n",
       "      <th></th>\n",
       "      <th></th>\n",
       "      <th></th>\n",
       "      <th></th>\n",
       "      <th></th>\n",
       "      <th></th>\n",
       "      <th></th>\n",
       "      <th></th>\n",
       "      <th></th>\n",
       "      <th></th>\n",
       "    </tr>\n",
       "  </thead>\n",
       "  <tbody>\n",
       "    <tr>\n",
       "      <th>Avatar</th>\n",
       "      <td>When his brother is killed in a robbery, parap...</td>\n",
       "      <td>0</td>\n",
       "      <td>0</td>\n",
       "      <td>0</td>\n",
       "      <td>1</td>\n",
       "      <td>0</td>\n",
       "      <td>1</td>\n",
       "      <td>0</td>\n",
       "      <td>1</td>\n",
       "      <td>1</td>\n",
       "      <td>...</td>\n",
       "      <td>0</td>\n",
       "      <td>0</td>\n",
       "      <td>0</td>\n",
       "      <td>0</td>\n",
       "      <td>0</td>\n",
       "      <td>0</td>\n",
       "      <td>0</td>\n",
       "      <td>0</td>\n",
       "      <td>0</td>\n",
       "      <td>0</td>\n",
       "    </tr>\n",
       "    <tr>\n",
       "      <th>Pirates of the Caribbean: At World's End</th>\n",
       "      <td>After Elizabeth, Will, and Captain Barbossa re...</td>\n",
       "      <td>0</td>\n",
       "      <td>0</td>\n",
       "      <td>0</td>\n",
       "      <td>1</td>\n",
       "      <td>0</td>\n",
       "      <td>1</td>\n",
       "      <td>0</td>\n",
       "      <td>0</td>\n",
       "      <td>1</td>\n",
       "      <td>...</td>\n",
       "      <td>0</td>\n",
       "      <td>0</td>\n",
       "      <td>0</td>\n",
       "      <td>0</td>\n",
       "      <td>0</td>\n",
       "      <td>0</td>\n",
       "      <td>0</td>\n",
       "      <td>0</td>\n",
       "      <td>0</td>\n",
       "      <td>0</td>\n",
       "    </tr>\n",
       "    <tr>\n",
       "      <th>Spectre</th>\n",
       "      <td>A cryptic message from the past sends James Bo...</td>\n",
       "      <td>0</td>\n",
       "      <td>0</td>\n",
       "      <td>1</td>\n",
       "      <td>1</td>\n",
       "      <td>0</td>\n",
       "      <td>1</td>\n",
       "      <td>0</td>\n",
       "      <td>0</td>\n",
       "      <td>0</td>\n",
       "      <td>...</td>\n",
       "      <td>0</td>\n",
       "      <td>0</td>\n",
       "      <td>0</td>\n",
       "      <td>0</td>\n",
       "      <td>0</td>\n",
       "      <td>0</td>\n",
       "      <td>0</td>\n",
       "      <td>0</td>\n",
       "      <td>0</td>\n",
       "      <td>0</td>\n",
       "    </tr>\n",
       "    <tr>\n",
       "      <th>The Dark Knight Rises</th>\n",
       "      <td>Despite his tarnished reputation after the eve...</td>\n",
       "      <td>0</td>\n",
       "      <td>0</td>\n",
       "      <td>1</td>\n",
       "      <td>1</td>\n",
       "      <td>0</td>\n",
       "      <td>0</td>\n",
       "      <td>0</td>\n",
       "      <td>0</td>\n",
       "      <td>0</td>\n",
       "      <td>...</td>\n",
       "      <td>0</td>\n",
       "      <td>0</td>\n",
       "      <td>0</td>\n",
       "      <td>0</td>\n",
       "      <td>0</td>\n",
       "      <td>0</td>\n",
       "      <td>0</td>\n",
       "      <td>0</td>\n",
       "      <td>0</td>\n",
       "      <td>0</td>\n",
       "    </tr>\n",
       "    <tr>\n",
       "      <th>Star Wars: Episode VII - The Force Awakens</th>\n",
       "      <td>NaN</td>\n",
       "      <td>0</td>\n",
       "      <td>0</td>\n",
       "      <td>0</td>\n",
       "      <td>0</td>\n",
       "      <td>0</td>\n",
       "      <td>0</td>\n",
       "      <td>0</td>\n",
       "      <td>0</td>\n",
       "      <td>0</td>\n",
       "      <td>...</td>\n",
       "      <td>0</td>\n",
       "      <td>0</td>\n",
       "      <td>0</td>\n",
       "      <td>0</td>\n",
       "      <td>0</td>\n",
       "      <td>0</td>\n",
       "      <td>0</td>\n",
       "      <td>1</td>\n",
       "      <td>0</td>\n",
       "      <td>0</td>\n",
       "    </tr>\n",
       "  </tbody>\n",
       "</table>\n",
       "<p>5 rows × 23 columns</p>\n",
       "</div>"
      ],
      "text/plain": [
       "                                                                                            storyline  \\\n",
       "movie_title                                                                                             \n",
       "Avatar                                              When his brother is killed in a robbery, parap...   \n",
       "Pirates of the Caribbean: At World's End            After Elizabeth, Will, and Captain Barbossa re...   \n",
       "Spectre                                             A cryptic message from the past sends James Bo...   \n",
       "The Dark Knight Rises                               Despite his tarnished reputation after the eve...   \n",
       "Star Wars: Episode VII - The Force Awakens     ...                                                NaN   \n",
       "\n",
       "                                                    Drama  Comedy  Thriller  \\\n",
       "movie_title                                                                   \n",
       "Avatar                                                  0       0         0   \n",
       "Pirates of the Caribbean: At World's End                0       0         0   \n",
       "Spectre                                                 0       0         1   \n",
       "The Dark Knight Rises                                   0       0         1   \n",
       "Star Wars: Episode VII - The Force Awakens     ...      0       0         0   \n",
       "\n",
       "                                                    Action  Romance  \\\n",
       "movie_title                                                           \n",
       "Avatar                                                   1        0   \n",
       "Pirates of the Caribbean: At World's End                 1        0   \n",
       "Spectre                                                  1        0   \n",
       "The Dark Knight Rises                                    1        0   \n",
       "Star Wars: Episode VII - The Force Awakens     ...       0        0   \n",
       "\n",
       "                                                    Adventure  Crime  Sci-Fi  \\\n",
       "movie_title                                                                    \n",
       "Avatar                                                      1      0       1   \n",
       "Pirates of the Caribbean: At World's End                    1      0       0   \n",
       "Spectre                                                     1      0       0   \n",
       "The Dark Knight Rises                                       0      0       0   \n",
       "Star Wars: Episode VII - The Force Awakens     ...          0      0       0   \n",
       "\n",
       "                                                    Fantasy   ...    \\\n",
       "movie_title                                                   ...     \n",
       "Avatar                                                    1   ...     \n",
       "Pirates of the Caribbean: At World's End                  1   ...     \n",
       "Spectre                                                   0   ...     \n",
       "The Dark Knight Rises                                     0   ...     \n",
       "Star Wars: Episode VII - The Force Awakens     ...        0   ...     \n",
       "\n",
       "                                                    Biography  Animation  \\\n",
       "movie_title                                                                \n",
       "Avatar                                                      0          0   \n",
       "Pirates of the Caribbean: At World's End                    0          0   \n",
       "Spectre                                                     0          0   \n",
       "The Dark Knight Rises                                       0          0   \n",
       "Star Wars: Episode VII - The Force Awakens     ...          0          0   \n",
       "\n",
       "                                                    Music  War  History  \\\n",
       "movie_title                                                               \n",
       "Avatar                                                  0    0        0   \n",
       "Pirates of the Caribbean: At World's End                0    0        0   \n",
       "Spectre                                                 0    0        0   \n",
       "The Dark Knight Rises                                   0    0        0   \n",
       "Star Wars: Episode VII - The Force Awakens     ...      0    0        0   \n",
       "\n",
       "                                                    Sport  Musical  \\\n",
       "movie_title                                                          \n",
       "Avatar                                                  0        0   \n",
       "Pirates of the Caribbean: At World's End                0        0   \n",
       "Spectre                                                 0        0   \n",
       "The Dark Knight Rises                                   0        0   \n",
       "Star Wars: Episode VII - The Force Awakens     ...      0        0   \n",
       "\n",
       "                                                    Documentary  Western  \\\n",
       "movie_title                                                                \n",
       "Avatar                                                        0        0   \n",
       "Pirates of the Caribbean: At World's End                      0        0   \n",
       "Spectre                                                       0        0   \n",
       "The Dark Knight Rises                                         0        0   \n",
       "Star Wars: Episode VII - The Force Awakens     ...            1        0   \n",
       "\n",
       "                                                    Others  \n",
       "movie_title                                                 \n",
       "Avatar                                                   0  \n",
       "Pirates of the Caribbean: At World's End                 0  \n",
       "Spectre                                                  0  \n",
       "The Dark Knight Rises                                    0  \n",
       "Star Wars: Episode VII - The Force Awakens     ...       0  \n",
       "\n",
       "[5 rows x 23 columns]"
      ]
     },
     "execution_count": 3,
     "metadata": {},
     "output_type": "execute_result"
    }
   ],
   "source": [
    "imdb.head()"
   ]
  },
  {
   "cell_type": "code",
   "execution_count": 18,
   "metadata": {
    "collapsed": true
   },
   "outputs": [],
   "source": [
    "imdb['storyline'].to_csv(\"../../01_Data/Outputs/storyline.txt\", sep=\"\\n\", index=False)"
   ]
  }
 ],
 "metadata": {
  "kernelspec": {
   "display_name": "Python 2",
   "language": "python",
   "name": "python2"
  },
  "language_info": {
   "codemirror_mode": {
    "name": "ipython",
    "version": 2
   },
   "file_extension": ".py",
   "mimetype": "text/x-python",
   "name": "python",
   "nbconvert_exporter": "python",
   "pygments_lexer": "ipython2",
   "version": "2.7.13"
  }
 },
 "nbformat": 4,
 "nbformat_minor": 2
}
