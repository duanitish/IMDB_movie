{
 "cells": [
  {
   "cell_type": "markdown",
   "metadata": {},
   "source": [
    "# IMDB 5000 Movie Dataset Clustering\n",
    "\n",
    "===========================================================================================================\n",
    "\n",
    "**AUTHOR**: Mengshan Jin\n",
    "\n",
    "**CREATION DATE**: 08/03/2017\n",
    "\n",
    "===========================================================================================================\n",
    "\n",
    "**PROGRAM DESCRIPTION**: Clustering on the movies using the codified data only\n",
    "\n",
    "**INPUT DATASETS**: 01_Data/Outputs/imdb_modern_cleaned.csv\n",
    "\n",
    "**OUTPUT DATASETS**: \n",
    "\n",
    "**SCOPE**: 1980-2016 English movies\n",
    "\n",
    "===========================================================================================================\n",
    "\n",
    "**PROGRAM CHANGE HISTORY**\n",
    "\n",
    "Date|Author|Change|\n",
    "----|------|------|"
   ]
  },
  {
   "cell_type": "markdown",
   "metadata": {},
   "source": [
    "# Section 0: Import packages"
   ]
  },
  {
   "cell_type": "code",
   "execution_count": 1,
   "metadata": {
    "collapsed": true
   },
   "outputs": [],
   "source": [
    "# Data structure\n",
    "import numpy as np\n",
    "import pandas as pd\n",
    "np.random.seed(7)\n",
    "# pd.options.mode.chained_assignment = None  # default='warn'\n",
    "\n",
    "# plotting\n",
    "import matplotlib.pyplot as plt\n",
    "%matplotlib inline\n",
    "import seaborn as sns; sns.set(style=\"ticks\", color_codes=True)\n",
    "\n",
    "# utilities\n",
    "import copy\n",
    "\n",
    "# sklearn\n",
    "from sklearn.cluster import AgglomerativeClustering, KMeans\n",
    "from sklearn.pipeline import Pipeline\n",
    "from sklearn.model_selection import GridSearchCV, ParameterGrid\n",
    "from sklearn.externals import joblib"
   ]
  },
  {
   "cell_type": "markdown",
   "metadata": {},
   "source": [
    "# Section 1: Read data"
   ]
  },
  {
   "cell_type": "code",
   "execution_count": 2,
   "metadata": {
    "collapsed": true
   },
   "outputs": [],
   "source": [
    "imdb_modern_cleaned = pd.read_csv(\"../../01_Data/Outputs/imdb_modern_cleaned.csv\", index_col=0)"
   ]
  },
  {
   "cell_type": "code",
   "execution_count": 21,
   "metadata": {},
   "outputs": [
    {
     "data": {
      "text/plain": [
       "0"
      ]
     },
     "execution_count": 21,
     "metadata": {},
     "output_type": "execute_result"
    }
   ],
   "source": [
    "# check duplicates\n",
    "imdb_modern_cleaned.duplicated().sum() # No duplicates"
   ]
  },
  {
   "cell_type": "code",
   "execution_count": 3,
   "metadata": {},
   "outputs": [
    {
     "data": {
      "text/html": [
       "<div>\n",
       "<style>\n",
       "    .dataframe thead tr:only-child th {\n",
       "        text-align: right;\n",
       "    }\n",
       "\n",
       "    .dataframe thead th {\n",
       "        text-align: left;\n",
       "    }\n",
       "\n",
       "    .dataframe tbody tr th {\n",
       "        vertical-align: top;\n",
       "    }\n",
       "</style>\n",
       "<table border=\"1\" class=\"dataframe\">\n",
       "  <thead>\n",
       "    <tr style=\"text-align: right;\">\n",
       "      <th></th>\n",
       "      <th>num_critic_for_reviews</th>\n",
       "      <th>duration</th>\n",
       "      <th>director_facebook_likes</th>\n",
       "      <th>actor_3_facebook_likes</th>\n",
       "      <th>actor_1_facebook_likes</th>\n",
       "      <th>gross</th>\n",
       "      <th>num_voted_users</th>\n",
       "      <th>cast_total_facebook_likes</th>\n",
       "      <th>facenumber_in_poster</th>\n",
       "      <th>num_user_for_reviews</th>\n",
       "      <th>...</th>\n",
       "      <th>content_rating_G</th>\n",
       "      <th>content_rating_NC-17</th>\n",
       "      <th>content_rating_PG</th>\n",
       "      <th>content_rating_PG-13</th>\n",
       "      <th>content_rating_R</th>\n",
       "      <th>content_rating_TV-14</th>\n",
       "      <th>content_rating_TV-G</th>\n",
       "      <th>content_rating_TV-PG</th>\n",
       "      <th>content_rating_Unrated</th>\n",
       "      <th>content_rating_X</th>\n",
       "    </tr>\n",
       "    <tr>\n",
       "      <th>movie_title</th>\n",
       "      <th></th>\n",
       "      <th></th>\n",
       "      <th></th>\n",
       "      <th></th>\n",
       "      <th></th>\n",
       "      <th></th>\n",
       "      <th></th>\n",
       "      <th></th>\n",
       "      <th></th>\n",
       "      <th></th>\n",
       "      <th></th>\n",
       "      <th></th>\n",
       "      <th></th>\n",
       "      <th></th>\n",
       "      <th></th>\n",
       "      <th></th>\n",
       "      <th></th>\n",
       "      <th></th>\n",
       "      <th></th>\n",
       "      <th></th>\n",
       "      <th></th>\n",
       "    </tr>\n",
       "  </thead>\n",
       "  <tbody>\n",
       "    <tr>\n",
       "      <th>Avatar</th>\n",
       "      <td>723.0</td>\n",
       "      <td>178.0</td>\n",
       "      <td>0.0</td>\n",
       "      <td>855.0</td>\n",
       "      <td>1000.0</td>\n",
       "      <td>760505847.0</td>\n",
       "      <td>886204.0</td>\n",
       "      <td>4834.0</td>\n",
       "      <td>0.0</td>\n",
       "      <td>3054.0</td>\n",
       "      <td>...</td>\n",
       "      <td>0.0</td>\n",
       "      <td>0.0</td>\n",
       "      <td>0.0</td>\n",
       "      <td>1.0</td>\n",
       "      <td>0.0</td>\n",
       "      <td>0.0</td>\n",
       "      <td>0.0</td>\n",
       "      <td>0.0</td>\n",
       "      <td>0.0</td>\n",
       "      <td>0.0</td>\n",
       "    </tr>\n",
       "    <tr>\n",
       "      <th>Pirates of the Caribbean: At World's End</th>\n",
       "      <td>302.0</td>\n",
       "      <td>169.0</td>\n",
       "      <td>563.0</td>\n",
       "      <td>1000.0</td>\n",
       "      <td>40000.0</td>\n",
       "      <td>309404152.0</td>\n",
       "      <td>471220.0</td>\n",
       "      <td>48350.0</td>\n",
       "      <td>0.0</td>\n",
       "      <td>1238.0</td>\n",
       "      <td>...</td>\n",
       "      <td>0.0</td>\n",
       "      <td>0.0</td>\n",
       "      <td>0.0</td>\n",
       "      <td>1.0</td>\n",
       "      <td>0.0</td>\n",
       "      <td>0.0</td>\n",
       "      <td>0.0</td>\n",
       "      <td>0.0</td>\n",
       "      <td>0.0</td>\n",
       "      <td>0.0</td>\n",
       "    </tr>\n",
       "    <tr>\n",
       "      <th>Spectre</th>\n",
       "      <td>602.0</td>\n",
       "      <td>148.0</td>\n",
       "      <td>0.0</td>\n",
       "      <td>161.0</td>\n",
       "      <td>11000.0</td>\n",
       "      <td>200074175.0</td>\n",
       "      <td>275868.0</td>\n",
       "      <td>11700.0</td>\n",
       "      <td>1.0</td>\n",
       "      <td>994.0</td>\n",
       "      <td>...</td>\n",
       "      <td>0.0</td>\n",
       "      <td>0.0</td>\n",
       "      <td>0.0</td>\n",
       "      <td>1.0</td>\n",
       "      <td>0.0</td>\n",
       "      <td>0.0</td>\n",
       "      <td>0.0</td>\n",
       "      <td>0.0</td>\n",
       "      <td>0.0</td>\n",
       "      <td>0.0</td>\n",
       "    </tr>\n",
       "    <tr>\n",
       "      <th>The Dark Knight Rises</th>\n",
       "      <td>813.0</td>\n",
       "      <td>164.0</td>\n",
       "      <td>22000.0</td>\n",
       "      <td>23000.0</td>\n",
       "      <td>27000.0</td>\n",
       "      <td>448130642.0</td>\n",
       "      <td>1144337.0</td>\n",
       "      <td>106759.0</td>\n",
       "      <td>0.0</td>\n",
       "      <td>2701.0</td>\n",
       "      <td>...</td>\n",
       "      <td>0.0</td>\n",
       "      <td>0.0</td>\n",
       "      <td>0.0</td>\n",
       "      <td>1.0</td>\n",
       "      <td>0.0</td>\n",
       "      <td>0.0</td>\n",
       "      <td>0.0</td>\n",
       "      <td>0.0</td>\n",
       "      <td>0.0</td>\n",
       "      <td>0.0</td>\n",
       "    </tr>\n",
       "    <tr>\n",
       "      <th>John Carter</th>\n",
       "      <td>462.0</td>\n",
       "      <td>132.0</td>\n",
       "      <td>475.0</td>\n",
       "      <td>530.0</td>\n",
       "      <td>640.0</td>\n",
       "      <td>73058679.0</td>\n",
       "      <td>212204.0</td>\n",
       "      <td>1873.0</td>\n",
       "      <td>1.0</td>\n",
       "      <td>738.0</td>\n",
       "      <td>...</td>\n",
       "      <td>0.0</td>\n",
       "      <td>0.0</td>\n",
       "      <td>0.0</td>\n",
       "      <td>1.0</td>\n",
       "      <td>0.0</td>\n",
       "      <td>0.0</td>\n",
       "      <td>0.0</td>\n",
       "      <td>0.0</td>\n",
       "      <td>0.0</td>\n",
       "      <td>0.0</td>\n",
       "    </tr>\n",
       "  </tbody>\n",
       "</table>\n",
       "<p>5 rows × 255 columns</p>\n",
       "</div>"
      ],
      "text/plain": [
       "                                           num_critic_for_reviews  duration  \\\n",
       "movie_title                                                                   \n",
       "Avatar                                                      723.0     178.0   \n",
       "Pirates of the Caribbean: At World's End                    302.0     169.0   \n",
       "Spectre                                                     602.0     148.0   \n",
       "The Dark Knight Rises                                       813.0     164.0   \n",
       "John Carter                                                 462.0     132.0   \n",
       "\n",
       "                                           director_facebook_likes  \\\n",
       "movie_title                                                          \n",
       "Avatar                                                         0.0   \n",
       "Pirates of the Caribbean: At World's End                     563.0   \n",
       "Spectre                                                        0.0   \n",
       "The Dark Knight Rises                                      22000.0   \n",
       "John Carter                                                  475.0   \n",
       "\n",
       "                                           actor_3_facebook_likes  \\\n",
       "movie_title                                                         \n",
       "Avatar                                                      855.0   \n",
       "Pirates of the Caribbean: At World's End                   1000.0   \n",
       "Spectre                                                     161.0   \n",
       "The Dark Knight Rises                                     23000.0   \n",
       "John Carter                                                 530.0   \n",
       "\n",
       "                                           actor_1_facebook_likes  \\\n",
       "movie_title                                                         \n",
       "Avatar                                                     1000.0   \n",
       "Pirates of the Caribbean: At World's End                  40000.0   \n",
       "Spectre                                                   11000.0   \n",
       "The Dark Knight Rises                                     27000.0   \n",
       "John Carter                                                 640.0   \n",
       "\n",
       "                                                 gross  num_voted_users  \\\n",
       "movie_title                                                               \n",
       "Avatar                                     760505847.0         886204.0   \n",
       "Pirates of the Caribbean: At World's End   309404152.0         471220.0   \n",
       "Spectre                                    200074175.0         275868.0   \n",
       "The Dark Knight Rises                      448130642.0        1144337.0   \n",
       "John Carter                                 73058679.0         212204.0   \n",
       "\n",
       "                                           cast_total_facebook_likes  \\\n",
       "movie_title                                                            \n",
       "Avatar                                                        4834.0   \n",
       "Pirates of the Caribbean: At World's End                     48350.0   \n",
       "Spectre                                                      11700.0   \n",
       "The Dark Knight Rises                                       106759.0   \n",
       "John Carter                                                   1873.0   \n",
       "\n",
       "                                           facenumber_in_poster  \\\n",
       "movie_title                                                       \n",
       "Avatar                                                      0.0   \n",
       "Pirates of the Caribbean: At World's End                    0.0   \n",
       "Spectre                                                     1.0   \n",
       "The Dark Knight Rises                                       0.0   \n",
       "John Carter                                                 1.0   \n",
       "\n",
       "                                           num_user_for_reviews  \\\n",
       "movie_title                                                       \n",
       "Avatar                                                   3054.0   \n",
       "Pirates of the Caribbean: At World's End                 1238.0   \n",
       "Spectre                                                   994.0   \n",
       "The Dark Knight Rises                                    2701.0   \n",
       "John Carter                                               738.0   \n",
       "\n",
       "                                                 ...         content_rating_G  \\\n",
       "movie_title                                      ...                            \n",
       "Avatar                                           ...                      0.0   \n",
       "Pirates of the Caribbean: At World's End         ...                      0.0   \n",
       "Spectre                                          ...                      0.0   \n",
       "The Dark Knight Rises                            ...                      0.0   \n",
       "John Carter                                      ...                      0.0   \n",
       "\n",
       "                                           content_rating_NC-17  \\\n",
       "movie_title                                                       \n",
       "Avatar                                                      0.0   \n",
       "Pirates of the Caribbean: At World's End                    0.0   \n",
       "Spectre                                                     0.0   \n",
       "The Dark Knight Rises                                       0.0   \n",
       "John Carter                                                 0.0   \n",
       "\n",
       "                                           content_rating_PG  \\\n",
       "movie_title                                                    \n",
       "Avatar                                                   0.0   \n",
       "Pirates of the Caribbean: At World's End                 0.0   \n",
       "Spectre                                                  0.0   \n",
       "The Dark Knight Rises                                    0.0   \n",
       "John Carter                                              0.0   \n",
       "\n",
       "                                           content_rating_PG-13  \\\n",
       "movie_title                                                       \n",
       "Avatar                                                      1.0   \n",
       "Pirates of the Caribbean: At World's End                    1.0   \n",
       "Spectre                                                     1.0   \n",
       "The Dark Knight Rises                                       1.0   \n",
       "John Carter                                                 1.0   \n",
       "\n",
       "                                           content_rating_R  \\\n",
       "movie_title                                                   \n",
       "Avatar                                                  0.0   \n",
       "Pirates of the Caribbean: At World's End                0.0   \n",
       "Spectre                                                 0.0   \n",
       "The Dark Knight Rises                                   0.0   \n",
       "John Carter                                             0.0   \n",
       "\n",
       "                                           content_rating_TV-14  \\\n",
       "movie_title                                                       \n",
       "Avatar                                                      0.0   \n",
       "Pirates of the Caribbean: At World's End                    0.0   \n",
       "Spectre                                                     0.0   \n",
       "The Dark Knight Rises                                       0.0   \n",
       "John Carter                                                 0.0   \n",
       "\n",
       "                                           content_rating_TV-G  \\\n",
       "movie_title                                                      \n",
       "Avatar                                                     0.0   \n",
       "Pirates of the Caribbean: At World's End                   0.0   \n",
       "Spectre                                                    0.0   \n",
       "The Dark Knight Rises                                      0.0   \n",
       "John Carter                                                0.0   \n",
       "\n",
       "                                           content_rating_TV-PG  \\\n",
       "movie_title                                                       \n",
       "Avatar                                                      0.0   \n",
       "Pirates of the Caribbean: At World's End                    0.0   \n",
       "Spectre                                                     0.0   \n",
       "The Dark Knight Rises                                       0.0   \n",
       "John Carter                                                 0.0   \n",
       "\n",
       "                                           content_rating_Unrated  \\\n",
       "movie_title                                                         \n",
       "Avatar                                                        0.0   \n",
       "Pirates of the Caribbean: At World's End                      0.0   \n",
       "Spectre                                                       0.0   \n",
       "The Dark Knight Rises                                         0.0   \n",
       "John Carter                                                   0.0   \n",
       "\n",
       "                                           content_rating_X  \n",
       "movie_title                                                  \n",
       "Avatar                                                  0.0  \n",
       "Pirates of the Caribbean: At World's End                0.0  \n",
       "Spectre                                                 0.0  \n",
       "The Dark Knight Rises                                   0.0  \n",
       "John Carter                                             0.0  \n",
       "\n",
       "[5 rows x 255 columns]"
      ]
     },
     "execution_count": 3,
     "metadata": {},
     "output_type": "execute_result"
    }
   ],
   "source": [
    "imdb_modern_cleaned.head()"
   ]
  },
  {
   "cell_type": "code",
   "execution_count": 4,
   "metadata": {},
   "outputs": [
    {
     "data": {
      "text/plain": [
       "(4301, 255)"
      ]
     },
     "execution_count": 4,
     "metadata": {},
     "output_type": "execute_result"
    }
   ],
   "source": [
    "imdb_modern_cleaned.shape"
   ]
  },
  {
   "cell_type": "code",
   "execution_count": 8,
   "metadata": {
    "scrolled": true
   },
   "outputs": [
    {
     "data": {
      "text/plain": [
       "['num_critic_for_reviews',\n",
       " 'duration',\n",
       " 'director_facebook_likes',\n",
       " 'actor_3_facebook_likes',\n",
       " 'actor_1_facebook_likes',\n",
       " 'gross',\n",
       " 'num_voted_users',\n",
       " 'cast_total_facebook_likes',\n",
       " 'facenumber_in_poster',\n",
       " 'num_user_for_reviews',\n",
       " 'budget',\n",
       " 'title_year',\n",
       " 'actor_2_facebook_likes',\n",
       " 'imdb_score',\n",
       " 'aspect_ratio',\n",
       " 'movie_facebook_likes',\n",
       " 'Action',\n",
       " 'Adventure',\n",
       " 'Animation',\n",
       " 'Biography',\n",
       " 'Comedy',\n",
       " 'Crime',\n",
       " 'Documentary',\n",
       " 'Drama',\n",
       " 'Family',\n",
       " 'Fantasy',\n",
       " 'History',\n",
       " 'Horror',\n",
       " 'Music',\n",
       " 'Musical',\n",
       " 'Mystery',\n",
       " 'News',\n",
       " 'Romance',\n",
       " 'Sci-Fi',\n",
       " 'Short',\n",
       " 'Sport',\n",
       " 'Thriller',\n",
       " 'War',\n",
       " 'Western',\n",
       " 'keyword_love',\n",
       " 'keyword_friend',\n",
       " 'keyword_murder',\n",
       " 'keyword_death',\n",
       " 'keyword_police',\n",
       " 'keyword_new york city',\n",
       " 'keyword_high school',\n",
       " 'keyword_alien',\n",
       " 'keyword_fbi',\n",
       " 'keyword_boy',\n",
       " 'keyword_school',\n",
       " 'keyword_drugs',\n",
       " 'keyword_revenge',\n",
       " 'keyword_friendship',\n",
       " 'keyword_prison',\n",
       " 'keyword_marriage',\n",
       " 'keyword_dog',\n",
       " 'keyword_party',\n",
       " 'keyword_sex',\n",
       " 'keyword_island',\n",
       " 'keyword_box office flop',\n",
       " 'keyword_female protagonist',\n",
       " 'keyword_wedding',\n",
       " 'keyword_escape',\n",
       " 'keyword_detective',\n",
       " 'keyword_money',\n",
       " 'keyword_serial killer',\n",
       " 'keyword_teenager',\n",
       " 'keyword_female nudity',\n",
       " 'keyword_vomiting',\n",
       " 'keyword_cia',\n",
       " 'keyword_christmas',\n",
       " 'keyword_college',\n",
       " 'keyword_best friend',\n",
       " 'keyword_rescue',\n",
       " 'keyword_lawyer',\n",
       " 'keyword_scientist',\n",
       " 'keyword_battle',\n",
       " 'keyword_hospital',\n",
       " 'keyword_terrorist',\n",
       " 'keyword_fight',\n",
       " 'keyword_vampire',\n",
       " 'keyword_secret',\n",
       " 'keyword_writer',\n",
       " 'keyword_texas',\n",
       " 'keyword_president',\n",
       " 'keyword_small town',\n",
       " 'keyword_train',\n",
       " 'keyword_king',\n",
       " 'keyword_singer',\n",
       " 'keyword_future',\n",
       " 'keyword_hotel',\n",
       " 'keyword_student',\n",
       " 'keyword_spy',\n",
       " 'keyword_male nudity',\n",
       " 'keyword_sequel',\n",
       " 'keyword_ghost',\n",
       " 'keyword_assassin',\n",
       " 'keyword_girl',\n",
       " 'keyword_violence',\n",
       " 'keyword_critically bashed',\n",
       " 'keyword_actor',\n",
       " 'keyword_blood',\n",
       " 'keyword_neighbor',\n",
       " 'keyword_teacher',\n",
       " 'keyword_doctor',\n",
       " 'keyword_new york',\n",
       " 'color_Black and White',\n",
       " 'color_Color',\n",
       " 'director_name_Barry Levinson',\n",
       " 'director_name_Bobby Farrelly',\n",
       " 'director_name_Brett Ratner',\n",
       " 'director_name_Brian De Palma',\n",
       " 'director_name_Chris Columbus',\n",
       " 'director_name_Clint Eastwood',\n",
       " 'director_name_David Fincher',\n",
       " 'director_name_Joel Schumacher',\n",
       " 'director_name_John McTiernan',\n",
       " 'director_name_Kevin Smith',\n",
       " 'director_name_Martin Scorsese',\n",
       " 'director_name_Michael Bay',\n",
       " 'director_name_Oliver Stone',\n",
       " 'director_name_Others',\n",
       " 'director_name_Paul W.S. Anderson',\n",
       " 'director_name_Peter Jackson',\n",
       " 'director_name_Renny Harlin',\n",
       " 'director_name_Richard Linklater',\n",
       " 'director_name_Ridley Scott',\n",
       " 'director_name_Rob Cohen',\n",
       " 'director_name_Rob Reiner',\n",
       " 'director_name_Robert Rodriguez',\n",
       " 'director_name_Robert Zemeckis',\n",
       " 'director_name_Ron Howard',\n",
       " 'director_name_Sam Raimi',\n",
       " 'director_name_Shawn Levy',\n",
       " 'director_name_Spike Lee',\n",
       " 'director_name_Stephen Frears',\n",
       " 'director_name_Steven Soderbergh',\n",
       " 'director_name_Steven Spielberg',\n",
       " 'director_name_Tim Burton',\n",
       " 'director_name_Tony Scott',\n",
       " 'director_name_Wes Craven',\n",
       " 'director_name_Woody Allen',\n",
       " 'actor_2_name_Adam Sandler',\n",
       " 'actor_2_name_Brad Pitt',\n",
       " 'actor_2_name_Charlize Theron',\n",
       " 'actor_2_name_James Franco',\n",
       " 'actor_2_name_Jason Flemyng',\n",
       " 'actor_2_name_Meryl Streep',\n",
       " 'actor_2_name_Morgan Freeman',\n",
       " 'actor_2_name_Others',\n",
       " 'actor_1_name_Adam Sandler',\n",
       " 'actor_1_name_Al Pacino',\n",
       " 'actor_1_name_Angelina Jolie Pitt',\n",
       " 'actor_1_name_Anne Hathaway',\n",
       " 'actor_1_name_Anthony Hopkins',\n",
       " 'actor_1_name_Bernie Mac',\n",
       " 'actor_1_name_Bill Murray',\n",
       " 'actor_1_name_Bob Hoskins',\n",
       " 'actor_1_name_Brad Pitt',\n",
       " 'actor_1_name_Bradley Cooper',\n",
       " 'actor_1_name_Brendan Fraser',\n",
       " 'actor_1_name_Bruce Greenwood',\n",
       " 'actor_1_name_Bruce Willis',\n",
       " 'actor_1_name_Channing Tatum',\n",
       " 'actor_1_name_Chlo\\xc3\\xab Grace Moretz',\n",
       " 'actor_1_name_Chris Hemsworth',\n",
       " 'actor_1_name_Christian Bale',\n",
       " 'actor_1_name_Clint Eastwood',\n",
       " 'actor_1_name_Colin Firth',\n",
       " 'actor_1_name_Dennis Quaid',\n",
       " 'actor_1_name_Denzel Washington',\n",
       " 'actor_1_name_Don Cheadle',\n",
       " 'actor_1_name_Dwayne Johnson',\n",
       " 'actor_1_name_Emma Stone',\n",
       " 'actor_1_name_Gary Oldman',\n",
       " 'actor_1_name_Gerard Butler',\n",
       " 'actor_1_name_Harrison Ford',\n",
       " 'actor_1_name_Hugh Jackman',\n",
       " 'actor_1_name_J.K. Simmons',\n",
       " 'actor_1_name_Jake Gyllenhaal',\n",
       " 'actor_1_name_James Franco',\n",
       " 'actor_1_name_Jason Statham',\n",
       " 'actor_1_name_Jeff Bridges',\n",
       " 'actor_1_name_Jennifer Lawrence',\n",
       " 'actor_1_name_Jim Broadbent',\n",
       " 'actor_1_name_Johnny Depp',\n",
       " 'actor_1_name_Joseph Gordon-Levitt',\n",
       " 'actor_1_name_Josh Hutcherson',\n",
       " 'actor_1_name_Judy Greer',\n",
       " 'actor_1_name_Julia Roberts',\n",
       " 'actor_1_name_Kate Winslet',\n",
       " 'actor_1_name_Keanu Reeves',\n",
       " 'actor_1_name_Kevin Spacey',\n",
       " 'actor_1_name_Kirsten Dunst',\n",
       " 'actor_1_name_Kristen Stewart',\n",
       " 'actor_1_name_Leonardo DiCaprio',\n",
       " 'actor_1_name_Liam Neeson',\n",
       " 'actor_1_name_Matt Damon',\n",
       " 'actor_1_name_Matthew Broderick',\n",
       " 'actor_1_name_Matthew McConaughey',\n",
       " 'actor_1_name_Meryl Streep',\n",
       " 'actor_1_name_Michael Fassbender',\n",
       " 'actor_1_name_Milla Jovovich',\n",
       " 'actor_1_name_Morgan Freeman',\n",
       " 'actor_1_name_Naomi Watts',\n",
       " 'actor_1_name_Natalie Portman',\n",
       " 'actor_1_name_Nicolas Cage',\n",
       " 'actor_1_name_Oliver Platt',\n",
       " 'actor_1_name_Others',\n",
       " 'actor_1_name_Paul Walker',\n",
       " 'actor_1_name_Peter Dinklage',\n",
       " 'actor_1_name_Philip Seymour Hoffman',\n",
       " 'actor_1_name_Ray Winstone',\n",
       " 'actor_1_name_Robert De Niro',\n",
       " 'actor_1_name_Robert Downey Jr.',\n",
       " 'actor_1_name_Robin Williams',\n",
       " 'actor_1_name_Robin Wright',\n",
       " 'actor_1_name_Rosario Dawson',\n",
       " 'actor_1_name_Ryan Gosling',\n",
       " 'actor_1_name_Ryan Reynolds',\n",
       " 'actor_1_name_Salma Hayek',\n",
       " 'actor_1_name_Scarlett Johansson',\n",
       " 'actor_1_name_Steve Buscemi',\n",
       " 'actor_1_name_Steve Carell',\n",
       " 'actor_1_name_Sylvester Stallone',\n",
       " 'actor_1_name_Tom Cruise',\n",
       " 'actor_1_name_Tom Hanks',\n",
       " 'actor_1_name_Tom Hardy',\n",
       " 'actor_1_name_Tom Wilkinson',\n",
       " 'actor_1_name_Viggo Mortensen',\n",
       " 'actor_1_name_Vin Diesel',\n",
       " 'actor_1_name_Will Ferrell',\n",
       " 'actor_1_name_Will Smith',\n",
       " 'actor_3_name_Others',\n",
       " 'actor_3_name_Unknown',\n",
       " 'country_Australia',\n",
       " 'country_Canada',\n",
       " 'country_France',\n",
       " 'country_Germany',\n",
       " 'country_Ireland',\n",
       " 'country_New Zealand',\n",
       " 'country_Others',\n",
       " 'country_Spain',\n",
       " 'country_UK',\n",
       " 'country_USA',\n",
       " 'content_rating_G',\n",
       " 'content_rating_NC-17',\n",
       " 'content_rating_PG',\n",
       " 'content_rating_PG-13',\n",
       " 'content_rating_R',\n",
       " 'content_rating_TV-14',\n",
       " 'content_rating_TV-G',\n",
       " 'content_rating_TV-PG',\n",
       " 'content_rating_Unrated',\n",
       " 'content_rating_X']"
      ]
     },
     "execution_count": 8,
     "metadata": {},
     "output_type": "execute_result"
    }
   ],
   "source": [
    "imdb_modern_cleaned.columns.tolist()"
   ]
  },
  {
   "cell_type": "markdown",
   "metadata": {},
   "source": [
    "# Section 2: Clustering"
   ]
  },
  {
   "cell_type": "markdown",
   "metadata": {},
   "source": [
    "## Step 1: Split the dataset into training and out-of-time sample testing datasets"
   ]
  },
  {
   "cell_type": "code",
   "execution_count": 3,
   "metadata": {
    "collapsed": true
   },
   "outputs": [],
   "source": [
    "imdb_train = imdb_modern_cleaned.loc[imdb_modern_cleaned['title_year'] < 2015]\n",
    "imdb_test = imdb_modern_cleaned.loc[imdb_modern_cleaned['title_year'] >= 2015]"
   ]
  },
  {
   "cell_type": "code",
   "execution_count": 4,
   "metadata": {},
   "outputs": [
    {
     "data": {
      "text/plain": [
       "(4000, 255)"
      ]
     },
     "execution_count": 4,
     "metadata": {},
     "output_type": "execute_result"
    }
   ],
   "source": [
    "imdb_train.shape"
   ]
  },
  {
   "cell_type": "code",
   "execution_count": 5,
   "metadata": {},
   "outputs": [
    {
     "data": {
      "text/plain": [
       "(301, 255)"
      ]
     },
     "execution_count": 5,
     "metadata": {},
     "output_type": "execute_result"
    }
   ],
   "source": [
    "imdb_test.shape"
   ]
  },
  {
   "cell_type": "markdown",
   "metadata": {},
   "source": [
    "## Step 2: Training and validation on the training dataset \n",
    "Then I can choose the best clustering algorithm to build a prediction algorithm(multi-class classification problem) on top of it"
   ]
  },
  {
   "cell_type": "markdown",
   "metadata": {},
   "source": [
    "### ==>Question<==\n",
    "**How to measure the goodness of the clustering results?**\n",
    "\n",
    "Two things that I care:\n",
    "1. imdb_score\n",
    "2. num_critic_for_reviews\n",
    "\n",
    "Assumptions:\n",
    "1. The movies that I like usually have higher imdb_score\n",
    "2. The movies that I like usually have more num_critic_for_reviews\n",
    "\n",
    "Define metric ***weighted harmonic mean of imdb_score and num_critic_for_reviews*** as follows:\n",
    "1. Standardization: convert each measure to 0-1 range by calculating $\\frac{x-min}{max-min}$\n",
    "2. Calculate the weighted harmonic mean of the standardized measures: $\\frac{1}{\\frac{0.7}{p}+\\frac{0.3}{q}}$\n",
    "\n",
    "Define metric ***deviance*** to be used to measure the goodness of clustering as follows:\n",
    "1. For each cluster, calculate the above metric for each movie\n",
    "2. Calculate the average of the metric for each cluster: $m_1, m_2, ..., m_n$\n",
    "3. Calculate the deviance among different clusters: $\\sqrt{\\frac{\\sum_{i=1}^{n}{(m_i-\\bar{m})^2}}{n}}$\n",
    "\n",
    "To choose the best clustering method and the best parameters $\\iff$ Maximizing the deviance, which means that the method can best differentiate the good movies and the bad movies"
   ]
  },
  {
   "cell_type": "markdown",
   "metadata": {},
   "source": [
    "### Utility functions"
   ]
  },
  {
   "cell_type": "code",
   "execution_count": 6,
   "metadata": {
    "collapsed": true
   },
   "outputs": [],
   "source": [
    "def standardized_measure(df, col):\n",
    "    return (df[col] - df[col].min())/(df[col].max() - df[col].min())"
   ]
  },
  {
   "cell_type": "code",
   "execution_count": 7,
   "metadata": {
    "collapsed": true
   },
   "outputs": [],
   "source": [
    "def harmonic_mean(row):\n",
    "    try:\n",
    "        return 1/(0.7*row[0]+0.3*row[1])\n",
    "    except ZeroDivisionError:\n",
    "        return np.nan"
   ]
  },
  {
   "cell_type": "code",
   "execution_count": 8,
   "metadata": {
    "collapsed": true
   },
   "outputs": [],
   "source": [
    "def goodness_deviance(list_num):\n",
    "    num_avg = np.mean(list_num)\n",
    "    return np.sqrt(np.sum([(item-num_avg)**2 for item in list_num])/len(list_num))"
   ]
  },
  {
   "cell_type": "markdown",
   "metadata": {},
   "source": [
    "### KMeans"
   ]
  },
  {
   "cell_type": "code",
   "execution_count": 60,
   "metadata": {
    "collapsed": true
   },
   "outputs": [],
   "source": [
    "pipe_kmeans = Pipeline([('clustering', KMeans(n_jobs=-1))])\n",
    "param_grid_kmeans = {'clustering__n_clusters':np.arange(5,31).tolist()}\n",
    "param_grid_kmeans = list(ParameterGrid(param_grid_kmeans))"
   ]
  },
  {
   "cell_type": "code",
   "execution_count": 61,
   "metadata": {},
   "outputs": [
    {
     "name": "stdout",
     "output_type": "stream",
     "text": [
      "Best parameters combination: {'clustering__n_clusters': 12} \n",
      "Deviance: 0.393123104617\n"
     ]
    }
   ],
   "source": [
    "# write my own loop function to select the best parameter\n",
    "best_i = -1\n",
    "best_dev = 0\n",
    "res_dict = {}\n",
    "for i in range(len(param_grid_kmeans)):\n",
    "    cluster_model = pipe_kmeans.set_params(**param_grid_kmeans[i])\n",
    "    cluster_pred = cluster_model.fit_predict(imdb_train)\n",
    "    tmp = pd.concat([imdb_train[['imdb_score', 'num_critic_for_reviews']].copy().reset_index(drop=True), \n",
    "                     pd.Series(cluster_pred, name=\"cluster_num\")], axis=1)\n",
    "    tmp['imdb_score'] = standardized_measure(tmp, 'imdb_score')\n",
    "    tmp['num_critic_for_reviews'] = standardized_measure(tmp, 'num_critic_for_reviews')\n",
    "    tmp['harmonic_mean'] = tmp[['imdb_score', 'num_critic_for_reviews']].apply(harmonic_mean, axis = 1)\n",
    "    tmp_gp = tmp.groupby('cluster_num').aggregate({'harmonic_mean':np.mean})\n",
    "    curr_dev = goodness_deviance(tmp_gp['harmonic_mean'])\n",
    "    res_dict[i] = [param_grid_kmeans[i], {\"Deviance\":curr_dev}]\n",
    "    if curr_dev > best_dev:\n",
    "        best_dev = curr_dev\n",
    "        best_i = i\n",
    "print \"Best parameters combination:\", param_grid_kmeans[best_i], \"\\nDeviance:\", best_dev"
   ]
  },
  {
   "cell_type": "code",
   "execution_count": 62,
   "metadata": {},
   "outputs": [
    {
     "data": {
      "text/plain": [
       "<matplotlib.axes._subplots.AxesSubplot at 0xcd4cda0>"
      ]
     },
     "execution_count": 62,
     "metadata": {},
     "output_type": "execute_result"
    },
    {
     "data": {
      "image/png": "[encoded data removed]",
      "text/plain": [
       "<matplotlib.figure.Figure at 0xcd4c5f8>"
      ]
     },
     "metadata": {},
     "output_type": "display_data"
    }
   ],
   "source": [
    "# check deviance distribution\n",
    "lrs = [value[1]['Deviance'] for value in res_dict.values()]\n",
    "pd.Series(lrs).hist()"
   ]
  },
  {
   "cell_type": "markdown",
   "metadata": {},
   "source": [
    "### Agglomerative Clustering"
   ]
  },
  {
   "cell_type": "code",
   "execution_count": 63,
   "metadata": {
    "collapsed": true
   },
   "outputs": [],
   "source": [
    "pipe_agglo = Pipeline([('clustering', AgglomerativeClustering())])\n",
    "param_grid_agglo = {'clustering__n_clusters':np.arange(5,31).tolist()}\n",
    "param_grid_agglo = list(ParameterGrid(param_grid_agglo))"
   ]
  },
  {
   "cell_type": "code",
   "execution_count": 64,
   "metadata": {},
   "outputs": [
    {
     "name": "stdout",
     "output_type": "stream",
     "text": [
      "Best parameters combination: {'clustering__n_clusters': 8} \n",
      "Deviance: 0.401955602208\n"
     ]
    }
   ],
   "source": [
    "# write my own loop function to select the best parameter\n",
    "best_i2 = -1\n",
    "best_dev2 = 0\n",
    "res_dict2 = {}\n",
    "for i in range(len(param_grid_agglo)):\n",
    "    cluster_model = pipe_agglo.set_params(**param_grid_agglo[i])\n",
    "    cluster_pred = cluster_model.fit_predict(imdb_train)\n",
    "    tmp = pd.concat([imdb_train[['imdb_score', 'num_critic_for_reviews']].copy().reset_index(drop=True), \n",
    "                     pd.Series(cluster_pred, name=\"cluster_num\")], axis=1)\n",
    "    tmp['imdb_score'] = standardized_measure(tmp, 'imdb_score')\n",
    "    tmp['num_critic_for_reviews'] = standardized_measure(tmp, 'num_critic_for_reviews')\n",
    "    tmp['harmonic_mean'] = tmp[['imdb_score', 'num_critic_for_reviews']].apply(harmonic_mean, axis = 1)\n",
    "    tmp_gp = tmp.groupby('cluster_num').aggregate({'harmonic_mean':np.mean})\n",
    "    curr_dev = goodness_deviance(tmp_gp['harmonic_mean'])\n",
    "    res_dict2[i] = [param_grid_agglo[i], {\"Deviance\":curr_dev}]\n",
    "    if curr_dev > best_dev2:\n",
    "        best_dev2 = curr_dev\n",
    "        best_i2 = i\n",
    "print \"Best parameters combination:\", param_grid_agglo[best_i2], \"\\nDeviance:\", best_dev2"
   ]
  },
  {
   "cell_type": "code",
   "execution_count": 65,
   "metadata": {},
   "outputs": [
    {
     "data": {
      "text/plain": [
       "<matplotlib.axes._subplots.AxesSubplot at 0xf17bcc0>"
      ]
     },
     "execution_count": 65,
     "metadata": {},
     "output_type": "execute_result"
    },
    {
     "data": {
      "image/png": "[encoded data removed]",
      "text/plain": [
       "<matplotlib.figure.Figure at 0xf6580b8>"
      ]
     },
     "metadata": {},
     "output_type": "display_data"
    }
   ],
   "source": [
    "# check deviance distribution\n",
    "lrs2 = [value[1]['Deviance'] for value in res_dict2.values()]\n",
    "pd.Series(lrs2).hist()"
   ]
  },
  {
   "cell_type": "markdown",
   "metadata": {},
   "source": [
    "### Color-coded boxplot"
   ]
  },
  {
   "cell_type": "code",
   "execution_count": 67,
   "metadata": {
    "collapsed": true
   },
   "outputs": [],
   "source": [
    "clust1 = KMeans(n_clusters=12, n_jobs=-1).fit(imdb_train)\n",
    "clust2 = AgglomerativeClustering(n_clusters=8).fit(imdb_train)"
   ]
  },
  {
   "cell_type": "code",
   "execution_count": 99,
   "metadata": {
    "collapsed": true
   },
   "outputs": [],
   "source": [
    "tmp = pd.concat([imdb_train[['imdb_score', 'num_critic_for_reviews', 'gross']].copy().reset_index(drop=True), \n",
    "                 pd.Series(clust1.labels_, name=\"kmeans_cluster_num\"),\n",
    "                 pd.Series(clust2.labels_, name=\"agglo_cluster_num\")], axis=1)"
   ]
  },
  {
   "cell_type": "code",
   "execution_count": 93,
   "metadata": {
    "collapsed": true
   },
   "outputs": [],
   "source": [
    "# tmp_gp = tmp.groupby('kmeans_cluster_num').aggregate({'imdb_score':np.mean, 'num_critic_for_reviews':np.mean}).reset_index()\n",
    "# tmp_agg = pd.melt(tmp_gp, id_vars=['kmeans_cluster_num'],value_vars=['imdb_score', 'num_critic_for_reviews'],var_name='measures')"
   ]
  },
  {
   "cell_type": "markdown",
   "metadata": {},
   "source": [
    "#### KMeans"
   ]
  },
  {
   "cell_type": "code",
   "execution_count": 100,
   "metadata": {},
   "outputs": [
    {
     "data": {
      "text/plain": [
       "<matplotlib.axes._subplots.AxesSubplot at 0xfbef710>"
      ]
     },
     "execution_count": 100,
     "metadata": {},
     "output_type": "execute_result"
    },
    {
     "data": {
      "image/png": "[encoded data removed]",
      "text/plain": [
       "<matplotlib.figure.Figure at 0x13308e80>"
      ]
     },
     "metadata": {},
     "output_type": "display_data"
    }
   ],
   "source": [
    "sns.boxplot(x='kmeans_cluster_num', y='imdb_score', data=tmp)"
   ]
  },
  {
   "cell_type": "code",
   "execution_count": 101,
   "metadata": {},
   "outputs": [
    {
     "data": {
      "text/plain": [
       "<matplotlib.axes._subplots.AxesSubplot at 0x13ac1cf8>"
      ]
     },
     "execution_count": 101,
     "metadata": {},
     "output_type": "execute_result"
    },
    {
     "data": {
      "image/png": "[encoded data removed]",
      "text/plain": [
       "<matplotlib.figure.Figure at 0x13494518>"
      ]
     },
     "metadata": {},
     "output_type": "display_data"
    }
   ],
   "source": [
    "sns.boxplot(x='kmeans_cluster_num', y='num_critic_for_reviews', data=tmp)"
   ]
  },
  {
   "cell_type": "code",
   "execution_count": 105,
   "metadata": {},
   "outputs": [
    {
     "data": {
      "text/plain": [
       "<matplotlib.axes._subplots.AxesSubplot at 0x148aff60>"
      ]
     },
     "execution_count": 105,
     "metadata": {},
     "output_type": "execute_result"
    },
    {
     "data": {
      "image/png": "[encoded data removed]",
      "text/plain": [
       "<matplotlib.figure.Figure at 0x149fdba8>"
      ]
     },
     "metadata": {},
     "output_type": "display_data"
    }
   ],
   "source": [
    "sns.boxplot(x='kmeans_cluster_num', y='gross', data=tmp)"
   ]
  },
  {
   "cell_type": "markdown",
   "metadata": {},
   "source": [
    "#### Agglomerative Clustering"
   ]
  },
  {
   "cell_type": "code",
   "execution_count": 103,
   "metadata": {},
   "outputs": [
    {
     "data": {
      "text/plain": [
       "<matplotlib.axes._subplots.AxesSubplot at 0x13f6eac8>"
      ]
     },
     "execution_count": 103,
     "metadata": {},
     "output_type": "execute_result"
    },
    {
     "data": {
      "image/png": "[encoded data removed]",
      "text/plain": [
       "<matplotlib.figure.Figure at 0x13fca8d0>"
      ]
     },
     "metadata": {},
     "output_type": "display_data"
    }
   ],
   "source": [
    "sns.boxplot(x='agglo_cluster_num', y='imdb_score', data=tmp)"
   ]
  },
  {
   "cell_type": "code",
   "execution_count": 104,
   "metadata": {},
   "outputs": [
    {
     "data": {
      "text/plain": [
       "<matplotlib.axes._subplots.AxesSubplot at 0x14463588>"
      ]
     },
     "execution_count": 104,
     "metadata": {},
     "output_type": "execute_result"
    },
    {
     "data": {
      "image/png": "[encoded data removed]",
      "text/plain": [
       "<matplotlib.figure.Figure at 0x14488080>"
      ]
     },
     "metadata": {},
     "output_type": "display_data"
    }
   ],
   "source": [
    "sns.boxplot(x='agglo_cluster_num', y='num_critic_for_reviews', data=tmp)"
   ]
  },
  {
   "cell_type": "code",
   "execution_count": 106,
   "metadata": {},
   "outputs": [
    {
     "data": {
      "text/plain": [
       "<matplotlib.axes._subplots.AxesSubplot at 0x150bc710>"
      ]
     },
     "execution_count": 106,
     "metadata": {},
     "output_type": "execute_result"
    },
    {
     "data": {
      "image/png": "[encoded data removed]",
      "text/plain": [
       "<matplotlib.figure.Figure at 0x149fdcc0>"
      ]
     },
     "metadata": {},
     "output_type": "display_data"
    }
   ],
   "source": [
    "sns.boxplot(x='agglo_cluster_num', y='gross', data=tmp)"
   ]
  },
  {
   "cell_type": "markdown",
   "metadata": {},
   "source": [
    "### Investigation of each cluster\n",
    "\n",
    "Even though the Agglomerative Clustering algorithm has larger deviance, but based on what I see in the boxplots, KMeans actually does a better job at differentiating the high score movies from the low score movies.\n",
    "\n",
    "I just feel maybe 12 clusters are too many, let's investigate the second-best result first and then decide which one to choose as the final clustering result."
   ]
  },
  {
   "cell_type": "code",
   "execution_count": 111,
   "metadata": {
    "collapsed": true
   },
   "outputs": [],
   "source": [
    "# fill in the function to get the second-best result"
   ]
  },
  {
   "cell_type": "code",
   "execution_count": 112,
   "metadata": {
    "collapsed": true
   },
   "outputs": [],
   "source": [
    "clust1 = KMeans(n_clusters=8, n_jobs=-1).fit(imdb_train)"
   ]
  },
  {
   "cell_type": "code",
   "execution_count": 113,
   "metadata": {
    "collapsed": true
   },
   "outputs": [],
   "source": [
    "tmp = pd.concat([imdb_train[['imdb_score', 'num_critic_for_reviews', 'gross']].copy().reset_index(drop=True), \n",
    "                 pd.Series(clust1.labels_, name=\"kmeans_cluster_num\")], axis=1)"
   ]
  },
  {
   "cell_type": "code",
   "execution_count": 114,
   "metadata": {},
   "outputs": [
    {
     "data": {
      "text/plain": [
       "<matplotlib.axes._subplots.AxesSubplot at 0x150a2c18>"
      ]
     },
     "execution_count": 114,
     "metadata": {},
     "output_type": "execute_result"
    },
    {
     "data": {
      "image/png": "[encoded data removed]",
      "text/plain": [
       "<matplotlib.figure.Figure at 0x135004a8>"
      ]
     },
     "metadata": {},
     "output_type": "display_data"
    }
   ],
   "source": [
    "sns.boxplot(x='kmeans_cluster_num', y='imdb_score', data=tmp)"
   ]
  },
  {
   "cell_type": "code",
   "execution_count": 115,
   "metadata": {},
   "outputs": [
    {
     "data": {
      "text/plain": [
       "<matplotlib.axes._subplots.AxesSubplot at 0x15795240>"
      ]
     },
     "execution_count": 115,
     "metadata": {},
     "output_type": "execute_result"
    },
    {
     "data": {
      "image/png": "[encoded data removed]",
      "text/plain": [
       "<matplotlib.figure.Figure at 0x14906978>"
      ]
     },
     "metadata": {},
     "output_type": "display_data"
    }
   ],
   "source": [
    "sns.boxplot(x='kmeans_cluster_num', y='num_critic_for_reviews', data=tmp)"
   ]
  },
  {
   "cell_type": "code",
   "execution_count": 116,
   "metadata": {},
   "outputs": [
    {
     "data": {
      "text/plain": [
       "<matplotlib.axes._subplots.AxesSubplot at 0x15d15978>"
      ]
     },
     "execution_count": 116,
     "metadata": {},
     "output_type": "execute_result"
    },
    {
     "data": {
      "image/png": "[encoded data removed]",
      "text/plain": [
       "<matplotlib.figure.Figure at 0x14906518>"
      ]
     },
     "metadata": {},
     "output_type": "display_data"
    }
   ],
   "source": [
    "sns.boxplot(x='kmeans_cluster_num', y='gross', data=tmp)"
   ]
  },
  {
   "cell_type": "markdown",
   "metadata": {},
   "source": [
    "### Choose the best from the candidate models\n",
    "I still need to see which movies go into which cluster to decide which one is better.\n",
    "\n",
    "**Candidate models**\n",
    "1. AgglomerativeClustering(8)\n",
    "2. KMeans(12)\n",
    "3. KMeans(8)"
   ]
  },
  {
   "cell_type": "code",
   "execution_count": 12,
   "metadata": {
    "collapsed": true
   },
   "outputs": [],
   "source": [
    "tmp = copy.deepcopy(imdb_train)"
   ]
  },
  {
   "cell_type": "code",
   "execution_count": 13,
   "metadata": {
    "collapsed": true
   },
   "outputs": [],
   "source": [
    "clust1 = AgglomerativeClustering(n_clusters=8).fit(imdb_train)\n",
    "tmp['agglo_8_labels'] = clust1.labels_"
   ]
  },
  {
   "cell_type": "code",
   "execution_count": 14,
   "metadata": {
    "collapsed": true
   },
   "outputs": [],
   "source": [
    "clust2 = KMeans(n_clusters=12).fit(imdb_train)\n",
    "tmp['kmeans_12_labels'] = clust2.labels_"
   ]
  },
  {
   "cell_type": "code",
   "execution_count": 15,
   "metadata": {
    "collapsed": true
   },
   "outputs": [],
   "source": [
    "clust3 = KMeans(n_clusters=8).fit(imdb_train)\n",
    "tmp['kmeans_8_labels'] = clust3.labels_"
   ]
  },
  {
   "cell_type": "code",
   "execution_count": 16,
   "metadata": {},
   "outputs": [
    {
     "data": {
      "text/html": [
       "<div>\n",
       "<style>\n",
       "    .dataframe thead tr:only-child th {\n",
       "        text-align: right;\n",
       "    }\n",
       "\n",
       "    .dataframe thead th {\n",
       "        text-align: left;\n",
       "    }\n",
       "\n",
       "    .dataframe tbody tr th {\n",
       "        vertical-align: top;\n",
       "    }\n",
       "</style>\n",
       "<table border=\"1\" class=\"dataframe\">\n",
       "  <thead>\n",
       "    <tr style=\"text-align: right;\">\n",
       "      <th></th>\n",
       "      <th>num_critic_for_reviews</th>\n",
       "      <th>duration</th>\n",
       "      <th>director_facebook_likes</th>\n",
       "      <th>actor_3_facebook_likes</th>\n",
       "      <th>actor_1_facebook_likes</th>\n",
       "      <th>gross</th>\n",
       "      <th>num_voted_users</th>\n",
       "      <th>cast_total_facebook_likes</th>\n",
       "      <th>facenumber_in_poster</th>\n",
       "      <th>num_user_for_reviews</th>\n",
       "      <th>...</th>\n",
       "      <th>content_rating_PG-13</th>\n",
       "      <th>content_rating_R</th>\n",
       "      <th>content_rating_TV-14</th>\n",
       "      <th>content_rating_TV-G</th>\n",
       "      <th>content_rating_TV-PG</th>\n",
       "      <th>content_rating_Unrated</th>\n",
       "      <th>content_rating_X</th>\n",
       "      <th>agglo_8_labels</th>\n",
       "      <th>kmeans_12_labels</th>\n",
       "      <th>kmeans_8_labels</th>\n",
       "    </tr>\n",
       "    <tr>\n",
       "      <th>movie_title</th>\n",
       "      <th></th>\n",
       "      <th></th>\n",
       "      <th></th>\n",
       "      <th></th>\n",
       "      <th></th>\n",
       "      <th></th>\n",
       "      <th></th>\n",
       "      <th></th>\n",
       "      <th></th>\n",
       "      <th></th>\n",
       "      <th></th>\n",
       "      <th></th>\n",
       "      <th></th>\n",
       "      <th></th>\n",
       "      <th></th>\n",
       "      <th></th>\n",
       "      <th></th>\n",
       "      <th></th>\n",
       "      <th></th>\n",
       "      <th></th>\n",
       "      <th></th>\n",
       "    </tr>\n",
       "  </thead>\n",
       "  <tbody>\n",
       "    <tr>\n",
       "      <th>Avatar</th>\n",
       "      <td>723.0</td>\n",
       "      <td>178.0</td>\n",
       "      <td>0.0</td>\n",
       "      <td>855.0</td>\n",
       "      <td>1000.0</td>\n",
       "      <td>760505847.0</td>\n",
       "      <td>886204.0</td>\n",
       "      <td>4834.0</td>\n",
       "      <td>0.0</td>\n",
       "      <td>3054.0</td>\n",
       "      <td>...</td>\n",
       "      <td>1.0</td>\n",
       "      <td>0.0</td>\n",
       "      <td>0.0</td>\n",
       "      <td>0.0</td>\n",
       "      <td>0.0</td>\n",
       "      <td>0.0</td>\n",
       "      <td>0.0</td>\n",
       "      <td>7</td>\n",
       "      <td>10</td>\n",
       "      <td>4</td>\n",
       "    </tr>\n",
       "    <tr>\n",
       "      <th>Pirates of the Caribbean: At World's End</th>\n",
       "      <td>302.0</td>\n",
       "      <td>169.0</td>\n",
       "      <td>563.0</td>\n",
       "      <td>1000.0</td>\n",
       "      <td>40000.0</td>\n",
       "      <td>309404152.0</td>\n",
       "      <td>471220.0</td>\n",
       "      <td>48350.0</td>\n",
       "      <td>0.0</td>\n",
       "      <td>1238.0</td>\n",
       "      <td>...</td>\n",
       "      <td>1.0</td>\n",
       "      <td>0.0</td>\n",
       "      <td>0.0</td>\n",
       "      <td>0.0</td>\n",
       "      <td>0.0</td>\n",
       "      <td>0.0</td>\n",
       "      <td>0.0</td>\n",
       "      <td>5</td>\n",
       "      <td>7</td>\n",
       "      <td>3</td>\n",
       "    </tr>\n",
       "    <tr>\n",
       "      <th>The Dark Knight Rises</th>\n",
       "      <td>813.0</td>\n",
       "      <td>164.0</td>\n",
       "      <td>22000.0</td>\n",
       "      <td>23000.0</td>\n",
       "      <td>27000.0</td>\n",
       "      <td>448130642.0</td>\n",
       "      <td>1144337.0</td>\n",
       "      <td>106759.0</td>\n",
       "      <td>0.0</td>\n",
       "      <td>2701.0</td>\n",
       "      <td>...</td>\n",
       "      <td>1.0</td>\n",
       "      <td>0.0</td>\n",
       "      <td>0.0</td>\n",
       "      <td>0.0</td>\n",
       "      <td>0.0</td>\n",
       "      <td>0.0</td>\n",
       "      <td>0.0</td>\n",
       "      <td>5</td>\n",
       "      <td>3</td>\n",
       "      <td>4</td>\n",
       "    </tr>\n",
       "    <tr>\n",
       "      <th>John Carter</th>\n",
       "      <td>462.0</td>\n",
       "      <td>132.0</td>\n",
       "      <td>475.0</td>\n",
       "      <td>530.0</td>\n",
       "      <td>640.0</td>\n",
       "      <td>73058679.0</td>\n",
       "      <td>212204.0</td>\n",
       "      <td>1873.0</td>\n",
       "      <td>1.0</td>\n",
       "      <td>738.0</td>\n",
       "      <td>...</td>\n",
       "      <td>1.0</td>\n",
       "      <td>0.0</td>\n",
       "      <td>0.0</td>\n",
       "      <td>0.0</td>\n",
       "      <td>0.0</td>\n",
       "      <td>0.0</td>\n",
       "      <td>0.0</td>\n",
       "      <td>0</td>\n",
       "      <td>4</td>\n",
       "      <td>1</td>\n",
       "    </tr>\n",
       "    <tr>\n",
       "      <th>Spider-Man 3</th>\n",
       "      <td>392.0</td>\n",
       "      <td>156.0</td>\n",
       "      <td>0.0</td>\n",
       "      <td>4000.0</td>\n",
       "      <td>24000.0</td>\n",
       "      <td>336530303.0</td>\n",
       "      <td>383056.0</td>\n",
       "      <td>46055.0</td>\n",
       "      <td>0.0</td>\n",
       "      <td>1902.0</td>\n",
       "      <td>...</td>\n",
       "      <td>1.0</td>\n",
       "      <td>0.0</td>\n",
       "      <td>0.0</td>\n",
       "      <td>0.0</td>\n",
       "      <td>0.0</td>\n",
       "      <td>0.0</td>\n",
       "      <td>0.0</td>\n",
       "      <td>5</td>\n",
       "      <td>7</td>\n",
       "      <td>3</td>\n",
       "    </tr>\n",
       "  </tbody>\n",
       "</table>\n",
       "<p>5 rows × 258 columns</p>\n",
       "</div>"
      ],
      "text/plain": [
       "                                           num_critic_for_reviews  duration  \\\n",
       "movie_title                                                                   \n",
       "Avatar                                                      723.0     178.0   \n",
       "Pirates of the Caribbean: At World's End                    302.0     169.0   \n",
       "The Dark Knight Rises                                       813.0     164.0   \n",
       "John Carter                                                 462.0     132.0   \n",
       "Spider-Man 3                                                392.0     156.0   \n",
       "\n",
       "                                           director_facebook_likes  \\\n",
       "movie_title                                                          \n",
       "Avatar                                                         0.0   \n",
       "Pirates of the Caribbean: At World's End                     563.0   \n",
       "The Dark Knight Rises                                      22000.0   \n",
       "John Carter                                                  475.0   \n",
       "Spider-Man 3                                                   0.0   \n",
       "\n",
       "                                           actor_3_facebook_likes  \\\n",
       "movie_title                                                         \n",
       "Avatar                                                      855.0   \n",
       "Pirates of the Caribbean: At World's End                   1000.0   \n",
       "The Dark Knight Rises                                     23000.0   \n",
       "John Carter                                                 530.0   \n",
       "Spider-Man 3                                               4000.0   \n",
       "\n",
       "                                           actor_1_facebook_likes  \\\n",
       "movie_title                                                         \n",
       "Avatar                                                     1000.0   \n",
       "Pirates of the Caribbean: At World's End                  40000.0   \n",
       "The Dark Knight Rises                                     27000.0   \n",
       "John Carter                                                 640.0   \n",
       "Spider-Man 3                                              24000.0   \n",
       "\n",
       "                                                 gross  num_voted_users  \\\n",
       "movie_title                                                               \n",
       "Avatar                                     760505847.0         886204.0   \n",
       "Pirates of the Caribbean: At World's End   309404152.0         471220.0   \n",
       "The Dark Knight Rises                      448130642.0        1144337.0   \n",
       "John Carter                                 73058679.0         212204.0   \n",
       "Spider-Man 3                               336530303.0         383056.0   \n",
       "\n",
       "                                           cast_total_facebook_likes  \\\n",
       "movie_title                                                            \n",
       "Avatar                                                        4834.0   \n",
       "Pirates of the Caribbean: At World's End                     48350.0   \n",
       "The Dark Knight Rises                                       106759.0   \n",
       "John Carter                                                   1873.0   \n",
       "Spider-Man 3                                                 46055.0   \n",
       "\n",
       "                                           facenumber_in_poster  \\\n",
       "movie_title                                                       \n",
       "Avatar                                                      0.0   \n",
       "Pirates of the Caribbean: At World's End                    0.0   \n",
       "The Dark Knight Rises                                       0.0   \n",
       "John Carter                                                 1.0   \n",
       "Spider-Man 3                                                0.0   \n",
       "\n",
       "                                           num_user_for_reviews  \\\n",
       "movie_title                                                       \n",
       "Avatar                                                   3054.0   \n",
       "Pirates of the Caribbean: At World's End                 1238.0   \n",
       "The Dark Knight Rises                                    2701.0   \n",
       "John Carter                                               738.0   \n",
       "Spider-Man 3                                             1902.0   \n",
       "\n",
       "                                                ...         \\\n",
       "movie_title                                     ...          \n",
       "Avatar                                          ...          \n",
       "Pirates of the Caribbean: At World's End        ...          \n",
       "The Dark Knight Rises                           ...          \n",
       "John Carter                                     ...          \n",
       "Spider-Man 3                                    ...          \n",
       "\n",
       "                                           content_rating_PG-13  \\\n",
       "movie_title                                                       \n",
       "Avatar                                                      1.0   \n",
       "Pirates of the Caribbean: At World's End                    1.0   \n",
       "The Dark Knight Rises                                       1.0   \n",
       "John Carter                                                 1.0   \n",
       "Spider-Man 3                                                1.0   \n",
       "\n",
       "                                           content_rating_R  \\\n",
       "movie_title                                                   \n",
       "Avatar                                                  0.0   \n",
       "Pirates of the Caribbean: At World's End                0.0   \n",
       "The Dark Knight Rises                                   0.0   \n",
       "John Carter                                             0.0   \n",
       "Spider-Man 3                                            0.0   \n",
       "\n",
       "                                           content_rating_TV-14  \\\n",
       "movie_title                                                       \n",
       "Avatar                                                      0.0   \n",
       "Pirates of the Caribbean: At World's End                    0.0   \n",
       "The Dark Knight Rises                                       0.0   \n",
       "John Carter                                                 0.0   \n",
       "Spider-Man 3                                                0.0   \n",
       "\n",
       "                                           content_rating_TV-G  \\\n",
       "movie_title                                                      \n",
       "Avatar                                                     0.0   \n",
       "Pirates of the Caribbean: At World's End                   0.0   \n",
       "The Dark Knight Rises                                      0.0   \n",
       "John Carter                                                0.0   \n",
       "Spider-Man 3                                               0.0   \n",
       "\n",
       "                                           content_rating_TV-PG  \\\n",
       "movie_title                                                       \n",
       "Avatar                                                      0.0   \n",
       "Pirates of the Caribbean: At World's End                    0.0   \n",
       "The Dark Knight Rises                                       0.0   \n",
       "John Carter                                                 0.0   \n",
       "Spider-Man 3                                                0.0   \n",
       "\n",
       "                                           content_rating_Unrated  \\\n",
       "movie_title                                                         \n",
       "Avatar                                                        0.0   \n",
       "Pirates of the Caribbean: At World's End                      0.0   \n",
       "The Dark Knight Rises                                         0.0   \n",
       "John Carter                                                   0.0   \n",
       "Spider-Man 3                                                  0.0   \n",
       "\n",
       "                                           content_rating_X  agglo_8_labels  \\\n",
       "movie_title                                                                   \n",
       "Avatar                                                  0.0               7   \n",
       "Pirates of the Caribbean: At World's End                0.0               5   \n",
       "The Dark Knight Rises                                   0.0               5   \n",
       "John Carter                                             0.0               0   \n",
       "Spider-Man 3                                            0.0               5   \n",
       "\n",
       "                                           kmeans_12_labels  kmeans_8_labels  \n",
       "movie_title                                                                   \n",
       "Avatar                                                   10                4  \n",
       "Pirates of the Caribbean: At World's End                  7                3  \n",
       "The Dark Knight Rises                                     3                4  \n",
       "John Carter                                               4                1  \n",
       "Spider-Man 3                                              7                3  \n",
       "\n",
       "[5 rows x 258 columns]"
      ]
     },
     "execution_count": 16,
     "metadata": {},
     "output_type": "execute_result"
    }
   ],
   "source": [
    "tmp.head()"
   ]
  },
  {
   "cell_type": "code",
   "execution_count": 18,
   "metadata": {
    "scrolled": true
   },
   "outputs": [
    {
     "data": {
      "text/plain": [
       "[\"Pirates of the Caribbean: At World's End\\xc2\\xa0\",\n",
       " 'The Dark Knight Rises\\xc2\\xa0',\n",
       " 'Spider-Man 3\\xc2\\xa0',\n",
       " 'Harry Potter and the Half-Blood Prince\\xc2\\xa0',\n",
       " \"Pirates of the Caribbean: Dead Man's Chest\\xc2\\xa0\",\n",
       " 'Man of Steel\\xc2\\xa0',\n",
       " 'Pirates of the Caribbean: On Stranger Tides\\xc2\\xa0',\n",
       " 'The Hobbit: The Battle of the Five Armies\\xc2\\xa0',\n",
       " 'The Amazing Spider-Man\\xc2\\xa0',\n",
       " 'The Hobbit: The Desolation of Smaug\\xc2\\xa0',\n",
       " 'Skyfall\\xc2\\xa0',\n",
       " 'Spider-Man 2\\xc2\\xa0',\n",
       " 'Iron Man 3\\xc2\\xa0',\n",
       " 'Alice in Wonderland\\xc2\\xa0',\n",
       " 'Monsters University\\xc2\\xa0',\n",
       " 'Transformers: Revenge of the Fallen\\xc2\\xa0',\n",
       " 'Toy Story 3\\xc2\\xa0',\n",
       " 'Transformers: Dark of the Moon\\xc2\\xa0',\n",
       " 'Indiana Jones and the Kingdom of the Crystal Skull\\xc2\\xa0',\n",
       " 'The Chronicles of Narnia: The Lion, the Witch and the Wardrobe\\xc2\\xa0',\n",
       " 'Up\\xc2\\xa0',\n",
       " 'Iron Man\\xc2\\xa0',\n",
       " 'Iron Man 2\\xc2\\xa0',\n",
       " 'Captain America: The Winter Soldier\\xc2\\xa0',\n",
       " 'Guardians of the Galaxy\\xc2\\xa0',\n",
       " 'Inception\\xc2\\xa0',\n",
       " 'The Hobbit: An Unexpected Journey\\xc2\\xa0',\n",
       " 'Shrek the Third\\xc2\\xa0',\n",
       " 'Transformers\\xc2\\xa0',\n",
       " 'Harry Potter and the Order of the Phoenix\\xc2\\xa0',\n",
       " 'Harry Potter and the Goblet of Fire\\xc2\\xa0',\n",
       " 'I Am Legend\\xc2\\xa0',\n",
       " 'Frozen\\xc2\\xa0',\n",
       " 'The Matrix Reloaded\\xc2\\xa0',\n",
       " 'Star Trek\\xc2\\xa0',\n",
       " 'Spider-Man\\xc2\\xa0',\n",
       " 'The Twilight Saga: Breaking Dawn - Part 2\\xc2\\xa0',\n",
       " 'The Hunger Games: Catching Fire\\xc2\\xa0',\n",
       " \"Harry Potter and the Sorcerer's Stone\\xc2\\xa0\",\n",
       " 'Pirates of the Caribbean: The Curse of the Black Pearl\\xc2\\xa0',\n",
       " 'The Hunger Games: Mockingjay - Part 1\\xc2\\xa0',\n",
       " 'Star Wars: Episode III - Revenge of the Sith\\xc2\\xa0',\n",
       " 'Star Wars: Episode II - Attack of the Clones\\xc2\\xa0',\n",
       " 'Monsters, Inc.\\xc2\\xa0',\n",
       " 'Star Wars: Episode I - The Phantom Menace\\xc2\\xa0',\n",
       " 'Gravity\\xc2\\xa0',\n",
       " 'The Lord of the Rings: The Fellowship of the Ring\\xc2\\xa0',\n",
       " 'Harry Potter and the Chamber of Secrets\\xc2\\xa0',\n",
       " 'Finding Nemo\\xc2\\xa0',\n",
       " 'The Lord of the Rings: The Return of the King\\xc2\\xa0',\n",
       " 'The Lord of the Rings: The Two Towers\\xc2\\xa0',\n",
       " 'The Incredibles\\xc2\\xa0',\n",
       " 'The Hunger Games\\xc2\\xa0',\n",
       " 'The Lion King\\xc2\\xa0',\n",
       " 'Despicable Me 2\\xc2\\xa0',\n",
       " 'Shrek 2\\xc2\\xa0',\n",
       " 'Jurassic Park\\xc2\\xa0',\n",
       " 'Meet the Fockers\\xc2\\xa0',\n",
       " 'American Sniper\\xc2\\xa0',\n",
       " 'E.T. the Extra-Terrestrial\\xc2\\xa0',\n",
       " 'Spider-Man 3\\xc2\\xa0',\n",
       " 'Skyfall\\xc2\\xa0',\n",
       " 'Alice in Wonderland\\xc2\\xa0']"
      ]
     },
     "execution_count": 18,
     "metadata": {},
     "output_type": "execute_result"
    }
   ],
   "source": [
    "tmp.loc[tmp['agglo_8_labels'] == tmp.loc['Inception\\xc2\\xa0']['agglo_8_labels']].index.tolist()\n",
    "# Pirates of the Caribbean series\n",
    "# Spider Man series\n",
    "# Harry Potter series\n",
    "# The Hobbit series\n",
    "# Transformers series\n",
    "# Iron Man series\n",
    "# The Hunger Games series\n",
    "# Star Wars series\n",
    "# The Lord of the Rings series\n",
    "# Comments: It makes sense to group these series together, but it doesn't make much sense to put movies like Finding Nemo, Frozen\n",
    "# and Despicable Me also in this group. The style and contents are totally different, which implies that given this codified data,\n",
    "# the algorithm only classify movies by their popularity. Text model is definitely needed."
   ]
  },
  {
   "cell_type": "code",
   "execution_count": 19,
   "metadata": {
    "scrolled": true
   },
   "outputs": [
    {
     "data": {
      "text/plain": [
       "[\"Pirates of the Caribbean: At World's End\\xc2\\xa0\",\n",
       " 'Spider-Man 3\\xc2\\xa0',\n",
       " 'Tangled\\xc2\\xa0',\n",
       " 'Harry Potter and the Half-Blood Prince\\xc2\\xa0',\n",
       " 'Superman Returns\\xc2\\xa0',\n",
       " 'Man of Steel\\xc2\\xa0',\n",
       " 'Pirates of the Caribbean: On Stranger Tides\\xc2\\xa0',\n",
       " 'Men in Black 3\\xc2\\xa0',\n",
       " 'The Hobbit: The Battle of the Five Armies\\xc2\\xa0',\n",
       " 'The Amazing Spider-Man\\xc2\\xa0',\n",
       " 'The Hobbit: The Desolation of Smaug\\xc2\\xa0',\n",
       " 'King Kong\\xc2\\xa0',\n",
       " 'Skyfall\\xc2\\xa0',\n",
       " 'X-Men: The Last Stand\\xc2\\xa0',\n",
       " 'Monsters University\\xc2\\xa0',\n",
       " 'Transformers: Age of Extinction\\xc2\\xa0',\n",
       " 'Oz the Great and Powerful\\xc2\\xa0',\n",
       " 'The Amazing Spider-Man 2\\xc2\\xa0',\n",
       " 'Cars 2\\xc2\\xa0',\n",
       " 'World War Z\\xc2\\xa0',\n",
       " 'X-Men: Days of Future Past\\xc2\\xa0',\n",
       " 'Star Trek Into Darkness\\xc2\\xa0',\n",
       " 'Indiana Jones and the Kingdom of the Crystal Skull\\xc2\\xa0',\n",
       " 'Brave\\xc2\\xa0',\n",
       " 'WALL\\xc2\\xb7E\\xc2\\xa0',\n",
       " 'The Chronicles of Narnia: The Lion, the Witch and the Wardrobe\\xc2\\xa0',\n",
       " 'Up\\xc2\\xa0',\n",
       " 'Monsters vs. Aliens\\xc2\\xa0',\n",
       " 'Iron Man 2\\xc2\\xa0',\n",
       " 'Maleficent\\xc2\\xa0',\n",
       " 'Dawn of the Planet of the Apes\\xc2\\xa0',\n",
       " 'Captain America: The Winter Soldier\\xc2\\xa0',\n",
       " 'Shrek Forever After\\xc2\\xa0',\n",
       " 'Big Hero 6\\xc2\\xa0',\n",
       " 'How to Train Your Dragon\\xc2\\xa0',\n",
       " 'Inception\\xc2\\xa0',\n",
       " 'The Hobbit: An Unexpected Journey\\xc2\\xa0',\n",
       " 'Harry Potter and the Order of the Phoenix\\xc2\\xa0',\n",
       " 'Harry Potter and the Goblet of Fire\\xc2\\xa0',\n",
       " 'Hancock\\xc2\\xa0',\n",
       " 'I Am Legend\\xc2\\xa0',\n",
       " 'Charlie and the Chocolate Factory\\xc2\\xa0',\n",
       " 'Ratatouille\\xc2\\xa0',\n",
       " 'Batman Begins\\xc2\\xa0',\n",
       " 'The Matrix Reloaded\\xc2\\xa0',\n",
       " 'Thor: The Dark World\\xc2\\xa0',\n",
       " \"Madagascar 3: Europe's Most Wanted\\xc2\\xa0\",\n",
       " 'Mission: Impossible - Ghost Protocol\\xc2\\xa0',\n",
       " 'Star Trek\\xc2\\xa0',\n",
       " 'War of the Worlds\\xc2\\xa0',\n",
       " 'Harry Potter and the Prisoner of Azkaban\\xc2\\xa0',\n",
       " 'King Kong\\xc2\\xa0',\n",
       " 'Spider-Man 3\\xc2\\xa0',\n",
       " 'Skyfall\\xc2\\xa0',\n",
       " 'King Kong\\xc2\\xa0',\n",
       " 'Oz the Great and Powerful\\xc2\\xa0']"
      ]
     },
     "execution_count": 19,
     "metadata": {},
     "output_type": "execute_result"
    }
   ],
   "source": [
    "tmp.loc[tmp['kmeans_12_labels'] == tmp.loc['Inception\\xc2\\xa0']['kmeans_12_labels']].index.tolist()\n",
    "# This cluster looks more diversified that the above result, yet some of the series are still contained in this group."
   ]
  },
  {
   "cell_type": "code",
   "execution_count": 20,
   "metadata": {
    "scrolled": true
   },
   "outputs": [
    {
     "data": {
      "text/plain": [
       "[\"Pirates of the Caribbean: At World's End\\xc2\\xa0\",\n",
       " 'Spider-Man 3\\xc2\\xa0',\n",
       " 'Tangled\\xc2\\xa0',\n",
       " 'Harry Potter and the Half-Blood Prince\\xc2\\xa0',\n",
       " 'Superman Returns\\xc2\\xa0',\n",
       " 'Man of Steel\\xc2\\xa0',\n",
       " 'Pirates of the Caribbean: On Stranger Tides\\xc2\\xa0',\n",
       " 'Men in Black 3\\xc2\\xa0',\n",
       " 'The Hobbit: The Battle of the Five Armies\\xc2\\xa0',\n",
       " 'The Amazing Spider-Man\\xc2\\xa0',\n",
       " 'The Hobbit: The Desolation of Smaug\\xc2\\xa0',\n",
       " 'King Kong\\xc2\\xa0',\n",
       " 'Skyfall\\xc2\\xa0',\n",
       " 'Alice in Wonderland\\xc2\\xa0',\n",
       " 'X-Men: The Last Stand\\xc2\\xa0',\n",
       " 'Monsters University\\xc2\\xa0',\n",
       " 'Transformers: Age of Extinction\\xc2\\xa0',\n",
       " 'Oz the Great and Powerful\\xc2\\xa0',\n",
       " 'The Amazing Spider-Man 2\\xc2\\xa0',\n",
       " 'Cars 2\\xc2\\xa0',\n",
       " 'World War Z\\xc2\\xa0',\n",
       " 'X-Men: Days of Future Past\\xc2\\xa0',\n",
       " 'Star Trek Into Darkness\\xc2\\xa0',\n",
       " 'Transformers: Dark of the Moon\\xc2\\xa0',\n",
       " 'Indiana Jones and the Kingdom of the Crystal Skull\\xc2\\xa0',\n",
       " 'Brave\\xc2\\xa0',\n",
       " 'WALL\\xc2\\xb7E\\xc2\\xa0',\n",
       " 'The Chronicles of Narnia: The Lion, the Witch and the Wardrobe\\xc2\\xa0',\n",
       " 'Up\\xc2\\xa0',\n",
       " 'Monsters vs. Aliens\\xc2\\xa0',\n",
       " 'Iron Man\\xc2\\xa0',\n",
       " 'Iron Man 2\\xc2\\xa0',\n",
       " 'Maleficent\\xc2\\xa0',\n",
       " 'Dawn of the Planet of the Apes\\xc2\\xa0',\n",
       " 'Captain America: The Winter Soldier\\xc2\\xa0',\n",
       " 'Shrek Forever After\\xc2\\xa0',\n",
       " 'Big Hero 6\\xc2\\xa0',\n",
       " 'Wreck-It Ralph\\xc2\\xa0',\n",
       " 'How to Train Your Dragon\\xc2\\xa0',\n",
       " 'Guardians of the Galaxy\\xc2\\xa0',\n",
       " 'Interstellar\\xc2\\xa0',\n",
       " 'Inception\\xc2\\xa0',\n",
       " 'The Hobbit: An Unexpected Journey\\xc2\\xa0',\n",
       " 'Shrek the Third\\xc2\\xa0',\n",
       " 'Pearl Harbor\\xc2\\xa0',\n",
       " 'Transformers\\xc2\\xa0',\n",
       " 'Harry Potter and the Order of the Phoenix\\xc2\\xa0',\n",
       " 'Harry Potter and the Goblet of Fire\\xc2\\xa0',\n",
       " 'Hancock\\xc2\\xa0',\n",
       " 'I Am Legend\\xc2\\xa0',\n",
       " 'Charlie and the Chocolate Factory\\xc2\\xa0',\n",
       " 'Ratatouille\\xc2\\xa0',\n",
       " 'Batman Begins\\xc2\\xa0',\n",
       " 'The Matrix Reloaded\\xc2\\xa0',\n",
       " 'Thor: The Dark World\\xc2\\xa0',\n",
       " \"Madagascar 3: Europe's Most Wanted\\xc2\\xa0\",\n",
       " 'Armageddon\\xc2\\xa0',\n",
       " 'Mission: Impossible - Ghost Protocol\\xc2\\xa0',\n",
       " 'Star Trek\\xc2\\xa0',\n",
       " 'The Twilight Saga: Breaking Dawn - Part 2\\xc2\\xa0',\n",
       " 'War of the Worlds\\xc2\\xa0',\n",
       " 'Harry Potter and the Prisoner of Azkaban\\xc2\\xa0',\n",
       " \"Harry Potter and the Sorcerer's Stone\\xc2\\xa0\",\n",
       " 'Pirates of the Caribbean: The Curse of the Black Pearl\\xc2\\xa0',\n",
       " 'The Hunger Games: Mockingjay - Part 1\\xc2\\xa0',\n",
       " 'How the Grinch Stole Christmas\\xc2\\xa0',\n",
       " 'Star Wars: Episode II - Attack of the Clones\\xc2\\xa0',\n",
       " 'Monsters, Inc.\\xc2\\xa0',\n",
       " 'The Lord of the Rings: The Fellowship of the Ring\\xc2\\xa0',\n",
       " 'Cars\\xc2\\xa0',\n",
       " 'King Kong\\xc2\\xa0',\n",
       " 'Spider-Man 3\\xc2\\xa0',\n",
       " 'Skyfall\\xc2\\xa0',\n",
       " 'Alice in Wonderland\\xc2\\xa0',\n",
       " 'King Kong\\xc2\\xa0',\n",
       " 'Oz the Great and Powerful\\xc2\\xa0']"
      ]
     },
     "execution_count": 20,
     "metadata": {},
     "output_type": "execute_result"
    }
   ],
   "source": [
    "tmp.loc[tmp['kmeans_8_labels'] == tmp.loc['Inception\\xc2\\xa0']['kmeans_8_labels']].index.tolist()\n",
    "# Similar results. I should start building text models."
   ]
  }
 ],
 "metadata": {
  "kernelspec": {
   "display_name": "Python 2",
   "language": "python",
   "name": "python2"
  },
  "language_info": {
   "codemirror_mode": {
    "name": "ipython",
    "version": 2
   },
   "file_extension": ".py",
   "mimetype": "text/x-python",
   "name": "python",
   "nbconvert_exporter": "python",
   "pygments_lexer": "ipython2",
   "version": "2.7.13"
  }
 },
 "nbformat": 4,
 "nbformat_minor": 2
}
