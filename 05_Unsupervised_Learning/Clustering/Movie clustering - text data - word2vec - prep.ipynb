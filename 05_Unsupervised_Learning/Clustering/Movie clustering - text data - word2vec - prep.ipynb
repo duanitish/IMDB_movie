{
 "cells": [
  {
   "cell_type": "markdown",
   "metadata": {},
   "source": [
    "# Reference materials\n",
    "0. [Vector Representations of Words](https://www.tensorflow.org/tutorials/word2vec)\n",
    "1. [Word2Vec Tutorial Part 1 - The Skip-Gram Model](http://mccormickml.com/2016/04/19/word2vec-tutorial-the-skip-gram-model/)\n",
    "2. [Word2Vec Tutorial Part 2 - Negative Sampling](http://mccormickml.com/2017/01/11/word2vec-tutorial-part-2-negative-sampling/)\n",
    "3. [From word2vec to doc2vec: an approach driven by Chinese restaurant process](https://medium.com/kifi-engineering/from-word2vec-to-doc2vec-an-approach-driven-by-chinese-restaurant-process-93d3602eaa31)\n",
    "4. [Doc2Vec tutorial using Gensim](https://medium.com/@klintcho/doc2vec-tutorial-using-gensim-ab3ac03d3a1)\n",
    "5. [Sentiment Analysis Using Doc2Vec](http://linanqiu.github.io/2015/10/07/word2vec-sentiment/)\n",
    "6. [Understanding Convolutional Neural Networks for NLP](http://www.wildml.com/2015/11/understanding-convolutional-neural-networks-for-nlp/)\n",
    "7. [Implementing a CNN for Text Classification in TensorFlow](http://www.wildml.com/2015/12/implementing-a-cnn-for-text-classification-in-tensorflow/)\n",
    "8. [cnn-text-classification-github](https://github.com/cahya-wirawan/cnn-text-classification-tf)\n",
    "9. [word2vec - Google Code Archive](https://code.google.com/archive/p/word2vec/) - need to download pretrained word2vec\n",
    "10. [Using pretrained word embeddings](https://github.com/dennybritz/cnn-text-classification-tf/issues/17)"
   ]
  },
  {
   "cell_type": "markdown",
   "metadata": {},
   "source": [
    "# How to do document clustering with word2vec and doc2vec?\n",
    "\n",
    "**Steps:**\n",
    "1. Train a word2vec model to get word vectors\n",
    "    - Made word2vec_starter.py to work\n",
    "    - Question: How to feed the embeddings to the doc2vec model?\n",
    "        - Read in pre-trained embeddings\n",
    "2. Get doc2vec from word2vec, but HOW(in Tensorflow)???\n",
    "    - Chinese Restaurant Process method\n",
    "    - Gensim doc2vec\n",
    "    - CNN with multi-genre classification(See Viola's work)\n",
    "3. Clustering\n",
    "    - Feed document vectors as features to a classification model\n",
    "    - Calculate cosine similarity between document vectors, maybe cluster documents using the DBSCAN method?\n",
    "\n",
    "**Issues:**\n",
    "1. Both loss and accuracy are increasing during training, why?\n",
    "    - The loss should decrease as the training process goes on, except for some fluctuation introduced by the mini-batch gradient descent and/or regularization techniques like dropout(that introduces random noise)\n",
    "    - The accuracy is a measure of how good the predictions of the model are; it should increase during training\n",
    "    - The validation accuracy decrease indicates that the model is probably overfitting; if both loss and validation accuracy are decreasing, then the model is overfitting\n",
    "    - If both loss and validation accuracy are increasing, and the loss keeps growing(never decreases), then the model is diverging - there should be something wrong with the hyperparameters, usually you are using a too high learning rate"
   ]
  },
  {
   "cell_type": "code",
   "execution_count": 1,
   "metadata": {
    "collapsed": true
   },
   "outputs": [],
   "source": [
    "import numpy as np\n",
    "import pandas as pd\n",
    "import codecs\n",
    "from collections import Counter"
   ]
  },
  {
   "cell_type": "code",
   "execution_count": 2,
   "metadata": {
    "collapsed": true
   },
   "outputs": [],
   "source": [
    "imdb_with_storyline = pd.read_csv(\"../../01_Data/Outputs/imdb_with_storyline.csv\")"
   ]
  },
  {
   "cell_type": "code",
   "execution_count": 3,
   "metadata": {
    "collapsed": true
   },
   "outputs": [],
   "source": [
    "genres = Counter([item for sublist in list(imdb_with_storyline['genres'].str.split('|')) for item in sublist])\n",
    "genres = pd.DataFrame(genres.most_common()).set_index([0], drop=True)\n",
    "del genres.index.name\n",
    "genres.columns = ['Count']"
   ]
  },
  {
   "cell_type": "code",
   "execution_count": 4,
   "metadata": {},
   "outputs": [
    {
     "data": {
      "text/html": [
       "<div>\n",
       "<style>\n",
       "    .dataframe thead tr:only-child th {\n",
       "        text-align: right;\n",
       "    }\n",
       "\n",
       "    .dataframe thead th {\n",
       "        text-align: left;\n",
       "    }\n",
       "\n",
       "    .dataframe tbody tr th {\n",
       "        vertical-align: top;\n",
       "    }\n",
       "</style>\n",
       "<table border=\"1\" class=\"dataframe\">\n",
       "  <thead>\n",
       "    <tr style=\"text-align: right;\">\n",
       "      <th></th>\n",
       "      <th>Count</th>\n",
       "    </tr>\n",
       "  </thead>\n",
       "  <tbody>\n",
       "    <tr>\n",
       "      <th>Drama</th>\n",
       "      <td>2594</td>\n",
       "    </tr>\n",
       "    <tr>\n",
       "      <th>Comedy</th>\n",
       "      <td>1872</td>\n",
       "    </tr>\n",
       "    <tr>\n",
       "      <th>Thriller</th>\n",
       "      <td>1411</td>\n",
       "    </tr>\n",
       "    <tr>\n",
       "      <th>Action</th>\n",
       "      <td>1153</td>\n",
       "    </tr>\n",
       "    <tr>\n",
       "      <th>Romance</th>\n",
       "      <td>1107</td>\n",
       "    </tr>\n",
       "    <tr>\n",
       "      <th>Adventure</th>\n",
       "      <td>923</td>\n",
       "    </tr>\n",
       "    <tr>\n",
       "      <th>Crime</th>\n",
       "      <td>889</td>\n",
       "    </tr>\n",
       "    <tr>\n",
       "      <th>Sci-Fi</th>\n",
       "      <td>616</td>\n",
       "    </tr>\n",
       "    <tr>\n",
       "      <th>Fantasy</th>\n",
       "      <td>610</td>\n",
       "    </tr>\n",
       "    <tr>\n",
       "      <th>Horror</th>\n",
       "      <td>565</td>\n",
       "    </tr>\n",
       "    <tr>\n",
       "      <th>Family</th>\n",
       "      <td>546</td>\n",
       "    </tr>\n",
       "    <tr>\n",
       "      <th>Mystery</th>\n",
       "      <td>500</td>\n",
       "    </tr>\n",
       "    <tr>\n",
       "      <th>Biography</th>\n",
       "      <td>293</td>\n",
       "    </tr>\n",
       "    <tr>\n",
       "      <th>Animation</th>\n",
       "      <td>242</td>\n",
       "    </tr>\n",
       "    <tr>\n",
       "      <th>Music</th>\n",
       "      <td>214</td>\n",
       "    </tr>\n",
       "    <tr>\n",
       "      <th>War</th>\n",
       "      <td>213</td>\n",
       "    </tr>\n",
       "    <tr>\n",
       "      <th>History</th>\n",
       "      <td>207</td>\n",
       "    </tr>\n",
       "    <tr>\n",
       "      <th>Sport</th>\n",
       "      <td>182</td>\n",
       "    </tr>\n",
       "    <tr>\n",
       "      <th>Musical</th>\n",
       "      <td>132</td>\n",
       "    </tr>\n",
       "    <tr>\n",
       "      <th>Documentary</th>\n",
       "      <td>121</td>\n",
       "    </tr>\n",
       "    <tr>\n",
       "      <th>Western</th>\n",
       "      <td>97</td>\n",
       "    </tr>\n",
       "    <tr>\n",
       "      <th>Film-Noir</th>\n",
       "      <td>6</td>\n",
       "    </tr>\n",
       "    <tr>\n",
       "      <th>Short</th>\n",
       "      <td>5</td>\n",
       "    </tr>\n",
       "    <tr>\n",
       "      <th>News</th>\n",
       "      <td>3</td>\n",
       "    </tr>\n",
       "    <tr>\n",
       "      <th>Reality-TV</th>\n",
       "      <td>2</td>\n",
       "    </tr>\n",
       "    <tr>\n",
       "      <th>Game-Show</th>\n",
       "      <td>1</td>\n",
       "    </tr>\n",
       "  </tbody>\n",
       "</table>\n",
       "</div>"
      ],
      "text/plain": [
       "             Count\n",
       "Drama         2594\n",
       "Comedy        1872\n",
       "Thriller      1411\n",
       "Action        1153\n",
       "Romance       1107\n",
       "Adventure      923\n",
       "Crime          889\n",
       "Sci-Fi         616\n",
       "Fantasy        610\n",
       "Horror         565\n",
       "Family         546\n",
       "Mystery        500\n",
       "Biography      293\n",
       "Animation      242\n",
       "Music          214\n",
       "War            213\n",
       "History        207\n",
       "Sport          182\n",
       "Musical        132\n",
       "Documentary    121\n",
       "Western         97\n",
       "Film-Noir        6\n",
       "Short            5\n",
       "News             3\n",
       "Reality-TV       2\n",
       "Game-Show        1"
      ]
     },
     "execution_count": 4,
     "metadata": {},
     "output_type": "execute_result"
    }
   ],
   "source": [
    "genres"
   ]
  },
  {
   "cell_type": "code",
   "execution_count": 5,
   "metadata": {},
   "outputs": [
    {
     "data": {
      "text/plain": [
       "['Drama',\n",
       " 'Comedy',\n",
       " 'Thriller',\n",
       " 'Action',\n",
       " 'Romance',\n",
       " 'Adventure',\n",
       " 'Crime',\n",
       " 'Sci-Fi',\n",
       " 'Fantasy',\n",
       " 'Horror',\n",
       " 'Family',\n",
       " 'Mystery']"
      ]
     },
     "execution_count": 5,
     "metadata": {},
     "output_type": "execute_result"
    }
   ],
   "source": [
    "genres.loc[genres['Count']>=500].index.tolist()\n",
    "# convert other genres to 'Others'"
   ]
  },
  {
   "cell_type": "code",
   "execution_count": 6,
   "metadata": {},
   "outputs": [
    {
     "data": {
      "text/plain": [
       "['Biography',\n",
       " 'Animation',\n",
       " 'Music',\n",
       " 'War',\n",
       " 'History',\n",
       " 'Sport',\n",
       " 'Musical',\n",
       " 'Documentary',\n",
       " 'Western',\n",
       " 'Film-Noir',\n",
       " 'Short',\n",
       " 'News',\n",
       " 'Reality-TV',\n",
       " 'Game-Show']"
      ]
     },
     "execution_count": 6,
     "metadata": {},
     "output_type": "execute_result"
    }
   ],
   "source": [
    "genres.loc[genres['Count']<500].index.tolist()"
   ]
  },
  {
   "cell_type": "code",
   "execution_count": 9,
   "metadata": {
    "collapsed": true
   },
   "outputs": [],
   "source": [
    "imdb = imdb_with_storyline[['storyline', 'title_year', 'genres']].set_index(imdb_with_storyline['movie_title'])\n",
    "imdb = pd.concat([imdb[['storyline', 'title_year']], imdb['genres'].apply(lambda x: '|'.join(pd.Series(x))).str.get_dummies()], axis=1)\n",
    "imdb['Others'] = imdb[genres.loc[genres['Count']<500].index.tolist()].sum(axis=1).apply(lambda x: 1 if x > 0 else 0)\n",
    "imdb = imdb[['storyline', 'title_year'] + genres.loc[genres['Count']>=500].index.tolist() + ['Others']]"
   ]
  },
  {
   "cell_type": "code",
   "execution_count": 10,
   "metadata": {},
   "outputs": [
    {
     "data": {
      "text/html": [
       "<div>\n",
       "<style>\n",
       "    .dataframe thead tr:only-child th {\n",
       "        text-align: right;\n",
       "    }\n",
       "\n",
       "    .dataframe thead th {\n",
       "        text-align: left;\n",
       "    }\n",
       "\n",
       "    .dataframe tbody tr th {\n",
       "        vertical-align: top;\n",
       "    }\n",
       "</style>\n",
       "<table border=\"1\" class=\"dataframe\">\n",
       "  <thead>\n",
       "    <tr style=\"text-align: right;\">\n",
       "      <th></th>\n",
       "      <th>storyline</th>\n",
       "      <th>title_year</th>\n",
       "      <th>Drama</th>\n",
       "      <th>Comedy</th>\n",
       "      <th>Thriller</th>\n",
       "      <th>Action</th>\n",
       "      <th>Romance</th>\n",
       "      <th>Adventure</th>\n",
       "      <th>Crime</th>\n",
       "      <th>Sci-Fi</th>\n",
       "      <th>Fantasy</th>\n",
       "      <th>Horror</th>\n",
       "      <th>Family</th>\n",
       "      <th>Mystery</th>\n",
       "      <th>Others</th>\n",
       "    </tr>\n",
       "    <tr>\n",
       "      <th>movie_title</th>\n",
       "      <th></th>\n",
       "      <th></th>\n",
       "      <th></th>\n",
       "      <th></th>\n",
       "      <th></th>\n",
       "      <th></th>\n",
       "      <th></th>\n",
       "      <th></th>\n",
       "      <th></th>\n",
       "      <th></th>\n",
       "      <th></th>\n",
       "      <th></th>\n",
       "      <th></th>\n",
       "      <th></th>\n",
       "      <th></th>\n",
       "    </tr>\n",
       "  </thead>\n",
       "  <tbody>\n",
       "    <tr>\n",
       "      <th>Avatar</th>\n",
       "      <td>When his brother is killed in a robbery, parap...</td>\n",
       "      <td>2009.0</td>\n",
       "      <td>0</td>\n",
       "      <td>0</td>\n",
       "      <td>0</td>\n",
       "      <td>1</td>\n",
       "      <td>0</td>\n",
       "      <td>1</td>\n",
       "      <td>0</td>\n",
       "      <td>1</td>\n",
       "      <td>1</td>\n",
       "      <td>0</td>\n",
       "      <td>0</td>\n",
       "      <td>0</td>\n",
       "      <td>0</td>\n",
       "    </tr>\n",
       "    <tr>\n",
       "      <th>Pirates of the Caribbean: At World's End</th>\n",
       "      <td>After Elizabeth, Will, and Captain Barbossa re...</td>\n",
       "      <td>2007.0</td>\n",
       "      <td>0</td>\n",
       "      <td>0</td>\n",
       "      <td>0</td>\n",
       "      <td>1</td>\n",
       "      <td>0</td>\n",
       "      <td>1</td>\n",
       "      <td>0</td>\n",
       "      <td>0</td>\n",
       "      <td>1</td>\n",
       "      <td>0</td>\n",
       "      <td>0</td>\n",
       "      <td>0</td>\n",
       "      <td>0</td>\n",
       "    </tr>\n",
       "    <tr>\n",
       "      <th>Spectre</th>\n",
       "      <td>A cryptic message from the past sends James Bo...</td>\n",
       "      <td>2015.0</td>\n",
       "      <td>0</td>\n",
       "      <td>0</td>\n",
       "      <td>1</td>\n",
       "      <td>1</td>\n",
       "      <td>0</td>\n",
       "      <td>1</td>\n",
       "      <td>0</td>\n",
       "      <td>0</td>\n",
       "      <td>0</td>\n",
       "      <td>0</td>\n",
       "      <td>0</td>\n",
       "      <td>0</td>\n",
       "      <td>0</td>\n",
       "    </tr>\n",
       "    <tr>\n",
       "      <th>The Dark Knight Rises</th>\n",
       "      <td>Despite his tarnished reputation after the eve...</td>\n",
       "      <td>2012.0</td>\n",
       "      <td>0</td>\n",
       "      <td>0</td>\n",
       "      <td>1</td>\n",
       "      <td>1</td>\n",
       "      <td>0</td>\n",
       "      <td>0</td>\n",
       "      <td>0</td>\n",
       "      <td>0</td>\n",
       "      <td>0</td>\n",
       "      <td>0</td>\n",
       "      <td>0</td>\n",
       "      <td>0</td>\n",
       "      <td>0</td>\n",
       "    </tr>\n",
       "    <tr>\n",
       "      <th>Star Wars: Episode VII - The Force Awakens</th>\n",
       "      <td>NaN</td>\n",
       "      <td>NaN</td>\n",
       "      <td>0</td>\n",
       "      <td>0</td>\n",
       "      <td>0</td>\n",
       "      <td>0</td>\n",
       "      <td>0</td>\n",
       "      <td>0</td>\n",
       "      <td>0</td>\n",
       "      <td>0</td>\n",
       "      <td>0</td>\n",
       "      <td>0</td>\n",
       "      <td>0</td>\n",
       "      <td>0</td>\n",
       "      <td>1</td>\n",
       "    </tr>\n",
       "  </tbody>\n",
       "</table>\n",
       "</div>"
      ],
      "text/plain": [
       "                                                                                            storyline  \\\n",
       "movie_title                                                                                             \n",
       "Avatar                                              When his brother is killed in a robbery, parap...   \n",
       "Pirates of the Caribbean: At World's End            After Elizabeth, Will, and Captain Barbossa re...   \n",
       "Spectre                                             A cryptic message from the past sends James Bo...   \n",
       "The Dark Knight Rises                               Despite his tarnished reputation after the eve...   \n",
       "Star Wars: Episode VII - The Force Awakens     ...                                                NaN   \n",
       "\n",
       "                                                    title_year  Drama  Comedy  \\\n",
       "movie_title                                                                     \n",
       "Avatar                                                  2009.0      0       0   \n",
       "Pirates of the Caribbean: At World's End                2007.0      0       0   \n",
       "Spectre                                                 2015.0      0       0   \n",
       "The Dark Knight Rises                                   2012.0      0       0   \n",
       "Star Wars: Episode VII - The Force Awakens     ...         NaN      0       0   \n",
       "\n",
       "                                                    Thriller  Action  Romance  \\\n",
       "movie_title                                                                     \n",
       "Avatar                                                     0       1        0   \n",
       "Pirates of the Caribbean: At World's End                   0       1        0   \n",
       "Spectre                                                    1       1        0   \n",
       "The Dark Knight Rises                                      1       1        0   \n",
       "Star Wars: Episode VII - The Force Awakens     ...         0       0        0   \n",
       "\n",
       "                                                    Adventure  Crime  Sci-Fi  \\\n",
       "movie_title                                                                    \n",
       "Avatar                                                      1      0       1   \n",
       "Pirates of the Caribbean: At World's End                    1      0       0   \n",
       "Spectre                                                     1      0       0   \n",
       "The Dark Knight Rises                                       0      0       0   \n",
       "Star Wars: Episode VII - The Force Awakens     ...          0      0       0   \n",
       "\n",
       "                                                    Fantasy  Horror  Family  \\\n",
       "movie_title                                                                   \n",
       "Avatar                                                    1       0       0   \n",
       "Pirates of the Caribbean: At World's End                  1       0       0   \n",
       "Spectre                                                   0       0       0   \n",
       "The Dark Knight Rises                                     0       0       0   \n",
       "Star Wars: Episode VII - The Force Awakens     ...        0       0       0   \n",
       "\n",
       "                                                    Mystery  Others  \n",
       "movie_title                                                          \n",
       "Avatar                                                    0       0  \n",
       "Pirates of the Caribbean: At World's End                  0       0  \n",
       "Spectre                                                   0       0  \n",
       "The Dark Knight Rises                                     0       0  \n",
       "Star Wars: Episode VII - The Force Awakens     ...        0       1  "
      ]
     },
     "execution_count": 10,
     "metadata": {},
     "output_type": "execute_result"
    }
   ],
   "source": [
    "imdb.head()"
   ]
  },
  {
   "cell_type": "code",
   "execution_count": 11,
   "metadata": {},
   "outputs": [
    {
     "data": {
      "text/plain": [
       "0    3736\n",
       "1    1307\n",
       "Name: Others, dtype: int64"
      ]
     },
     "execution_count": 11,
     "metadata": {},
     "output_type": "execute_result"
    }
   ],
   "source": [
    "imdb['Others'].value_counts()"
   ]
  },
  {
   "cell_type": "code",
   "execution_count": 12,
   "metadata": {
    "collapsed": true
   },
   "outputs": [],
   "source": [
    "imdb_train = imdb.loc[imdb['title_year'] < 2015]\n",
    "imdb_test = imdb.loc[imdb['title_year'] >= 2015]"
   ]
  },
  {
   "cell_type": "code",
   "execution_count": 13,
   "metadata": {},
   "outputs": [
    {
     "data": {
      "text/plain": [
       "(4603, 15)"
      ]
     },
     "execution_count": 13,
     "metadata": {},
     "output_type": "execute_result"
    }
   ],
   "source": [
    "imdb_train.shape"
   ]
  },
  {
   "cell_type": "code",
   "execution_count": 14,
   "metadata": {
    "collapsed": true
   },
   "outputs": [],
   "source": [
    "imdb_train = imdb_train.drop(\"title_year\", 1)"
   ]
  },
  {
   "cell_type": "code",
   "execution_count": 15,
   "metadata": {},
   "outputs": [
    {
     "data": {
      "text/plain": [
       "(332, 15)"
      ]
     },
     "execution_count": 15,
     "metadata": {},
     "output_type": "execute_result"
    }
   ],
   "source": [
    "imdb_test.shape"
   ]
  },
  {
   "cell_type": "code",
   "execution_count": 16,
   "metadata": {
    "collapsed": true
   },
   "outputs": [],
   "source": [
    "imdb_test = imdb_test.drop(\"title_year\", 1)"
   ]
  },
  {
   "cell_type": "code",
   "execution_count": 17,
   "metadata": {
    "collapsed": true
   },
   "outputs": [],
   "source": [
    "imdb.to_csv(\"../../01_Data/Outputs/storyline_with_genres.csv\", index=True)"
   ]
  },
  {
   "cell_type": "code",
   "execution_count": 18,
   "metadata": {
    "collapsed": true
   },
   "outputs": [],
   "source": [
    "imdb_train.to_csv(\"../../01_Data/Outputs/storyline_with_genres_train.csv\", index=True)\n",
    "imdb_test.to_csv(\"../../01_Data/Outputs/storyline_with_genres_test.csv\", index=True)"
   ]
  },
  {
   "cell_type": "code",
   "execution_count": 19,
   "metadata": {
    "collapsed": true
   },
   "outputs": [],
   "source": [
    "imdb = pd.read_csv(\"../../01_Data/Outputs/storyline_with_genres.csv\", index_col=0)"
   ]
  },
  {
   "cell_type": "code",
   "execution_count": 20,
   "metadata": {},
   "outputs": [
    {
     "data": {
      "text/html": [
       "<div>\n",
       "<style>\n",
       "    .dataframe thead tr:only-child th {\n",
       "        text-align: right;\n",
       "    }\n",
       "\n",
       "    .dataframe thead th {\n",
       "        text-align: left;\n",
       "    }\n",
       "\n",
       "    .dataframe tbody tr th {\n",
       "        vertical-align: top;\n",
       "    }\n",
       "</style>\n",
       "<table border=\"1\" class=\"dataframe\">\n",
       "  <thead>\n",
       "    <tr style=\"text-align: right;\">\n",
       "      <th></th>\n",
       "      <th>storyline</th>\n",
       "      <th>title_year</th>\n",
       "      <th>Drama</th>\n",
       "      <th>Comedy</th>\n",
       "      <th>Thriller</th>\n",
       "      <th>Action</th>\n",
       "      <th>Romance</th>\n",
       "      <th>Adventure</th>\n",
       "      <th>Crime</th>\n",
       "      <th>Sci-Fi</th>\n",
       "      <th>Fantasy</th>\n",
       "      <th>Horror</th>\n",
       "      <th>Family</th>\n",
       "      <th>Mystery</th>\n",
       "      <th>Others</th>\n",
       "    </tr>\n",
       "    <tr>\n",
       "      <th>movie_title</th>\n",
       "      <th></th>\n",
       "      <th></th>\n",
       "      <th></th>\n",
       "      <th></th>\n",
       "      <th></th>\n",
       "      <th></th>\n",
       "      <th></th>\n",
       "      <th></th>\n",
       "      <th></th>\n",
       "      <th></th>\n",
       "      <th></th>\n",
       "      <th></th>\n",
       "      <th></th>\n",
       "      <th></th>\n",
       "      <th></th>\n",
       "    </tr>\n",
       "  </thead>\n",
       "  <tbody>\n",
       "    <tr>\n",
       "      <th>Avatar</th>\n",
       "      <td>When his brother is killed in a robbery, parap...</td>\n",
       "      <td>2009.0</td>\n",
       "      <td>0</td>\n",
       "      <td>0</td>\n",
       "      <td>0</td>\n",
       "      <td>1</td>\n",
       "      <td>0</td>\n",
       "      <td>1</td>\n",
       "      <td>0</td>\n",
       "      <td>1</td>\n",
       "      <td>1</td>\n",
       "      <td>0</td>\n",
       "      <td>0</td>\n",
       "      <td>0</td>\n",
       "      <td>0</td>\n",
       "    </tr>\n",
       "    <tr>\n",
       "      <th>Pirates of the Caribbean: At World's End</th>\n",
       "      <td>After Elizabeth, Will, and Captain Barbossa re...</td>\n",
       "      <td>2007.0</td>\n",
       "      <td>0</td>\n",
       "      <td>0</td>\n",
       "      <td>0</td>\n",
       "      <td>1</td>\n",
       "      <td>0</td>\n",
       "      <td>1</td>\n",
       "      <td>0</td>\n",
       "      <td>0</td>\n",
       "      <td>1</td>\n",
       "      <td>0</td>\n",
       "      <td>0</td>\n",
       "      <td>0</td>\n",
       "      <td>0</td>\n",
       "    </tr>\n",
       "    <tr>\n",
       "      <th>Spectre</th>\n",
       "      <td>A cryptic message from the past sends James Bo...</td>\n",
       "      <td>2015.0</td>\n",
       "      <td>0</td>\n",
       "      <td>0</td>\n",
       "      <td>1</td>\n",
       "      <td>1</td>\n",
       "      <td>0</td>\n",
       "      <td>1</td>\n",
       "      <td>0</td>\n",
       "      <td>0</td>\n",
       "      <td>0</td>\n",
       "      <td>0</td>\n",
       "      <td>0</td>\n",
       "      <td>0</td>\n",
       "      <td>0</td>\n",
       "    </tr>\n",
       "    <tr>\n",
       "      <th>The Dark Knight Rises</th>\n",
       "      <td>Despite his tarnished reputation after the eve...</td>\n",
       "      <td>2012.0</td>\n",
       "      <td>0</td>\n",
       "      <td>0</td>\n",
       "      <td>1</td>\n",
       "      <td>1</td>\n",
       "      <td>0</td>\n",
       "      <td>0</td>\n",
       "      <td>0</td>\n",
       "      <td>0</td>\n",
       "      <td>0</td>\n",
       "      <td>0</td>\n",
       "      <td>0</td>\n",
       "      <td>0</td>\n",
       "      <td>0</td>\n",
       "    </tr>\n",
       "    <tr>\n",
       "      <th>Star Wars: Episode VII - The Force Awakens</th>\n",
       "      <td>NaN</td>\n",
       "      <td>NaN</td>\n",
       "      <td>0</td>\n",
       "      <td>0</td>\n",
       "      <td>0</td>\n",
       "      <td>0</td>\n",
       "      <td>0</td>\n",
       "      <td>0</td>\n",
       "      <td>0</td>\n",
       "      <td>0</td>\n",
       "      <td>0</td>\n",
       "      <td>0</td>\n",
       "      <td>0</td>\n",
       "      <td>0</td>\n",
       "      <td>1</td>\n",
       "    </tr>\n",
       "  </tbody>\n",
       "</table>\n",
       "</div>"
      ],
      "text/plain": [
       "                                                                                            storyline  \\\n",
       "movie_title                                                                                             \n",
       "Avatar                                              When his brother is killed in a robbery, parap...   \n",
       "Pirates of the Caribbean: At World's End            After Elizabeth, Will, and Captain Barbossa re...   \n",
       "Spectre                                             A cryptic message from the past sends James Bo...   \n",
       "The Dark Knight Rises                               Despite his tarnished reputation after the eve...   \n",
       "Star Wars: Episode VII - The Force Awakens     ...                                                NaN   \n",
       "\n",
       "                                                    title_year  Drama  Comedy  \\\n",
       "movie_title                                                                     \n",
       "Avatar                                                  2009.0      0       0   \n",
       "Pirates of the Caribbean: At World's End                2007.0      0       0   \n",
       "Spectre                                                 2015.0      0       0   \n",
       "The Dark Knight Rises                                   2012.0      0       0   \n",
       "Star Wars: Episode VII - The Force Awakens     ...         NaN      0       0   \n",
       "\n",
       "                                                    Thriller  Action  Romance  \\\n",
       "movie_title                                                                     \n",
       "Avatar                                                     0       1        0   \n",
       "Pirates of the Caribbean: At World's End                   0       1        0   \n",
       "Spectre                                                    1       1        0   \n",
       "The Dark Knight Rises                                      1       1        0   \n",
       "Star Wars: Episode VII - The Force Awakens     ...         0       0        0   \n",
       "\n",
       "                                                    Adventure  Crime  Sci-Fi  \\\n",
       "movie_title                                                                    \n",
       "Avatar                                                      1      0       1   \n",
       "Pirates of the Caribbean: At World's End                    1      0       0   \n",
       "Spectre                                                     1      0       0   \n",
       "The Dark Knight Rises                                       0      0       0   \n",
       "Star Wars: Episode VII - The Force Awakens     ...          0      0       0   \n",
       "\n",
       "                                                    Fantasy  Horror  Family  \\\n",
       "movie_title                                                                   \n",
       "Avatar                                                    1       0       0   \n",
       "Pirates of the Caribbean: At World's End                  1       0       0   \n",
       "Spectre                                                   0       0       0   \n",
       "The Dark Knight Rises                                     0       0       0   \n",
       "Star Wars: Episode VII - The Force Awakens     ...        0       0       0   \n",
       "\n",
       "                                                    Mystery  Others  \n",
       "movie_title                                                          \n",
       "Avatar                                                    0       0  \n",
       "Pirates of the Caribbean: At World's End                  0       0  \n",
       "Spectre                                                   0       0  \n",
       "The Dark Knight Rises                                     0       0  \n",
       "Star Wars: Episode VII - The Force Awakens     ...        0       1  "
      ]
     },
     "execution_count": 20,
     "metadata": {},
     "output_type": "execute_result"
    }
   ],
   "source": [
    "imdb.head()"
   ]
  },
  {
   "cell_type": "code",
   "execution_count": 18,
   "metadata": {
    "collapsed": true
   },
   "outputs": [],
   "source": [
    "imdb['storyline'].to_csv(\"../../01_Data/Outputs/storyline.txt\", sep=\"\\n\", index=False)"
   ]
  }
 ],
 "metadata": {
  "kernelspec": {
   "display_name": "Python 2",
   "language": "python",
   "name": "python2"
  },
  "language_info": {
   "codemirror_mode": {
    "name": "ipython",
    "version": 2
   },
   "file_extension": ".py",
   "mimetype": "text/x-python",
   "name": "python",
   "nbconvert_exporter": "python",
   "pygments_lexer": "ipython2",
   "version": "2.7.13"
  }
 },
 "nbformat": 4,
 "nbformat_minor": 2
}
